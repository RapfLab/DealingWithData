{
 "cells": [
  {
   "cell_type": "code",
   "execution_count": 40,
   "metadata": {},
   "outputs": [
    {
     "name": "stdout",
     "output_type": "stream",
     "text": [
      "/Users/rebeccarafp/Documents/RapfLabPython/LangmuirData/NaClBen/3mMBen\n"
     ]
    }
   ],
   "source": [
    "##ScrapeLangmuirData\n",
    "##Written by Rebecca Rapf\n",
    "##June 10, 2021\n",
    "\n",
    "###Read in csv's of Langmuir trough data and export the useful bits for loading into Igor\n",
    "\n",
    "##import relevant libraries\n",
    "import pandas as pd\n",
    "import numpy as np\n",
    "import glob\n",
    "#import matplotlib as mpl\n",
    "#import matplotlib.pyplot as plt \n",
    "import os\n",
    "#import csv\n",
    "\n",
    "\n",
    "##Parameters to be changed for each analysis##\n",
    "FilePath = \"/Users/rebeccarafp/Documents/RapfLabPython/LangmuirData/NaClBen/3mMBen\" ##currently local only, will change to read from google drive\n",
    "OutFolder = \"Processed\"\n",
    "FileType = 'txt' #pick from \"xlsx\" or \"csv\"\n",
    "Surfactant = \"myristic_3mMNaClBen\" #name of surfactant and/or conditions\n",
    "#StockConcSame = \"yes\" #\"yes\" or \"no\" if same concentration was used for each run\n",
    "\n",
    "\n",
    "\n",
    "StockConc = 1#4.18 #mM \n",
    "MM = 284.48 #molecular weight in (g/mol)\n",
    "VolDeposit_uL = 15 #volume stock solution deposited in \n",
    "########\n",
    "\n",
    "##File-Specific Parameters####\n",
    "header_length = 43 #skip the first 43 lines in the file\n",
    "#########\n",
    "\n",
    "##Constants Library##\n",
    "AVOGADRO = 6.022*10**23\n",
    "uL_CONVERSION = 10**6 #number of uL in 1 L\n",
    "Ang_CONVERSION = 10**10 #number of Angstroms in 1 m\n",
    "cm_CONVERSION = 10**2 #number of cm in 1 m\n",
    "cm2_to_Ang2 = Ang_CONVERSION**2/cm_CONVERSION**2\n",
    "#print(cm2_to_Ang2)\n",
    "###########\n",
    "\n",
    "####Calculate number of molecules deposited###\n",
    "VolDeposit_L = VolDeposit_uL/uL_CONVERSION\n",
    "AmountDeposit = ((StockConc/MM))*(VolDeposit_L)\n",
    "NumMolecules = AmountDeposit*AVOGADRO\n",
    "#print(NumMolecules)\n",
    "\n",
    "##Set file path to where data is being held locally\n",
    "os.chdir(FilePath)\n",
    "print(os.getcwd())\n"
   ]
  },
  {
   "cell_type": "code",
   "execution_count": 41,
   "metadata": {},
   "outputs": [
    {
     "name": "stdout",
     "output_type": "stream",
     "text": [
      "['3mMnacl_1.txt', '15ulmyristic3mMnacl_1.txt', 'root1_myristic3mMnacl_2.txt', 'root2_myristic3mMnacl_3.txt']\n"
     ]
    }
   ],
   "source": [
    "files = sorted(glob.glob(\"*\"+FileType))\n",
    "files.sort(key=os.path.getmtime)\n",
    "print(files)\n",
    "\n",
    "num_files = len(files)\n",
    "\n",
    "AllFiles = pd.DataFrame()\n",
    "\n",
    "for entry in range(num_files):\n",
    "    name = files[entry]\n",
    "    outname = name[:-(len(FileType)+1)]\n",
    "    #print(entry)\n",
    "    #print(name)\n",
    "    if FileType == \"txt\":\n",
    "        CurrFile = pd.read_csv(files[entry], delimiter = \"\\t\",encoding = 'unicode_escape') \n",
    "        CurrFile = CurrFile.rename(columns={CurrFile.columns[1]: \"A_cm2\"})\n",
    "        CurrFile = CurrFile.rename(columns={CurrFile.columns[5]: \"P_mN_m\"})\n",
    "        A_Ang2 = (CurrFile[\"A_cm2\"]*cm2_to_Ang2)\n",
    "        MMA=A_Ang2/NumMolecules\n",
    "        \n",
    "        IndFile = pd.DataFrame(columns = [outname+\"_Acm2\",outname+\"_P\",outname+\"_MMA\"])\n",
    "        IndFile[outname+\"_Acm2\"]=CurrFile[\"A_cm2\"]\n",
    "        IndFile[outname+\"_P\"]=CurrFile[\"P_mN_m\"]\n",
    "        IndFile[outname+\"_MMA\"]=MMA\n",
    "        \n",
    "        AllFiles[outname+\"_Acm2\"]=CurrFile[\"A_cm2\"]\n",
    "        AllFiles[outname+\"_P\"]=CurrFile[\"P_mN_m\"]\n",
    "        AllFiles[outname+\"_MMA\"]=MMA\n",
    "        \n",
    "        #print(CurrFile)\n",
    "#     if FileType == \"csv\":\n",
    "#         CurrFile = pd.read_csv(files[entry],skiprows = header_length)\n",
    "    elif FileType == \"xlsx\":\n",
    "        #CompFile = files[entry]\n",
    "        #print(CompFile)\n",
    "        CurrFile = pd.read_excel(files[entry],skiprows = header_length)\n",
    "        #print(CurrFile)\n",
    "        #print(\"excel\")\n",
    "        CurrFile = CurrFile.rename(columns={CurrFile.columns[3]: \"A_cm2\"})\n",
    "        CurrFile = CurrFile.rename(columns={CurrFile.columns[4]: \"MMA\"})\n",
    "        MMA = CurrFile[\"MMA\"]\n",
    "        print(CurrFile)\n",
    "        \n",
    "#         #MMACheck = CurrFile[\"MMA\"]\n",
    "#         #print(CurrFile.iloc[0,4])\n",
    "        if np.isnan(CurrFile.iloc[0,4]) == True:\n",
    "            A_Ang2 = (CurrFile[\"A_cm2\"]*cm2_to_Ang2)\n",
    "            #CurrFile.insert(4, \"A_Ang2\", A_Ang2)\n",
    "            MMA=A_Ang2/NumMolecules\n",
    "            #print(MMA)\n",
    "            #print(\"fixing\")\n",
    "        \n",
    "        \n",
    "        IndFile = pd.DataFrame(columns = [outname+\"_Acm2\",outname+\"_P\",outname+\"_MMA\"])\n",
    "        IndFile[outname+\"_Acm2\"]=CurrFile[\"A_cm2\"]\n",
    "        IndFile[outname+\"_P\"]=CurrFile[\"P1[mN/m]\"]\n",
    "        IndFile[outname+\"_MMA\"]=CurrFile[\"MMA\"]\n",
    "        \n",
    "        AllFiles[outname+\"_Acm2\"]=CurrFile[\"A_cm2\"]\n",
    "        AllFiles[outname+\"_P\"]=CurrFile[\"P1[mN/m]\"]\n",
    "        AllFiles[outname+\"_MMA\"]=MMA\n",
    "        \n",
    "        IndFile.to_csv(\"../../\"+OutFolder+\"/\"+outname+\"_Processed.csv\")\n",
    " \n",
    "AllFiles.to_csv(\"../../\"+OutFolder+\"/\"+Surfactant+\"_AllProcessed.csv\")\n"
   ]
  },
  {
   "cell_type": "code",
   "execution_count": null,
   "metadata": {},
   "outputs": [],
   "source": []
  },
  {
   "cell_type": "code",
   "execution_count": null,
   "metadata": {},
   "outputs": [],
   "source": []
  }
 ],
 "metadata": {
  "kernelspec": {
   "display_name": "Python 3",
   "language": "python",
   "name": "python3"
  },
  "language_info": {
   "codemirror_mode": {
    "name": "ipython",
    "version": 3
   },
   "file_extension": ".py",
   "mimetype": "text/x-python",
   "name": "python",
   "nbconvert_exporter": "python",
   "pygments_lexer": "ipython3",
   "version": "3.8.3"
  }
 },
 "nbformat": 4,
 "nbformat_minor": 5
}
