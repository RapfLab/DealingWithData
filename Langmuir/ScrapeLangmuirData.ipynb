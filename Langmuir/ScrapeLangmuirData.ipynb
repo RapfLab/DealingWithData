{
 "cells": [
  {
   "cell_type": "code",
   "execution_count": 1,
   "id": "a4167eaf",

   "metadata": {},
   "outputs": [
    {
<<<<<<< HEAD
     "ename": "FileNotFoundError",
     "evalue": "[WinError 3] The system cannot find the path specified: '/Users/rebeccarafp/Documents/RapfLabPython/LangmuirData/NaClBen/3mMBen'",
     "output_type": "error",
     "traceback": [
      "\u001b[1;31m---------------------------------------------------------------------------\u001b[0m",
      "\u001b[1;31mFileNotFoundError\u001b[0m                         Traceback (most recent call last)",
      "\u001b[1;32m<ipython-input-1-24f0c8407920>\u001b[0m in \u001b[0;36m<module>\u001b[1;34m\u001b[0m\n\u001b[0;32m     49\u001b[0m \u001b[1;33m\u001b[0m\u001b[0m\n\u001b[0;32m     50\u001b[0m \u001b[1;31m##Set file path to where data is being held locally\u001b[0m\u001b[1;33m\u001b[0m\u001b[1;33m\u001b[0m\u001b[1;33m\u001b[0m\u001b[0m\n\u001b[1;32m---> 51\u001b[1;33m \u001b[0mos\u001b[0m\u001b[1;33m.\u001b[0m\u001b[0mchdir\u001b[0m\u001b[1;33m(\u001b[0m\u001b[0mFilePath\u001b[0m\u001b[1;33m)\u001b[0m\u001b[1;33m\u001b[0m\u001b[1;33m\u001b[0m\u001b[0m\n\u001b[0m\u001b[0;32m     52\u001b[0m \u001b[0mprint\u001b[0m\u001b[1;33m(\u001b[0m\u001b[0mos\u001b[0m\u001b[1;33m.\u001b[0m\u001b[0mgetcwd\u001b[0m\u001b[1;33m(\u001b[0m\u001b[1;33m)\u001b[0m\u001b[1;33m)\u001b[0m\u001b[1;33m\u001b[0m\u001b[1;33m\u001b[0m\u001b[0m\n",
      "\u001b[1;31mFileNotFoundError\u001b[0m: [WinError 3] The system cannot find the path specified: '/Users/rebeccarafp/Documents/RapfLabPython/LangmuirData/NaClBen/3mMBen'"
=======
     "name": "stdout",
     "output_type": "stream",
     "text": [

      "/Users/rebeccarafp/Documents/RapfLabPython/LangmuirData/NaClBen/3mMBen\n"
>>>>>>> 268d5bf327f38bc81be0d9c9c3d238777ca33c06
     ]
    }
   ],
   "source": [
    "##ScrapeLangmuirData\n",
    "##Written by Rebecca Rapf\n",
    "##June 10, 2021\n",
    "\n",
    "###Read in csv's of Langmuir trough data and export the useful bits for loading into Igor\n",
    "\n",
    "##import relevant libraries\n",
    "import pandas as pd\n",
    "import numpy as np\n",
    "import glob\n",
    "import matplotlib as mpl\n",
    "import matplotlib.pyplot as plt \n",
    "import os\n",
    "#import csv\n",
    "\n",
    "\n",
    "##Parameters to be changed for each analysis##\n",

    "FilePath = \"/Users/rebeccarafp/Documents/RapfLabPython/LangmuirData/NaClBen/3mMBen\" ##currently local only, will change to read from google drive\n",
    "OutFolder = \"Processed\"\n",
    "FileType = \"txt\" #pick from \"xlsx\" or \"csv\"\n",
    "Surfactant = \"myristic_3mMNaClBen\" #name of surfactant and/or conditions\n",

    "#StockConcSame = \"yes\" #\"yes\" or \"no\" if same concentration was used for each run\n",
    "\n",
    "\n",
    "\n",

    "StockConc = 1#4.18 #mM \n",
    "MM = 284.48 #molecular weight in (g/mol)\n",

    "VolDeposit_uL = 15 #volume stock solution deposited in \n",
    "########\n",
    "\n",
    "##File-Specific Parameters####\n",
    "header_length = 43 #skip the first 43 lines in the file\n",
    "#########\n",
    "\n",
    "##Constants Library##\n",
    "AVOGADRO = 6.022*10**23\n",
    "uL_CONVERSION = 10**6 #number of uL in 1 L\n",
    "Ang_CONVERSION = 10**10 #number of Angstroms in 1 m\n",
    "cm_CONVERSION = 10**2 #number of cm in 1 m\n",
    "cm2_to_Ang2 = Ang_CONVERSION**2/cm_CONVERSION**2\n",
    "#print(cm2_to_Ang2)\n",
    "###########\n",
    "\n",
    "####Calculate number of molecules deposited###\n",
    "VolDeposit_L = VolDeposit_uL/uL_CONVERSION\n",
    "AmountDeposit = ((StockConc/MM))*(VolDeposit_L)\n",
    "NumMolecules = AmountDeposit*AVOGADRO\n",
    "#print(NumMolecules)\n",
    "\n",
    "##Set file path to where data is being held locally\n",
    "os.chdir(FilePath)\n",
    "print(os.getcwd())\n"
   ]
  },
  {
   "cell_type": "code",
<<<<<<< HEAD
   "execution_count": null,
   "id": "a7c9d779",
   "metadata": {},
   "outputs": [],
=======

   "execution_count": 18,
   "metadata": {},
   "outputs": [
    {
     "name": "stdout",
     "output_type": "stream",
     "text": [
      "['333mMcacl2_1.txt', '15ulmyristic333mMcacl2_1.txt', '333mMcacl2_2.txt', '15ulmyristic333mMcacl2_2.txt', '333mMcacl2_3.txt', '15ulmyristic333mMcacl2_3.txt']\n"

  
     ]
    }
   ],
>>>>>>> 268d5bf327f38bc81be0d9c9c3d238777ca33c06
   "source": [
    "files = sorted(glob.glob(\"*\"+FileType))\n",
    "files.sort(key=os.path.getmtime)\n",
    "print(files)\n",
    "\n",
    "num_files = len(files)\n",
    "\n",
    "AllFiles = pd.DataFrame()\n",
    "\n",
    "for entry in range(len(files)):\n",
    "    name = files[entry]\n",
    "    outname = name[:-(len(FileType)+1)]\n",
    "    #print(name)\n",
    "    if FileType == \"txt\":\n",
    "        CurrFile = pd.read_csv(files[entry])\n",
    "        print(CurrFile)\n",
    "    if FileType == \"csv\":\n",
    "        CurrFile = pd.read_csv(files[entry],skiprows = header_length)\n",
    "    elif FileType == \"xlsx\":\n",
    "        #CompFile = files[entry]\n",
    "        #print(CompFile)\n",
    "        CurrFile = pd.read_excel(files[entry],skiprows = header_length)\n",
    "        #print(CurrFile)\n",
    "        #print(\"excel\")\n",
    "        CurrFile = CurrFile.rename(columns={CurrFile.columns[3]: \"A_cm2\"})\n",
    "        CurrFile = CurrFile.rename(columns={CurrFile.columns[4]: \"MMA\"})\n",
    "        MMA = CurrFile[\"MMA\"]\n",
    "        #print(CurrFile)\n",
    "        \n",
    "        #MMACheck = CurrFile[\"MMA\"]\n",
    "        #print(CurrFile.iloc[0,4])\n",
    "        if np.isnan(CurrFile.iloc[0,4]) == True:\n",
    "            A_Ang2 = (CurrFile[\"A_cm2\"]*cm2_to_Ang2)\n",

    "            CurrFile.insert(4, \"A_Ang2\", A_Ang2)\n",
    "            MMA=CurrFile[\"A_Ang2\"]/NumMolecules\n",

    "            print(\"fixing\")\n",
    "        \n",
    "        \n",
    "        IndFile = pd.DataFrame(columns = [outname+\"_Acm2\",outname+\"_P\",outname+\"_MMA\"])\n",
    "        IndFile[outname+\"_Acm2\"]=CurrFile[\"A_cm2\"]\n",
    "        IndFile[outname+\"_P\"]=CurrFile[\"P1[mN/m]\"]\n",
    "        IndFile[outname+\"_MMA\"]=MMA\n",
    "        \n",
    "        AllFiles[outname+\"_Acm2\"]=CurrFile[\"A_cm2\"]\n",
    "        AllFiles[outname+\"_P\"]=CurrFile[\"P1[mN/m]\"]\n",
    "        AllFiles[outname+\"_MMA\"]=MMA\n",
    "        \n",

    "        IndFile.to_csv(\"../../\"+OutFolder+\"/\"+outname+\"_Processed.csv\")\n",
    "\n",

    "AllFiles.to_csv(\"../../\"+OutFolder+\"/\"+Surfactant+\"_AllProcessed.csv\")\n"
   ]
  },
  {
   "cell_type": "code",
   "execution_count": null,
   "id": "edc4961f",
   "metadata": {},
   "outputs": [],
   "source": []
  },
  {
   "cell_type": "code",
   "execution_count": null,
   "id": "571624ec",
   "metadata": {},
   "outputs": [],
   "source": []
  }
 ],
 "metadata": {
  "kernelspec": {
   "display_name": "Python 3",
   "language": "python",
   "name": "python3"
  },
  "language_info": {
   "codemirror_mode": {
    "name": "ipython",
    "version": 3
   },
   "file_extension": ".py",
   "mimetype": "text/x-python",
   "name": "python",
   "nbconvert_exporter": "python",
   "pygments_lexer": "ipython3",
   "version": "3.8.8"
  }
 },
 "nbformat": 4,
 "nbformat_minor": 5
}
