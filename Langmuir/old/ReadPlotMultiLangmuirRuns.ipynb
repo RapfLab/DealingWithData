{
 "cells": [
  {
   "cell_type": "code",
   "execution_count": 21,
   "metadata": {},
   "outputs": [
    {
     "name": "stdout",
     "output_type": "stream",
     "text": [
      "/Users/rebeccarafp/Documents/RapfLabPython/Water\n"
     ]
    }
   ],
   "source": [
    "##ReadingPlottingCSV\n",
    "##Written by Tim Mose and Rebecca Rapf\n",
    "##June 3, 2021\n",
    "\n",
    "###import multiple files of Langmuir trough data and plot them\n",
    "###Export plots to png files\n",
    "\n",
    "##import relevant libraries\n",
    "import pandas as pd\n",
    "import numpy as np\n",
    "import glob\n",
    "import matplotlib as mpl\n",
    "import matplotlib.pyplot as plt \n",
    "import os\n",
    "#import csv\n",
    "\n",
    "\n",
    "##Parameters to be changed for each analysis##\n",
    "FilePath = \"/Users/rebeccarafp/Documents/RapfLabPython/Water/\" ##currently local only, will change to read from google drive\n",
    "OutFolder = \"Processed\"\n",
    "#FileName = \"210528_1419_MA\" #name only not file extension\n",
    "FileType = \"xlsx\" #pick from \"xlsx\" or \"csv\"\n",
    "Surfactant = \"myristic_water\" #name of surfactant and/or conditions\n",
    "StockConcSame = \"yes\" #\"yes\" or \"no\" if same concentration was used for each run\n",
    "\n",
    "\n",
    "StockConc = 4.18 #mM ignore old comment #(mg/mL) of chloroform stock solution\n",
    "MM = 284.48 #molecular weight in (g/mol)\n",
    "VolDeposit_uL = 20 #volume stock solution deposited in \n",
    "########\n",
    "\n",
    "##File-Specific Parameters####\n",
    "header_length = 43 #skip the first 43 lines in the file\n",
    "#########\n",
    "\n",
    "##Constants Library##\n",
    "AVOGADRO = 6.022*10**23\n",
    "uL_CONVERSION = 10**6 #number of uL in 1 L\n",
    "Ang_CONVERSION = 10**10 #number of Angstroms in 1 m\n",
    "cm_CONVERSION = 10**2 #number of cm in 1 m\n",
    "cm2_to_Ang2 = Ang_CONVERSION**2/cm_CONVERSION**2\n",
    "#print(cm2_to_Ang2)\n",
    "###########\n",
    "\n",
    "####Calculate number of molecules deposited###\n",
    "VolDeposit_L = VolDeposit_uL/uL_CONVERSION\n",
    "AmountDeposit = ((StockConc/1000))*(VolDeposit_L)\n",
    "NumMolecules = AmountDeposit*AVOGADRO\n",
    "#print(NumMolecules)\n",
    "\n",
    "##Set file path to where data is being held locally\n",
    "os.chdir(FilePath)\n",
    "print(os.getcwd())\n"
   ]
  },
  {
   "cell_type": "code",
   "execution_count": 25,
   "metadata": {},
   "outputs": [
    {
     "name": "stdout",
     "output_type": "stream",
     "text": [
      "['210601_0931_MA.xlsx', '210602_1048_MA.xlsx', '210602_1218_MA.xlsx', '210528_1419_MA.xlsx']\n"
     ]
    }
   ],
   "source": [
    "files = sorted(glob.glob(\"21\"+\"*\"+FileType))\n",
    "files.sort(key=os.path.getmtime)\n",
    "print(files)\n",
    "\n",
    "num_files = len(files)\n",
    "\n",
    "AllFiles = pd.DataFrame()\n",
    "\n",
    "for entry in range(len(files)):\n",
    "    name = files[entry]\n",
    "    outname = name[:-(len(FileType)+1)]\n",
    "    #print(name)\n",
    "    if FileType == \"csv\":\n",
    "        CurrFile = pd.read_csv(files[entry],skiprows = header_length)\n",
    "    elif FileType == \"xlsx\":\n",
    "        #CompFile = files[entry]\n",
    "        #print(CompFile)\n",
    "        CurrFile = pd.read_excel(files[entry],skiprows = header_length)\n",
    "        #print(CurrFile)\n",
    "        #print(\"excel\")\n",
    "        CurrFile = CurrFile.rename(columns={CurrFile.columns[3]: \"A_cm2\"})\n",
    "        #print(CurrFile)\n",
    "        \n",
    "        A_Ang2 = (CurrFile[\"A_cm2\"]*cm2_to_Ang2)\n",
    "        CurrFile.insert(4, \"A_Ang2\", A_Ang2)\n",
    "\n",
    "        MMA=CurrFile[\"A_Ang2\"]/NumMolecules\n",
    "        \n",
    "        \n",
    "        IndFile = pd.DataFrame(columns = [outname+\"_Acm2\",outname+\"_P\",outname+\"_MMA\"])\n",
    "        IndFile[outname+\"_Acm2\"]=CurrFile[\"A_cm2\"]\n",
    "        IndFile[outname+\"_P\"]=CurrFile[\"P1[mN/m]\"]\n",
    "        IndFile[outname+\"_MMA\"]=MMA\n",
    "        \n",
    "        AllFiles[outname+\"_Acm2\"]=CurrFile[\"A_cm2\"]\n",
    "        AllFiles[outname+\"_P\"]=CurrFile[\"P1[mN/m]\"]\n",
    "        AllFiles[outname+\"_MMA\"]=MMA\n",
    "        \n",
    "        IndFile.to_csv(OutFolder+\"/\"+outname+\"_Processed.csv\")\n",
    " \n",
    "AllFiles.to_csv(OutFolder+\"/\"+Surfactant+\"_AllProcessed.csv\")\n",
    "\n",
    "#####Read in a single Langmuir trough file\n",
    "###File Handling -- Reads in the file of interest into a Pandas DataFrame ###\n",
    "# if \"CleanData\" in locals():\n",
    "#     del CleanData #housekeeping for memory reasons\n",
    "\n",
    "# if FileType == \"csv\":\n",
    "#     CompFile = FileName+\".\"+FileType\n",
    "#     All=pd.read_csv(CompFile,skiprows = header_length)\n",
    "# elif FileType == \"xlsx\":\n",
    "#     CompFile = FileName+\".\"+FileType\n",
    "#     #print(CompFile)\n",
    "#     All=pd.read_excel(CompFile,skiprows = header_length)\n",
    "#     #print(\"excel\")\n",
    "# else:\n",
    "#     print(\"Unrecognized File Type, choose either 'csv' or 'excel'\")\n",
    "\n",
    "# #Renames area column to get rid of formatted superscript issue\n",
    "# CleanData = All.rename(columns={All.columns[3]: \"A_cm2\"})\n",
    "\n",
    "#CleanData\n"
   ]
  },
  {
   "cell_type": "code",
   "execution_count": 19,
   "metadata": {
    "scrolled": true
   },
   "outputs": [
    {
     "ename": "NameError",
     "evalue": "name 'CleanData' is not defined",
     "output_type": "error",
     "traceback": [
      "\u001b[0;31m---------------------------------------------------------------------------\u001b[0m",
      "\u001b[0;31mNameError\u001b[0m                                 Traceback (most recent call last)",
      "\u001b[0;32m<ipython-input-19-8696a11794f2>\u001b[0m in \u001b[0;36m<module>\u001b[0;34m\u001b[0m\n\u001b[0;32m----> 1\u001b[0;31m \u001b[0mCleanData\u001b[0m\u001b[0;34m.\u001b[0m\u001b[0minsert\u001b[0m\u001b[0;34m(\u001b[0m\u001b[0;36m7\u001b[0m\u001b[0;34m,\u001b[0m \u001b[0;34m\"NumMolecules\"\u001b[0m\u001b[0;34m,\u001b[0m \u001b[0mNumMolecules\u001b[0m\u001b[0;34m)\u001b[0m\u001b[0;34m\u001b[0m\u001b[0;34m\u001b[0m\u001b[0m\n\u001b[0m\u001b[1;32m      2\u001b[0m \u001b[0;31m#inserts column with amount of molecules\u001b[0m\u001b[0;34m\u001b[0m\u001b[0;34m\u001b[0m\u001b[0;34m\u001b[0m\u001b[0m\n\u001b[1;32m      3\u001b[0m \u001b[0;34m\u001b[0m\u001b[0m\n\u001b[1;32m      4\u001b[0m \u001b[0mA_Ang2\u001b[0m \u001b[0;34m=\u001b[0m \u001b[0;34m(\u001b[0m\u001b[0mCleanData\u001b[0m\u001b[0;34m[\u001b[0m\u001b[0;34m\"A_cm2\"\u001b[0m\u001b[0;34m]\u001b[0m\u001b[0;34m*\u001b[0m\u001b[0mcm2_to_Ang2\u001b[0m\u001b[0;34m)\u001b[0m\u001b[0;34m\u001b[0m\u001b[0;34m\u001b[0m\u001b[0m\n\u001b[1;32m      5\u001b[0m \u001b[0mCleanData\u001b[0m\u001b[0;34m.\u001b[0m\u001b[0minsert\u001b[0m\u001b[0;34m(\u001b[0m\u001b[0;36m4\u001b[0m\u001b[0;34m,\u001b[0m \u001b[0;34m\"A_Ang2\"\u001b[0m\u001b[0;34m,\u001b[0m \u001b[0mA_Ang2\u001b[0m\u001b[0;34m)\u001b[0m\u001b[0;34m\u001b[0m\u001b[0;34m\u001b[0m\u001b[0m\n",
      "\u001b[0;31mNameError\u001b[0m: name 'CleanData' is not defined"
     ]
    }
   ],
   "source": [
    "CleanData.insert(7, \"NumMolecules\", NumMolecules)\n",
    "#inserts column with amount of molecules \n",
    "\n",
    "A_Ang2 = (CleanData[\"A_cm2\"]*cm2_to_Ang2)\n",
    "CleanData.insert(4, \"A_Ang2\", A_Ang2)\n",
    "\n",
    "MMA=(CleanData[\"A_Ang2\"]/CleanData[\"NumMolecules\"])\n",
    "CleanData.insert(9, \"Mean Molecular Area\", MMA)\n",
    "\n",
    "\n",
    "#CleanData"
   ]
  },
  {
   "cell_type": "code",
   "execution_count": 20,
   "metadata": {},
   "outputs": [
    {
     "ename": "NameError",
     "evalue": "name 'CleanData' is not defined",
     "output_type": "error",
     "traceback": [
      "\u001b[0;31m---------------------------------------------------------------------------\u001b[0m",
      "\u001b[0;31mNameError\u001b[0m                                 Traceback (most recent call last)",
      "\u001b[0;32m<ipython-input-20-ffa452c83c49>\u001b[0m in \u001b[0;36m<module>\u001b[0;34m\u001b[0m\n\u001b[0;32m----> 1\u001b[0;31m \u001b[0mAP\u001b[0m \u001b[0;34m=\u001b[0m \u001b[0mpd\u001b[0m\u001b[0;34m.\u001b[0m\u001b[0mDataFrame\u001b[0m\u001b[0;34m(\u001b[0m\u001b[0mCleanData\u001b[0m\u001b[0;34m,\u001b[0m \u001b[0mcolumns\u001b[0m\u001b[0;34m=\u001b[0m\u001b[0;34m(\u001b[0m\u001b[0;34m[\u001b[0m\u001b[0;34m\"A_cm2\"\u001b[0m\u001b[0;34m,\u001b[0m \u001b[0;34m\"P1[mN/m]\"\u001b[0m\u001b[0;34m]\u001b[0m\u001b[0;34m)\u001b[0m\u001b[0;34m)\u001b[0m\u001b[0;34m\u001b[0m\u001b[0;34m\u001b[0m\u001b[0m\n\u001b[0m\u001b[1;32m      2\u001b[0m \u001b[0mAP\u001b[0m\u001b[0;34m\u001b[0m\u001b[0;34m\u001b[0m\u001b[0m\n\u001b[1;32m      3\u001b[0m \u001b[0;31m#I used AP to abbreviate for area and pressure.\u001b[0m\u001b[0;34m\u001b[0m\u001b[0;34m\u001b[0m\u001b[0;34m\u001b[0m\u001b[0m\n",
      "\u001b[0;31mNameError\u001b[0m: name 'CleanData' is not defined"
     ]
    }
   ],
   "source": [
    "AP = pd.DataFrame(CleanData, columns=([\"A_cm2\", \"P1[mN/m]\"]))\n",
    "AP\n",
    "#I used AP to abbreviate for area and pressure."
   ]
  },
  {
   "cell_type": "code",
   "execution_count": 4,
   "metadata": {},
   "outputs": [
    {
     "ename": "NameError",
     "evalue": "name 'AP' is not defined",
     "output_type": "error",
     "traceback": [
      "\u001b[0;31m---------------------------------------------------------------------------\u001b[0m",
      "\u001b[0;31mNameError\u001b[0m                                 Traceback (most recent call last)",
      "\u001b[0;32m<ipython-input-4-6ee243b3f705>\u001b[0m in \u001b[0;36m<module>\u001b[0;34m\u001b[0m\n\u001b[0;32m----> 1\u001b[0;31m \u001b[0mAPPlot\u001b[0m \u001b[0;34m=\u001b[0m \u001b[0mAP\u001b[0m\u001b[0;34m.\u001b[0m\u001b[0mplot\u001b[0m\u001b[0;34m(\u001b[0m\u001b[0mx\u001b[0m\u001b[0;34m=\u001b[0m\u001b[0;34m\"A_cm2\"\u001b[0m\u001b[0;34m,\u001b[0m \u001b[0my\u001b[0m\u001b[0;34m=\u001b[0m\u001b[0;34m\"P1[mN/m]\"\u001b[0m\u001b[0;34m,\u001b[0m\u001b[0mlegend\u001b[0m \u001b[0;34m=\u001b[0m \u001b[0;32mNone\u001b[0m\u001b[0;34m)\u001b[0m\u001b[0;34m\u001b[0m\u001b[0;34m\u001b[0m\u001b[0m\n\u001b[0m\u001b[1;32m      2\u001b[0m \u001b[0;34m\u001b[0m\u001b[0m\n\u001b[1;32m      3\u001b[0m \u001b[0mAPPlot\u001b[0m\u001b[0;34m.\u001b[0m\u001b[0mset_xlabel\u001b[0m\u001b[0;34m(\u001b[0m\u001b[0;34m'Area (cm^2)'\u001b[0m\u001b[0;34m)\u001b[0m\u001b[0;34m\u001b[0m\u001b[0;34m\u001b[0m\u001b[0m\n\u001b[1;32m      4\u001b[0m \u001b[0mAPPlot\u001b[0m\u001b[0;34m.\u001b[0m\u001b[0mset_ylabel\u001b[0m\u001b[0;34m(\u001b[0m\u001b[0;34m\"Pressure (mN/m)\"\u001b[0m\u001b[0;34m)\u001b[0m\u001b[0;34m\u001b[0m\u001b[0;34m\u001b[0m\u001b[0m\n\u001b[1;32m      5\u001b[0m \u001b[0;34m\u001b[0m\u001b[0m\n",
      "\u001b[0;31mNameError\u001b[0m: name 'AP' is not defined"
     ]
    }
   ],
   "source": [
    "APPlot = AP.plot(x=\"A_cm2\", y=\"P1[mN/m]\",legend = None)\n",
    "\n",
    "APPlot.set_xlabel('Area (cm^2)')\n",
    "APPlot.set_ylabel(\"Pressure (mN/m)\")\n",
    "\n",
    "#This gives the basic plot of just Area and pressure without any changes"
   ]
  },
  {
   "cell_type": "code",
   "execution_count": 24,
   "metadata": {},
   "outputs": [
    {
     "data": {
      "image/png": "[encoded data removed]",
      "text/plain": [
       "<Figure size 432x288 with 1 Axes>"
      ]
     },
     "metadata": {
      "needs_background": "light"
     },
     "output_type": "display_data"
    }
   ],
   "source": [
    "MMAPlot = CleanData.plot(x=\"Mean Molecular Area\", y=\"P1[mN/m]\", legend=None)\n",
    "#creates plot with axis labels and no legend\n",
    "\n",
    "MMAPlot.set_xlabel(\"Mean Molecular Area (Ang^2/Molecules)\")\n",
    "MMAPlot.set_ylabel(\"Pressure (mN/m)\")\n",
    "\n",
    "plt.title('My title') \n",
    "#change value of my title to set the title\n",
    "plt.savefig('Final_Plot.png', dpi=300, transparent=False, bbox_inches='tight')\n",
    "#saves the plot in your working directory. Change final plot to name you want\n"
   ]
  }
 ],
 "metadata": {
  "kernelspec": {
   "display_name": "Python 3",
   "language": "python",
   "name": "python3"
  },
  "language_info": {
   "codemirror_mode": {
    "name": "ipython",
    "version": 3
   },
   "file_extension": ".py",
   "mimetype": "text/x-python",
   "name": "python",
   "nbconvert_exporter": "python",
   "pygments_lexer": "ipython3",
   "version": "3.8.3"
  }
 },
 "nbformat": 4,
 "nbformat_minor": 5
}
