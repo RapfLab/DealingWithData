{
 "cells": [
  {
   "cell_type": "code",
   "execution_count": null,
   "id": "1165f014",
   "metadata": {},
   "outputs": [],
   "source": [
    "for entry in range(len(files))\n",
    "    NameSplit=Name.split(\"_\")\n",
    "    CompNames=[]\n",
    "    for i in range(len(NameSplit)):\n",
    "        if isinstance(NameSplit[i][0], int) == False:\n",
    "            CompNames.append(NameSplit[i])\n",
    "        elif isinstance(NameSplit[i][0], int) == True:\n",
    "            continue\n",
    "            "
   ]
  }
 ],
 "metadata": {
  "kernelspec": {
   "display_name": "Python 3",
   "language": "python",
   "name": "python3"
  },
  "language_info": {
   "codemirror_mode": {
    "name": "ipython",
    "version": 3
   },
   "file_extension": ".py",
   "mimetype": "text/x-python",
   "name": "python",
   "nbconvert_exporter": "python",
   "pygments_lexer": "ipython3",
   "version": "3.8.8"
  }
 },
 "nbformat": 4,
 "nbformat_minor": 5
}
