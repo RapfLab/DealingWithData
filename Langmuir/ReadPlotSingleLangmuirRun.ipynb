{
 "cells": [
  {
   "cell_type": "code",
   "execution_count": 1,
   "metadata": {},
   "outputs": [
    {
     "name": "stdout",
     "output_type": "stream",
     "text": [
      "/Users/rebeccarafp/Documents/RapfLabPython/TestData\n"
     ]
    }
   ],
   "source": [
    "##ReadingPlottingCSV\n",
    "##Written by Tim Mose and Rebecca Rapf\n",
    "##June 1, 2021\n",
    "\n",
    "###import single file of Langmuir trough data and plot it\n",
    "###Export plots to png files\n",
    "\n",
    "##import relevant libraries\n",
    "import pandas as pd\n",
    "import numpy as np\n",
    "import matplotlib as mpl\n",
    "import matplotlib.pyplot as plt \n",
    "import os\n",
    "import csv\n",
    "\n",
    "\n",
    "##Parameters to be changed for each analysis##\n",
    "FilePath = \"/Users/rebeccarafp/Documents/RapfLabPython/TestData/\" ##currently local only, will change to read from google drive\n",
    "FileName = \"210528_1419_MA\" #name only not file extension\n",
    "FileType = \"csv\" #pick from \"xlsx\" or \"csv\"\n",
    "Surfactant = \"myristic\" #name of surfactant and/or conditions\n",
    "StockConc = 1 #(mg/mL) of chloroform stock solution\n",
    "MM = 284.48 #molecular weight in (g/mol)\n",
    "VolDeposit_uL = 20 #volume stock solution deposited in \n",
    "########\n",
    "\n",
    "##File-Specific Parameters####\n",
    "header_length = 43 #skip the first 43 lines in the file\n",
    "#########\n",
    "\n",
    "##Constants Library##\n",
    "AVOGADRO = 6.022*10**23\n",
    "uL_CONVERSION = 10**6 #number of uL in 1 L\n",
    "Ang_CONVERSION = 10**10 #number of Angstroms in 1 m\n",
    "cm_CONVERSION = 10**2 #number of cm in 1 m\n",
    "cm2_to_Ang2 = Ang_CONVERSION**2/cm_CONVERSION**2\n",
    "#print(cm2_to_Ang2)\n",
    "###########\n",
    "\n",
    "####Calculate number of molecules deposited###\n",
    "VolDeposit_L = VolDeposit_uL/uL_CONVERSION\n",
    "AmountDeposit = ((StockConc/MM))*(VolDeposit_L)\n",
    "NumMolecules = AmountDeposit*AVOGADRO\n",
    "#print(NumMolecules)\n",
    "\n",
    "##Set file path to where data is being held locally\n",
    "os.chdir(FilePath)\n",
    "print(os.getcwd())\n"
   ]
  },
  {
   "cell_type": "code",
   "execution_count": 2,
   "metadata": {},
   "outputs": [],
   "source": [
    "#####Read in a single Langmuir trough file\n",
    "###File Handling -- Reads in the file of interest into a Pandas DataFrame ###\n",
    "if \"CleanData\" in locals():\n",
    "    del CleanData #housekeeping for memory reasons\n",
    "\n",
    "if FileType == \"csv\":\n",
    "    CompFile = FileName+\".\"+FileType\n",
    "    All=pd.read_csv(CompFile,skiprows = header_length)\n",
    "elif FileType == \"xlsx\":\n",
    "    CompFile = FileName+\".\"+FileType\n",
    "    #print(CompFile)\n",
    "    All=pd.read_excel(CompFile,skiprows = header_length)\n",
    "    #print(\"excel\")\n",
    "else:\n",
    "    print(\"Unrecognized File Type, choose either 'csv' or 'excel'\")\n",
    "\n",
    "#Renames area column to get rid of formatted superscript issue\n",
    "CleanData = All.rename(columns={All.columns[3]: \"A_cm2\"})\n",
    "\n",
    "#CleanData\n"
   ]
  },
  {
   "cell_type": "code",
   "execution_count": 3,
   "metadata": {
    "scrolled": true
   },
   "outputs": [],
   "source": [
    "CleanData.insert(7, \"NumMolecules\", NumMolecules)\n",
    "#inserts column with amount of molecules \n",
    "\n",
    "A_Ang2 = (CleanData[\"A_cm2\"]*cm2_to_Ang2)\n",
    "CleanData.insert(4, \"A_Ang2\", A_Ang2)\n",
    "\n",
    "MMA=(CleanData[\"A_Ang2\"]/CleanData[\"NumMolecules\"])\n",
    "CleanData.insert(9, \"Mean Molecular Area\", MMA)\n",
    "\n",
    "\n",
    "#CleanData"
   ]
  },
  {
   "cell_type": "code",
   "execution_count": 4,
   "metadata": {},
   "outputs": [
    {
     "data": {
      "text/html": [
       "<div>\n",
       "<style scoped>\n",
       "    .dataframe tbody tr th:only-of-type {\n",
       "        vertical-align: middle;\n",
       "    }\n",
       "\n",
       "    .dataframe tbody tr th {\n",
       "        vertical-align: top;\n",
       "    }\n",
       "\n",
       "    .dataframe thead th {\n",
       "        text-align: right;\n",
       "    }\n",
       "</style>\n",
       "<table border=\"1\" class=\"dataframe\">\n",
       "  <thead>\n",
       "    <tr style=\"text-align: right;\">\n",
       "      <th></th>\n",
       "      <th>A_cm2</th>\n",
       "      <th>P1[mN/m]</th>\n",
       "    </tr>\n",
       "  </thead>\n",
       "  <tbody>\n",
       "    <tr>\n",
       "      <th>0</th>\n",
       "      <td>243.00</td>\n",
       "      <td>0.5631</td>\n",
       "    </tr>\n",
       "    <tr>\n",
       "      <th>1</th>\n",
       "      <td>242.26</td>\n",
       "      <td>0.5422</td>\n",
       "    </tr>\n",
       "    <tr>\n",
       "      <th>2</th>\n",
       "      <td>241.01</td>\n",
       "      <td>0.5560</td>\n",
       "    </tr>\n",
       "    <tr>\n",
       "      <th>3</th>\n",
       "      <td>239.73</td>\n",
       "      <td>0.5598</td>\n",
       "    </tr>\n",
       "    <tr>\n",
       "      <th>4</th>\n",
       "      <td>238.48</td>\n",
       "      <td>0.5568</td>\n",
       "    </tr>\n",
       "    <tr>\n",
       "      <th>...</th>\n",
       "      <td>...</td>\n",
       "      <td>...</td>\n",
       "    </tr>\n",
       "    <tr>\n",
       "      <th>139</th>\n",
       "      <td>64.83</td>\n",
       "      <td>32.4444</td>\n",
       "    </tr>\n",
       "    <tr>\n",
       "      <th>140</th>\n",
       "      <td>63.48</td>\n",
       "      <td>36.3864</td>\n",
       "    </tr>\n",
       "    <tr>\n",
       "      <th>141</th>\n",
       "      <td>62.14</td>\n",
       "      <td>32.1682</td>\n",
       "    </tr>\n",
       "    <tr>\n",
       "      <th>142</th>\n",
       "      <td>60.73</td>\n",
       "      <td>30.3899</td>\n",
       "    </tr>\n",
       "    <tr>\n",
       "      <th>143</th>\n",
       "      <td>59.36</td>\n",
       "      <td>29.5979</td>\n",
       "    </tr>\n",
       "  </tbody>\n",
       "</table>\n",
       "<p>144 rows × 2 columns</p>\n",
       "</div>"
      ],
      "text/plain": [
       "      A_cm2  P1[mN/m]\n",
       "0    243.00    0.5631\n",
       "1    242.26    0.5422\n",
       "2    241.01    0.5560\n",
       "3    239.73    0.5598\n",
       "4    238.48    0.5568\n",
       "..      ...       ...\n",
       "139   64.83   32.4444\n",
       "140   63.48   36.3864\n",
       "141   62.14   32.1682\n",
       "142   60.73   30.3899\n",
       "143   59.36   29.5979\n",
       "\n",
       "[144 rows x 2 columns]"
      ]
     },
     "execution_count": 4,
     "metadata": {},
     "output_type": "execute_result"
    }
   ],
   "source": [
    "AP = pd.DataFrame(CleanData, columns=([\"A_cm2\", \"P1[mN/m]\"]))\n",
    "AP\n",
    "#I used AP to abbreviate for area and pressure."
   ]
  },
  {
   "cell_type": "code",
   "execution_count": 5,
   "metadata": {},
   "outputs": [
    {
     "data": {
      "text/plain": [
       "Text(0, 0.5, 'Pressure (mN/m)')"
      ]
     },
     "execution_count": 5,
     "metadata": {},
     "output_type": "execute_result"
    },
    {
     "data": {
      "image/png": "[encoded data removed]",
      "text/plain": [
       "<Figure size 432x288 with 1 Axes>"
      ]
     },
     "metadata": {
      "needs_background": "light"
     },
     "output_type": "display_data"
    }
   ],
   "source": [
    "APPlot = AP.plot(x=\"A_cm2\", y=\"P1[mN/m]\",legend = None)\n",
    "\n",
    "APPlot.set_xlabel('Area (cm^2)')\n",
    "APPlot.set_ylabel(\"Pressure (mN/m)\")\n",
    "\n",
    "#This gives the basic plot of just Area and pressure without any changes"
   ]
  },
  {
   "cell_type": "code",
   "execution_count": 6,
   "metadata": {},
   "outputs": [
    {
     "data": {
      "image/png": "[encoded data removed]",
      "text/plain": [
       "<Figure size 432x288 with 1 Axes>"
      ]
     },
     "metadata": {
      "needs_background": "light"
     },
     "output_type": "display_data"
    }
   ],
   "source": [
    "MMAPlot = CleanData.plot(x=\"Mean Molecular Area\", y=\"P1[mN/m]\", legend=None)\n",
    "#creates plot with axis labels and no legend\n",
    "\n",
    "MMAPlot.set_xlabel(\"Mean Molecular Area (Ang^2/Molecules)\")\n",
    "MMAPlot.set_ylabel(\"Pressure (mN/m)\")\n",
    "\n",
    "plt.title('My title') \n",
    "#change value of my title to set the title\n",
    "plt.savefig('Final_Plot.png', dpi=300, transparent=False, bbox_inches='tight')\n",
    "#saves the plot in your working directory. Change final plot to name you want\n"
   ]
  },
  {
   "cell_type": "code",
   "execution_count": null,
   "metadata": {},
   "outputs": [],
   "source": []
  }
 ],
 "metadata": {
  "kernelspec": {
   "display_name": "Python 3",
   "language": "python",
   "name": "python3"
  },
  "language_info": {
   "codemirror_mode": {
    "name": "ipython",
    "version": 3
   },
   "file_extension": ".py",
   "mimetype": "text/x-python",
   "name": "python",
   "nbconvert_exporter": "python",
   "pygments_lexer": "ipython3",
   "version": "3.8.3"
  }
 },
 "nbformat": 4,
 "nbformat_minor": 5
}
