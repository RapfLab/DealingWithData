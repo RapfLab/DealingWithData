{
 "cells": [
  {
   "cell_type": "code",
   "execution_count": 196,
   "id": "d072eb03",
   "metadata": {},
   "outputs": [],
   "source": [
    "##ScrapeLangmuirData\n",
    "##Written by Rebecca Rapf\n",
    "##June 10, 2021\n",
    "\n",
    "###Read in csv's of Langmuir trough data and export the useful bits for loading into Igor\n",
    "\n",
    "##import relevant libraries\n",
    "import pandas as pd\n",
    "import numpy as np\n",
    "import glob\n",
    "import matplotlib as mpl\n",
    "import matplotlib.pyplot as plt \n",
    "import os\n",
    "#import csv"
   ]
  },
  {
   "cell_type": "code",
   "execution_count": 197,
   "id": "284a23e9",
   "metadata": {},
   "outputs": [
    {
     "name": "stdout",
     "output_type": "stream",
     "text": [
      "C:\\Users\\timmo\\Documents\\RAPFLAB\\code\\langmuir\\test\n",
      "/Users/timmo/Documents/RAPFLAB/code/langmuir/test/Processed\n"
     ]
    }
   ],
   "source": [
    "##Parameters to be changed for each analysis##\n",
    "FilePath = \"/Users/timmo/Documents/RAPFLAB/code/langmuir/test/\" ##currently local only, will change to read from google drive\n",
    "OutFolder = \"Processed\"\n",
    "XLabel = \"Acm2\"\n",
    "YLabel=\"P\"\n",
    "OutputName = \"Graph\"\n",
    "FileType = \"xlsx\" #pick from \"xlsx\" or \"csv\"\n",
    "Surfactant = \"MA_300mMKCl\" #name of surfactant and/or conditions\n",
    "#StockConcSame = \"yes\" #\"yes\" or \"no\" if same concentration was used for each run\n",
    "\n",
    "StockConc = 4.18 #mM \n",
    "#MM = 284.48 #molecular weight in (g/mol)\n",
    "VolDeposit_uL = 20 #volume stock solution deposited in \n",
    "########\n",
    "\n",
    "##File-Specific Parameters####\n",
    "header_length = 43 #skip the first 43 lines in the file\n",
    "#########\n",
    "\n",
    "##Constants Library##\n",
    "AVOGADRO = 6.022*10**23\n",
    "uL_CONVERSION = 10**6 #number of uL in 1 L\n",
    "Ang_CONVERSION = 10**10 #number of Angstroms in 1 m\n",
    "cm_CONVERSION = 10**2 #number of cm in 1 m\n",
    "cm2_to_Ang2 = Ang_CONVERSION**2/cm_CONVERSION**2\n",
    "#print(cm2_to_Ang2)\n",
    "###########\n",
    "\n",
    "####Calculate number of molecules deposited###\n",
    "VolDeposit_L = VolDeposit_uL/uL_CONVERSION\n",
    "AmountDeposit = ((StockConc/1000))*(VolDeposit_L)\n",
    "NumMolecules = AmountDeposit*AVOGADRO\n",
    "#print(NumMolecules)\n",
    "\n",
    "##Set file path to where data is being held locally\n",
    "os.chdir(FilePath)\n",
    "print(os.getcwd())\n",
    "print(FilePath+OutFolder)\n"
   ]
  },
  {
   "cell_type": "code",
   "execution_count": 198,
   "id": "fb74b3b9",
   "metadata": {},
   "outputs": [
    {
     "name": "stdout",
     "output_type": "stream",
     "text": [
      "['210614_1654_MA_300mMKCl_bad.xlsx', '210614_1050_MA_300mMKCl.xlsx']\n"
     ]
    },
    {
     "ename": "FileNotFoundError",
     "evalue": "[Errno 2] No such file or directory: '../Processed/210614_1654_MA_300mMKCl_bad_Processed.csv'",
     "output_type": "error",
     "traceback": [
      "\u001b[1;31m---------------------------------------------------------------------------\u001b[0m",
      "\u001b[1;31mFileNotFoundError\u001b[0m                         Traceback (most recent call last)",
      "\u001b[1;32m<ipython-input-198-b59d84bd131f>\u001b[0m in \u001b[0;36m<module>\u001b[1;34m\u001b[0m\n\u001b[0;32m     42\u001b[0m         \u001b[0mAllFiles\u001b[0m\u001b[1;33m[\u001b[0m\u001b[0moutname\u001b[0m\u001b[1;33m+\u001b[0m\u001b[1;34m\"_MMA\"\u001b[0m\u001b[1;33m]\u001b[0m\u001b[1;33m=\u001b[0m\u001b[0mMMA\u001b[0m\u001b[1;33m\u001b[0m\u001b[1;33m\u001b[0m\u001b[0m\n\u001b[0;32m     43\u001b[0m \u001b[1;33m\u001b[0m\u001b[0m\n\u001b[1;32m---> 44\u001b[1;33m         \u001b[0mIndFile\u001b[0m\u001b[1;33m.\u001b[0m\u001b[0mto_csv\u001b[0m\u001b[1;33m(\u001b[0m\u001b[1;34m\"../\"\u001b[0m\u001b[1;33m+\u001b[0m\u001b[0mOutFolder\u001b[0m\u001b[1;33m+\u001b[0m\u001b[1;34m\"/\"\u001b[0m\u001b[1;33m+\u001b[0m\u001b[0moutname\u001b[0m\u001b[1;33m+\u001b[0m\u001b[1;34m\"_Processed.csv\"\u001b[0m\u001b[1;33m)\u001b[0m\u001b[1;33m\u001b[0m\u001b[1;33m\u001b[0m\u001b[0m\n\u001b[0m\u001b[0;32m     45\u001b[0m \u001b[0mAllFiles\u001b[0m\u001b[1;33m.\u001b[0m\u001b[0mto_csv\u001b[0m\u001b[1;33m(\u001b[0m\u001b[0mOutFolder\u001b[0m\u001b[1;33m+\u001b[0m\u001b[1;34m\"/\"\u001b[0m\u001b[1;33m+\u001b[0m\u001b[0mSurfactant\u001b[0m\u001b[1;33m+\u001b[0m\u001b[1;34m\"_AllProcessed.csv\"\u001b[0m\u001b[1;33m)\u001b[0m\u001b[1;33m\u001b[0m\u001b[1;33m\u001b[0m\u001b[0m\n",
      "\u001b[1;32m~\\anaconda3\\lib\\site-packages\\pandas\\core\\generic.py\u001b[0m in \u001b[0;36mto_csv\u001b[1;34m(self, path_or_buf, sep, na_rep, float_format, columns, header, index, index_label, mode, encoding, compression, quoting, quotechar, line_terminator, chunksize, date_format, doublequote, escapechar, decimal, errors, storage_options)\u001b[0m\n\u001b[0;32m   3385\u001b[0m         )\n\u001b[0;32m   3386\u001b[0m \u001b[1;33m\u001b[0m\u001b[0m\n\u001b[1;32m-> 3387\u001b[1;33m         return DataFrameRenderer(formatter).to_csv(\n\u001b[0m\u001b[0;32m   3388\u001b[0m             \u001b[0mpath_or_buf\u001b[0m\u001b[1;33m,\u001b[0m\u001b[1;33m\u001b[0m\u001b[1;33m\u001b[0m\u001b[0m\n\u001b[0;32m   3389\u001b[0m             \u001b[0mline_terminator\u001b[0m\u001b[1;33m=\u001b[0m\u001b[0mline_terminator\u001b[0m\u001b[1;33m,\u001b[0m\u001b[1;33m\u001b[0m\u001b[1;33m\u001b[0m\u001b[0m\n",
      "\u001b[1;32m~\\anaconda3\\lib\\site-packages\\pandas\\io\\formats\\format.py\u001b[0m in \u001b[0;36mto_csv\u001b[1;34m(self, path_or_buf, encoding, sep, columns, index_label, mode, compression, quoting, quotechar, line_terminator, chunksize, date_format, doublequote, escapechar, errors, storage_options)\u001b[0m\n\u001b[0;32m   1081\u001b[0m             \u001b[0mformatter\u001b[0m\u001b[1;33m=\u001b[0m\u001b[0mself\u001b[0m\u001b[1;33m.\u001b[0m\u001b[0mfmt\u001b[0m\u001b[1;33m,\u001b[0m\u001b[1;33m\u001b[0m\u001b[1;33m\u001b[0m\u001b[0m\n\u001b[0;32m   1082\u001b[0m         )\n\u001b[1;32m-> 1083\u001b[1;33m         \u001b[0mcsv_formatter\u001b[0m\u001b[1;33m.\u001b[0m\u001b[0msave\u001b[0m\u001b[1;33m(\u001b[0m\u001b[1;33m)\u001b[0m\u001b[1;33m\u001b[0m\u001b[1;33m\u001b[0m\u001b[0m\n\u001b[0m\u001b[0;32m   1084\u001b[0m \u001b[1;33m\u001b[0m\u001b[0m\n\u001b[0;32m   1085\u001b[0m         \u001b[1;32mif\u001b[0m \u001b[0mcreated_buffer\u001b[0m\u001b[1;33m:\u001b[0m\u001b[1;33m\u001b[0m\u001b[1;33m\u001b[0m\u001b[0m\n",
      "\u001b[1;32m~\\anaconda3\\lib\\site-packages\\pandas\\io\\formats\\csvs.py\u001b[0m in \u001b[0;36msave\u001b[1;34m(self)\u001b[0m\n\u001b[0;32m    226\u001b[0m         \"\"\"\n\u001b[0;32m    227\u001b[0m         \u001b[1;31m# apply compression and byte/text conversion\u001b[0m\u001b[1;33m\u001b[0m\u001b[1;33m\u001b[0m\u001b[1;33m\u001b[0m\u001b[0m\n\u001b[1;32m--> 228\u001b[1;33m         with get_handle(\n\u001b[0m\u001b[0;32m    229\u001b[0m             \u001b[0mself\u001b[0m\u001b[1;33m.\u001b[0m\u001b[0mfilepath_or_buffer\u001b[0m\u001b[1;33m,\u001b[0m\u001b[1;33m\u001b[0m\u001b[1;33m\u001b[0m\u001b[0m\n\u001b[0;32m    230\u001b[0m             \u001b[0mself\u001b[0m\u001b[1;33m.\u001b[0m\u001b[0mmode\u001b[0m\u001b[1;33m,\u001b[0m\u001b[1;33m\u001b[0m\u001b[1;33m\u001b[0m\u001b[0m\n",
      "\u001b[1;32m~\\anaconda3\\lib\\site-packages\\pandas\\io\\common.py\u001b[0m in \u001b[0;36mget_handle\u001b[1;34m(path_or_buf, mode, encoding, compression, memory_map, is_text, errors, storage_options)\u001b[0m\n\u001b[0;32m    640\u001b[0m                 \u001b[0merrors\u001b[0m \u001b[1;33m=\u001b[0m \u001b[1;34m\"replace\"\u001b[0m\u001b[1;33m\u001b[0m\u001b[1;33m\u001b[0m\u001b[0m\n\u001b[0;32m    641\u001b[0m             \u001b[1;31m# Encoding\u001b[0m\u001b[1;33m\u001b[0m\u001b[1;33m\u001b[0m\u001b[1;33m\u001b[0m\u001b[0m\n\u001b[1;32m--> 642\u001b[1;33m             handle = open(\n\u001b[0m\u001b[0;32m    643\u001b[0m                 \u001b[0mhandle\u001b[0m\u001b[1;33m,\u001b[0m\u001b[1;33m\u001b[0m\u001b[1;33m\u001b[0m\u001b[0m\n\u001b[0;32m    644\u001b[0m                 \u001b[0mioargs\u001b[0m\u001b[1;33m.\u001b[0m\u001b[0mmode\u001b[0m\u001b[1;33m,\u001b[0m\u001b[1;33m\u001b[0m\u001b[1;33m\u001b[0m\u001b[0m\n",
      "\u001b[1;31mFileNotFoundError\u001b[0m: [Errno 2] No such file or directory: '../Processed/210614_1654_MA_300mMKCl_bad_Processed.csv'"
     ]
    }
   ],
   "source": [
    "files = sorted(glob.glob(\"21\"+\"*\"+FileType))\n",
    "files.sort(key=os.path.getmtime)\n",
    "print(files)\n",
    "\n",
    "num_files = len(files)\n",
    "\n",
    "AllFiles = pd.DataFrame()\n",
    "\n",
    "for entry in range(len(files)):\n",
    "    name = files[entry]\n",
    "    outname = name[:-(len(FileType)+1)]\n",
    "    #print(name)\n",
    "    if FileType == \"csv\":\n",
    "        CurrFile = pd.read_csv(files[entry],skiprows = header_length)\n",
    "    elif FileType == \"xlsx\":\n",
    "        #CompFile = files[entry]\n",
    "        #print(CompFile)\n",
    "        CurrFile = pd.read_excel(files[entry],skiprows = header_length)\n",
    "        #print(CurrFile)\n",
    "        #print(\"excel\")\n",
    "        CurrFile = CurrFile.rename(columns={CurrFile.columns[3]: \"A_cm2\"})\n",
    "        CurrFile = CurrFile.rename(columns={CurrFile.columns[4]: \"MMA\"})\n",
    "        MMA = CurrFile[\"MMA\"]\n",
    "        #print(CurrFile)\n",
    "        \n",
    "        #MMACheck = CurrFile[\"MMA\"]\n",
    "        #print(CurrFile.iloc[0,4])\n",
    "        if np.isnan(CurrFile.iloc[0,4]) == True:\n",
    "            A_Ang2 = (CurrFile[\"A_cm2\"]*cm2_to_Ang2)\n",
    "            CurrFile.insert(4, \"A_Ang2\", A_Ang2)\n",
    "            MMA=CurrFile[\"A_Ang2\"]/NumMolecules\n",
    "            print(\"fixing\")\n",
    "        \n",
    "        \n",
    "        IndFile = pd.DataFrame(columns = [outname+\"_Acm2\",outname+\"_P\",outname+\"_MMA\"])\n",
    "        IndFile[outname+\"_Acm2\"]=CurrFile[\"A_cm2\"]\n",
    "        IndFile[outname+\"_P\"]=CurrFile[\"P1[mN/m]\"]\n",
    "        IndFile[outname+\"_MMA\"]=MMA\n",
    "        \n",
    "        AllFiles[outname+\"_Acm2\"]=CurrFile[\"A_cm2\"]\n",
    "        AllFiles[outname+\"_P\"]=CurrFile[\"P1[mN/m]\"]\n",
    "        AllFiles[outname+\"_MMA\"]=MMA\n",
    "        \n",
    "        IndFile.to_csv(\"../\"+OutFolder+\"/\"+outname+\"_Processed.csv\")\n",
    "AllFiles.to_csv(OutFolder+\"/\"+Surfactant+\"_AllProcessed.csv\")\n",
    "\n",
    "\n",
    "\n",
    "\n",
    "\n",
    "\n",
    "####### JUST COMBINE THE SCRAPE WITH ADDING VALUES TO A LIST --> MAY BE EASIER THAN TRYING TO CALL THE FILES AGAIN --> ALREADY HAVE THE FILES MUCH EASIER\n"
   ]
  },
  {
   "cell_type": "code",
   "execution_count": 206,
   "id": "0085b0d1",
   "metadata": {},
   "outputs": [
    {
     "name": "stdout",
     "output_type": "stream",
     "text": [
      "Files in 'C:\\\\Users\\\\timmo\\\\Documents\\\\RAPFLAB\\\\code\\\\langmuir\\\\test\\\\Processed': ['210614_1050_MA_300mMKCl_Processed.csv', '210614_1654_MA_300mMKCl_bad_Processed.csv', 'Graph.png', 'MA_300mMKCl_AllProcessed.csv', 'Processed']\n",
      "[]\n",
      "       t[s]     Bpos  Bspd   A_cm2    MMA  P1[mN/m]  P2[mN/m]   T[°C]  SP[V]  \\\n",
      "0      0.13    0.000     0  243.00  46.07    0.0639         0 -293.13    NaN   \n",
      "1      1.14    0.599    50  242.10  45.90    0.0604         0 -192.80    NaN   \n",
      "2      2.17    1.453    50  240.82  45.66    0.0715         0  -53.34    NaN   \n",
      "3      3.17    2.306    50  239.54  45.41    0.0487         0  184.67    NaN   \n",
      "4      4.18    3.141    50  238.29  45.18    0.0356         0  153.03    NaN   \n",
      "..      ...      ...   ...     ...    ...       ...       ...     ...    ...   \n",
      "153  160.12  133.282    50   43.08   8.17   12.4179         0 -263.21    NaN   \n",
      "154  161.20  134.178    50   41.73   7.91   12.2836         0 -278.74    NaN   \n",
      "155  162.29  135.093    50   40.36   7.65   12.7757         0  -95.36    NaN   \n",
      "156  163.38  136.010    50   38.99   7.39   13.0829         0    2.80    NaN   \n",
      "157  164.42  136.865    50   37.70   7.15   13.2834         0  -67.24    NaN   \n",
      "\n",
      "       pH  AD[V]  \n",
      "0   -6.33      0  \n",
      "1   -6.33      0  \n",
      "2   -6.33      0  \n",
      "3   -6.33      0  \n",
      "4   -6.33      0  \n",
      "..    ...    ...  \n",
      "153 -6.34      0  \n",
      "154 -6.34      0  \n",
      "155 -6.34      0  \n",
      "156 -6.34      0  \n",
      "157 -6.34      0  \n",
      "\n",
      "[158 rows x 11 columns]\n"
     ]
    }
   ],
   "source": [
    "os. chdir((FilePath)+OutFolder) #sets working directory to new folder???\n",
    "files2 = sorted(glob.glob(\"*\"+FileType))\n",
    "files2.sort(key=os.path.getmtime)\n",
    "num_files = len(files)\n",
    "\n",
    "XAxis=[]\n",
    "YAxis=[] #creates to empty sets where the x and y values of all documents will be appended for later graphing\n",
    "legendNames=[]\n",
    "\n",
    "\n",
    "cwd = os.getcwd()  # Get the current working directory (cwd)\n",
    "files = os.listdir(cwd)  # Get all the files in that directory\n",
    "print(\"Files in %r: %s\" % (cwd, files))\n",
    "\n",
    "for entry in range(len(files2)):\n",
    "    name = files2[entry]\n",
    "    read = (name[:-4]+\"_\")\n",
    "    \n",
    "    if FileType == \"csv\":  \n",
    "        CurrFile = pd.read_csv(files2[entry])#sets amount of lines to skip at beginning and end of a document\n",
    "        CurrFile.columns=[number, Acm2,P, MMA]\n",
    "        XAxis.append(CurrFile[Acm2])\n",
    "        YAxis.append(CurrFile[P])\n",
    "        FullSplit = name.split(\"_\") #gets all parts of the file name\n",
    "        legendNames.append(FullSplit[3])# gets the hour/time labelling (0 is date, 1 is name of compound/molarity, 2 is time\n",
    "  #reads all files in given folder if they are csv and appends wavelength and Absorbance to XAxis and YAxis dataframes\n",
    "    \n",
    "  \n",
    "   # elif FileType == \"xlsx\":   #if file is not csv but is xlsx it goes through this function instead\n",
    "        #CompFile = files[entry]\n",
    "        #print(CompFile)\n",
    "        read = (name[:-5]+\"_\")\n",
    "        CurrFile = pd.read_csv(files2[entry])#sets amount of lines to skip at beginning and end of a document\n",
    "        CurrFile.columns=[number,Acm2,P,MMA]\n",
    "        XAxis.append(CurrFile[Acm2])\n",
    "        YAxis.append(CurrFile[P])\n",
    "      \n",
    "        FullSplit = name.split(\"_\") #gets all parts of the file name\n",
    "        legendNames.append(FullSplit[3])# gets the hour/time labelling (0 is date, 1 is name of compound/molarity, 2 is time\n",
    "            \n",
    "print(XAxis)\n",
    "\n",
    "print(CurrFile)"
   ]
  },
  {
   "cell_type": "code",
   "execution_count": 200,
   "id": "18ee25a0",
   "metadata": {},
   "outputs": [],
   "source": [
    "def FigStyle(): #axis will be shared\n",
    "    mpl.rcParams['font.family'] = 'Arial'\n",
    "    plt.rcParams['font.size'] = 12\n",
    "    \n",
    "    plt.rcParams['axes.linewidth'] = 1\n",
    "    mpl.rcParams['axes.spines.right'] = True\n",
    "    mpl.rcParams['axes.spines.top'] = True\n",
    "    #plt.axis(xmin=0,xmax=250)\n",
    "    \n",
    "    mpl.rcParams['xtick.top']=False\n",
    "    mpl.rcParams['ytick.right']=False\n",
    "    ax.tick_params(direction='inout')\n",
    "    ax.tick_params('both', length=6, width=2, which='major')\n",
    "    ax.legend(legendNames, framealpha=1, frameon=False, bbox_to_anchor=(1.01, 1)) #creates legend and specifies location + formatting\n",
    "   \n",
    "    plt.xlabel(XLabel, size=15) #x axis label\n",
    "    plt.ylabel(YLabel, size=17) #y axis label\n",
    "    \n",
    "    #ax.legend(legendNames, framealpha=1, frameon=False, bbox_to_anchor=(1.02, 1)) #creates legend and specifies location + formatting\n",
    "    \n",
    "    \n",
    "    plt.savefig(OutputName+\".png\", dpi=300, transparent=False) \n",
    "    plt.show() #shows the final plot\n",
    "    \n",
    "\n",
    "    #sets basic formatting for our plot\n"
   ]
  },
  {
   "cell_type": "code",
   "execution_count": 201,
   "id": "f7aaa682",
   "metadata": {},
   "outputs": [
    {
     "data": {
      "image/png": "[encoded data removed]",
      "text/plain": [
       "<Figure size 432x288 with 1 Axes>"
      ]
     },
     "metadata": {
      "needs_background": "light"
     },
     "output_type": "display_data"
    }
   ],
   "source": [
    "fig, ax = plt.subplots(sharex =True , sharey= True, figsize=(6,4))\n",
    "for i in range(len(XAxis)):\n",
    "    x= XAxis[i]\n",
    "    y= YAxis[i] #plots the x and y values of each dataframe individually on a shared axis\n",
    "    plt.plot(x, y) #actually plots our graph\n",
    "    \n",
    "\n",
    "FigStyle();  \n",
    "plt.show() #shows the final plot\n"
   ]
  },
  {
   "cell_type": "code",
   "execution_count": null,
   "id": "119c63de",
   "metadata": {},
   "outputs": [],
   "source": []
  }
 ],
 "metadata": {
  "kernelspec": {
   "display_name": "Python 3",
   "language": "python",
   "name": "python3"
  },
  "language_info": {
   "codemirror_mode": {
    "name": "ipython",
    "version": 3
   },
   "file_extension": ".py",
   "mimetype": "text/x-python",
   "name": "python",
   "nbconvert_exporter": "python",
   "pygments_lexer": "ipython3",
   "version": "3.8.8"
  }
 },
 "nbformat": 4,
 "nbformat_minor": 5
}
