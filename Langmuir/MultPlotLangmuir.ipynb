{
 "cells": [
  {
   "cell_type": "code",
   "execution_count": 1,
   "id": "628495f7",
   "metadata": {},
   "outputs": [],
   "source": [
    "##ScrapeLangmuirData\n",
    "##Written by Rebecca Rapf and Tim Mose\n",
    "##June 10, 2021 and updated June 16, 2021\n",
    "\n",
    "###Read in csv's of Langmuir trough data and export the useful bits for loading into Igor\n",
    "\n",
    "##import relevant libraries\n",
    "import pandas as pd\n",
    "import numpy as np\n",
    "import glob\n",
    "import matplotlib as mpl\n",
    "import matplotlib.pyplot as plt \n",
    "import os\n",
    "#imports everything that we need"
   ]
  },
  {
   "cell_type": "code",
   "execution_count": 2,
   "id": "df0527e2",
   "metadata": {},
   "outputs": [
    {
     "name": "stdout",
     "output_type": "stream",
     "text": [
      "C:\\Users\\timmo\\Documents\\RAPFLAB\\code\\langmuir\\test\n",
      "/Users/timmo/Documents/RAPFLAB/code/langmuir/test/Processed\n"
     ]
    }
   ],
   "source": [
    "##Parameters to be changed for each analysis##\n",
    "FilePath = \"/Users/timmo/Documents/RAPFLAB/code/langmuir/test/\" ##currently local only, will change to read from google drive\n",
    "OutFolder = \"Processed\" #Folder that the processed files get sent to\n",
    "XLabel = \"A_cm^2\" #label for x axis\n",
    "YLabel=\"P1[mN/m]\" #label for y axis\n",
    "OutputName = \"Graph\" #name of graph that will be saved in OutFolder\n",
    "FileType = \"xlsx\" #pick from \"xlsx\" or \"csv\"\n",
    "Surfactant = \"MA_300mMKCl\" #name of surfactant and/or conditions\n",
    "#StockConcSame = \"yes\" #\"yes\" or \"no\" if same concentration was used for each run\n",
    "\n",
    "StockConc = 4.18 #mM \n",
    "#MM = 284.48 #molecular weight in (g/mol)\n",
    "VolDeposit_uL = 20 #volume stock solution deposited in \n",
    "########\n",
    "\n",
    "##File-Specific Parameters####\n",
    "header_length = 43 #skip the first 43 lines in the file\n",
    "#########\n",
    "\n",
    "##Constants Library##\n",
    "AVOGADRO = 6.022*10**23\n",
    "uL_CONVERSION = 10**6 #number of uL in 1 L\n",
    "Ang_CONVERSION = 10**10 #number of Angstroms in 1 m\n",
    "cm_CONVERSION = 10**2 #number of cm in 1 m\n",
    "cm2_to_Ang2 = Ang_CONVERSION**2/cm_CONVERSION**2\n",
    "#print(cm2_to_Ang2)\n",
    "###########\n",
    "\n",
    "####Calculate number of molecules deposited###\n",
    "VolDeposit_L = VolDeposit_uL/uL_CONVERSION\n",
    "AmountDeposit = ((StockConc/1000))*(VolDeposit_L)\n",
    "NumMolecules = AmountDeposit*AVOGADRO\n",
    "#print(NumMolecules)\n",
    "\n",
    "##Set file path to where data is being held locally\n",
    "os.chdir(FilePath)\n",
    "print(os.getcwd())\n",
    "print(FilePath+OutFolder)\n"
   ]
  },
  {
   "cell_type": "code",
   "execution_count": 3,
   "id": "3acf563d",
   "metadata": {},
   "outputs": [
    {
     "name": "stdout",
     "output_type": "stream",
     "text": [
      "['210614_1654_MA_300mMKCl_bad.xlsx', '210614_1050_MA_300mMKCl.xlsx']\n",
      "['210614', '1654', 'MA', '300mMKCl', 'bad', 'xlsx']\n",
      "['210614', '1050', 'MA', '300mMKCl', 'xlsx']\n"
     ]
    }
   ],
   "source": [
    "files = sorted(glob.glob(\"21\"+\"*\"+FileType))\n",
    "files.sort(key=os.path.getmtime)\n",
    "print(files)\n",
    "\n",
    "num_files = len(files)\n",
    "\n",
    "AllFiles = pd.DataFrame()\n",
    "\n",
    "YAxis=[] #empty list containing all values of the Y-Axis for each file read\n",
    "XAxis=[] #empty list containing all values of the X-Axis for each file read\n",
    "LegendNames = [] #list containing all legend names (empty now, but will add to it during the script)\n",
    "LegendNamesFixed = []\n",
    "for entry in range(len(files)):\n",
    "    name = files[entry]\n",
    "    outname = name[:-(len(FileType)+1)]\n",
    "    #print(name)\n",
    "    if FileType == \"csv\":\n",
    "        CurrFile = pd.read_csv(files[entry],skiprows = header_length)\n",
    "    elif FileType == \"xlsx\":\n",
    "        #CompFile = files[entry]w\n",
    "        #print(CompFile)\n",
    "        CurrFile = pd.read_excel(files[entry],skiprows = header_length)\n",
    "        #print(CurrFile)\n",
    "        #print(\"excel\")\n",
    "        CurrFile = CurrFile.rename(columns={CurrFile.columns[3]: \"A_cm2\"})\n",
    "        CurrFile = CurrFile.rename(columns={CurrFile.columns[4]: \"MMA\"})\n",
    "        MMA = CurrFile[\"MMA\"]\n",
    "        ##########################\n",
    "        \n",
    "        XAxis.append(CurrFile[\"A_cm2\"]) #appends the \"A_cm2\" column to the XAxis dataframe\n",
    "        YAxis.append(CurrFile[\"P1[mN/m]\"]) #appends the \"P1[mN/m]\" column to the YAxis dataframe. Will be plotted later\n",
    "        #########################\n",
    "        \n",
    "        \n",
    "        #FullSplit = name.split(\"_|.\")#gets all parts of the file name\n",
    "        import re\n",
    "        FullSplit = re.split(\"[_|.]\", name)\n",
    "        \n",
    "        if FullSplit[4] == \"xlsx\":\n",
    "            LegendNames.append((FullSplit[0]+\"_\"+FullSplit[3]))\n",
    "        elif FullSplit[4] != \"xlsx\":\n",
    "            LegendNames.append((FullSplit[0]+\"_\"+FullSplit[3]+\"_\"+FullSplit[4]))\n",
    "        print(FullSplit)\n",
    "        #print(CurrFile)\n",
    "        \n",
    "        #MMACheck = CurrFile[\"MMA\"]\n",
    "        #print(CurrFile.iloc[0,4])\n",
    "        if np.isnan(CurrFile.iloc[0,4]) == True:\n",
    "            A_Ang2 = (CurrFile[\"A_cm2\"]*cm2_to_Ang2)\n",
    "            CurrFile.insert(4, \"A_Ang2\", A_Ang2)\n",
    "            MMA=CurrFile[\"A_Ang2\"]/NumMolecules\n",
    "        \n",
    "        \n",
    "        IndFile = pd.DataFrame(columns = [outname+\"_Acm2\",outname+\"_P\",outname+\"_MMA\"])\n",
    "        IndFile[outname+\"_Acm2\"]=CurrFile[\"A_cm2\"]\n",
    "        IndFile[outname+\"_P\"]=CurrFile[\"P1[mN/m]\"]\n",
    "        IndFile[outname+\"_MMA\"]=MMA\n",
    "####Names columns in processed files\n",
    "        AllFiles[outname+\"_Acm2\"]=CurrFile[\"A_cm2\"]\n",
    "        AllFiles[outname+\"_P\"]=CurrFile[\"P1[mN/m]\"]\n",
    "        AllFiles[outname+\"_MMA\"]=MMA\n",
    "####Names columns in combined csv file\n",
    "        IndFile.to_csv(OutFolder+\"/\"+outname+\"_Processed.csv\")\n",
    "AllFiles.to_csv(OutFolder+\"/\"+Surfactant+\"_AllProcessed.csv\")#determines where final file goes"
   ]
  },
  {
   "cell_type": "code",
   "execution_count": 4,
   "id": "52af1068",
   "metadata": {},
   "outputs": [],
   "source": [
    "####################Figure style --> will be used for plotting\n",
    "def FigStyle(): #axis will be shared\n",
    "    mpl.rcParams['font.family'] = 'Arial'\n",
    "    plt.rcParams['font.size'] = 12\n",
    "    \n",
    "    plt.rcParams['axes.linewidth'] = 1\n",
    "    mpl.rcParams['axes.spines.right'] = True\n",
    "    mpl.rcParams['axes.spines.top'] = True\n",
    "    #plt.axis(xmin=25,xmax=250)\n",
    "    \n",
    "    mpl.rcParams['xtick.top']=False\n",
    "    mpl.rcParams['ytick.right']=False\n",
    "    ax.tick_params(direction='inout')\n",
    "    ax.tick_params('both', length=6, width=2, which='major')\n",
    "    ax.legend(LegendNames, framealpha=1, frameon=False, bbox_to_anchor=(1.01, 1)) #creates legend and specifies location + formatting\n",
    "   \n",
    "    plt.xlabel(XLabel, size=15) #x axis label\n",
    "    plt.ylabel(YLabel, size=17) #y axis label\n",
    "    \n",
    "    #ax.legend(legendNames, framealpha=1, frameon=False, bbox_to_anchor=(1.02, 1)) #creates legend and specifies location + formatting\n",
    "    \n",
    "    \n",
    "    plt.savefig(OutFolder+\"/\"+OutputName+\".png\", dpi=300, transparent=False)\n",
    "    plt.show() #shows the final plot\n",
    "    \n",
    "\n",
    "    #sets basic formatting for our plot\n"
   ]
  },
  {
   "cell_type": "code",
   "execution_count": 5,
   "id": "92ed3a0e",
   "metadata": {},
   "outputs": [
    {
     "data": {
      "image/png": "[encoded data removed]",
      "text/plain": [
       "<Figure size 432x288 with 1 Axes>"
      ]
     },
     "metadata": {
      "needs_background": "light"
     },
     "output_type": "display_data"
    }
   ],
   "source": [
    "######## Plots a graph based on XAxis and YAxis list with\n",
    "fig, ax = plt.subplots(sharex =True , sharey= True, figsize=(6,4))\n",
    "for i in range(len(XAxis)):\n",
    "    x= XAxis[i]\n",
    "    y= YAxis[i] #plots the x and y values of each dataframe individually on a shared axis\n",
    "    plt.plot(x, y) #actually plots our graph\n",
    "    \n",
    "\n",
    "FigStyle();  \n",
    "plt.show() #shows the final plot\n"
   ]
  },
  {
   "cell_type": "code",
   "execution_count": null,
   "id": "4ca8ef53",
   "metadata": {},
   "outputs": [],
   "source": []
  }
 ],
 "metadata": {
  "kernelspec": {
   "display_name": "Python 3",
   "language": "python",
   "name": "python3"
  },
  "language_info": {
   "codemirror_mode": {
    "name": "ipython",
    "version": 3
   },
   "file_extension": ".py",
   "mimetype": "text/x-python",
   "name": "python",
   "nbconvert_exporter": "python",
   "pygments_lexer": "ipython3",
   "version": "3.8.8"
  }
 },
 "nbformat": 4,
 "nbformat_minor": 5
}
