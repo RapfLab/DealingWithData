{
 "cells": [
  {
   "cell_type": "code",
   "execution_count": 236,
   "id": "0c5a82db",
   "metadata": {},
   "outputs": [],
   "source": [
    "import pandas as pd\n",
    "import numpy as np\n",
    "import matplotlib as mpl\n",
    "import matplotlib.pyplot as plt \n",
    "import os\n",
    "import glob\n",
    "import statistics\n",
    "#import everything\n"
   ]
  },
  {
   "cell_type": "code",
   "execution_count": 245,
   "id": "8f1e6795",
   "metadata": {
    "scrolled": true
   },
   "outputs": [
    {
     "name": "stdout",
     "output_type": "stream",
     "text": [
      "-0.00946151\n",
      "0     -0.081736\n",
      "1     -0.081767\n",
      "2     -0.081822\n",
      "3     -0.081897\n",
      "4     -0.081925\n",
      "         ...   \n",
      "375    2.710822\n",
      "376    2.767332\n",
      "377    2.805322\n",
      "378    2.843702\n",
      "379    2.854552\n",
      "Name: Absorbance, Length: 380, dtype: float64\n",
      "[-0.0946151]\n"
     ]
    }
   ],
   "source": [
    "os. chdir(\"/Users/rebeccarafp/Documents/RapfLabPython/UVVis/210629\") #sets working directory\n",
    "\n",
    "header_length=19\n",
    "FooterLength=44 #sets how many rows to skip at the bottom. For Trough data can probably just use 0 or 1 and it should work.\n",
    "TotalTime= \"16hr\" #How many hours did the photolysis run for. This is used for generating an automatic legend\n",
    "XLabel=\"Wavelength (nm)\" #sets x axis label for graph later on\n",
    "YLabel=\"Absorbance\" #sets y axis label for graph later on\n",
    "FileType = \"csv\" #pick from \"xlsx\" or \"csv\"\n",
    "OutputName = \"name\" #name of the file (will save in directory specified above)\n",
    "\n",
    "NumBaselineAverage = 100 #number of points to average to get baseline correction\n",
    "StartBaselinePoint = 10 #starting point for correction -- not wavelength, but should correspond to ~550/600 nm\n",
    "\n",
    "#This is everything that needs to be changed in this file\n",
    "\n",
    "\n",
    "\n",
    "\n",
    "files = sorted(glob.glob(\"*\"+FileType))\n",
    "files.sort(key=os.path.getmtime)\n",
    "XAxis=[]\n",
    "YAxis=[] #creates to empty sets where the x and y values of all documents will be appended for later graphing\n",
    "legendNames=[]\n",
    "NamePic=[]\n",
    "\n",
    "\n",
    "for entry in range(len(files)):\n",
    "    name = files[entry]\n",
    "    if FileType == \"csv\":\n",
    "        CurrFile = pd.read_csv(files[entry],skiprows = header_length, skipfooter=FooterLength, engine='python')#sets amount of lines to skip at beginning and end of a document\n",
    "        CurrFile.columns=[\"Wavelength\",\"Absorbance\"]\n",
    "        #XAxis.append(CurrFile[\"Wavelength\"])\n",
    "        #YAxis.append(CurrFile[\"Absorbance\"])\n",
    "        \n",
    "############################OFFSET MATH###############\n",
    "        YAverage=[]\n",
    "        #print(YAverage)\n",
    "        YAverage = CurrFile[\"Absorbance\"][StartBaselinePoint:StartBaselinePoint+NumBaselineAverage]\n",
    "        #XAverage = CurrFile[\"Wavelength\"][100:110]\n",
    "        #print(XAverage)\n",
    "        RefMean = YAverage.mean()\n",
    "        \n",
    "        CurrFile[\"CorrectedAbsorbance\"] = CurrFile[\"Absorbance\"]-RefMean\n",
    "        #print(CurrFile.head())\n",
    "        #print(RefMean)\n",
    "        #print(YAverage)\n",
    "        \n",
    "        XAxis.append(CurrFile[\"Wavelength\"])\n",
    "        YAxis.append(CurrFile[\"CorrectedAbsorbance\"])\n",
    "#######################################################    \n",
    "        \n",
    "        \n",
    "        \n",
    "        FullSplit = name.split(\"_\") #gets all parts of the file name\n",
    "        legendNames.append(FullSplit[2])# gets the hour/time labelling (0 is date, 1 is name of compound/molarity, 2 is time)\n",
    "        NamePic.append(FullSplit[0]+FullSplit[1])\n",
    "        if legendNames[entry] == 'pre': #this script replaces \"pre\" with 0hr\n",
    "            legendNames.pop(0) #removes first (may be pre if early otherwise will be 0hr)\n",
    "            legendNames.append(\"0hr\") #appends the value of \"0 hr\", replacing \"pre\"\n",
    "            \n",
    "        elif legendNames[entry] == 'post': #this script replaces post with a user inputted time of the total photolysis\n",
    "            legendNames.pop() #removes last entry (will be post in this case)\n",
    "            legendNames.append(TotalTime) #appends the value of total time, replacing post\n",
    "            \n",
    "        else:\n",
    "            continue #if everything is normal, continues\n",
    "        \n",
    "    #reads all files in given folder if they are csv and appends wavelength and Absorbance to XAxis and YAxis dataframes\n",
    "    \n",
    "  \n",
    "    elif FileType == \"xlsx\":   #if file is not csv but is xlsx it goes through this function instead\n",
    "        #CompFile = files[entry]\n",
    "        #print(CompFile)\n",
    "        CurrFile = pd.read_excel(files[entry],skiprows = header_length, skipfooter=FooterLength, engine='python')#sets amount of lines to skip at beginning and end of a document\n",
    "        CurrFile.columns=[\"Wavelength\",\"Absorbance\"]\n",
    "        XAxis.append(CurrFile[\"Wavelength\"])\n",
    "        YAxis.append(CurrFile[\"Absorbance\"])\n",
    "        \n",
    "        FullSplit = name.split(\"_\") #gets all parts of the file name\n",
    "        legendNames.append(FullSplit[1])# gets the hour/time labelling (0 is date, 1 is name of compound/molarity, 2 is time)\n",
    "        NamePic.append(FullSplit[0]+FullSplit[1])\n",
    "        if legendNames[entry] == 'pre': #this script replaces \"pre\" with 0hr\n",
    "            legendNames.pop(0) #removes first (may be pre if early otherwise will be 0hr)\n",
    "            legendNames.append(\"0hr\") #appends the value of \"0 hr\", replacing \"pre\"\n",
    "            \n",
    "        elif legendNames[entry] == 'post': #this script replaces post with a user inputted time of the total photolysis\n",
    "            legendNames.pop() #removes last entry (will be post in this case)\n",
    "            legendNames.append(TotalTime) #appends the value of total time, replacing post\n",
    "            \n",
    "        else:\n",
    "            continue #if everything is normal, continues\n",
    "    #reads all files in given folder if they are xlsx and appends wavelength and Absorbance to XAxis and YAxis dataframes"
   ]
  },
  {
   "cell_type": "code",

   "execution_count": 55,

   "metadata": {
    "scrolled": false
   },
   "outputs": [],
   "source": [
    "def FigStyle(): #axis will be shared\n",
    "    mpl.rcParams['font.family'] = 'Arial'\n",
    "    plt.rcParams['font.size'] = 12\n",
    "    \n",
    "    plt.rcParams['axes.linewidth'] = 1\n",
    "    mpl.rcParams['axes.spines.right'] = True\n",
    "    mpl.rcParams['axes.spines.top'] = True\n",

    "    plt.axis(xmin=250,xmax=400)\n",
    "    plt.axis(ymin=-.01, ymax=.5)\n",

    "    \n",
    "    mpl.rcParams['xtick.top']=False\n",
    "    mpl.rcParams['ytick.right']=False\n",
    "    ax.tick_params(direction='inout')\n",
    "    ax.tick_params('both', length=6, width=2, which='major')\n",
    "    ax.legend(legendNames, framealpha=1, frameon=False, bbox_to_anchor=(1.01, 1)) #creates legend and specifies location + formatting\n",
    "   \n",
    "    plt.xlabel(XLabel, size=15) #x axis label\n",
    "    plt.ylabel(YLabel, size=17) #y axis label\n",
    "    \n",
    "    #ax.legend(legendNames, framealpha=1, frameon=False, bbox_to_anchor=(1.02, 1)) #creates legend and specifies location + formatting\n",
    "    \n",
    "    \n",
    "    plt.savefig(\"Hello2\"+\".png\", dpi=300, transparent=False) \n",
    "    plt.show() #shows the final plot\n",
    "    \n",
    "\n",
    "    #sets basic formatting for our plot\n"
   ]
  },
  {
   "cell_type": "code",

   "execution_count": 56,

   "metadata": {
    "scrolled": true
   },
   "outputs": [
    {
     "data": {

      "image/png": "[encoded data removed]",

      "text/plain": [
       "<Figure size 432x288 with 1 Axes>"
      ]
     },
     "metadata": {
      "needs_background": "light"
     },
     "output_type": "display_data"
    }
   ],
   "source": [
    "\n",
    "fig, ax = plt.subplots(sharex =True , sharey= True, figsize=(6,4))\n",
    "for i in range(len(XAxis)):\n",
    "    x= XAxis[i]\n",
    "    y= YAxis[i] #plots the x and y values of each dataframe individually on a shared axis\n",
    "    plt.plot(x, y) #actually plots our graph\n",
    "    \n",
    "\n",
    "FigStyle();  \n",
    "plt.show() #shows the final plot\n",
    "\n"
   ]
  },
  {
   "cell_type": "code",
   "execution_count": null,
   "id": "ebcda008",
   "metadata": {},
   "outputs": [],
   "source": []
  }
 ],
 "metadata": {
  "kernelspec": {
   "display_name": "Python 3",
   "language": "python",
   "name": "python3"
  },
  "language_info": {
   "codemirror_mode": {
    "name": "ipython",
    "version": 3
   },
   "file_extension": ".py",
   "mimetype": "text/x-python",
   "name": "python",
   "nbconvert_exporter": "python",
   "pygments_lexer": "ipython3",
   "version": "3.8.8"
  }
 },
 "nbformat": 4,
 "nbformat_minor": 5
}
