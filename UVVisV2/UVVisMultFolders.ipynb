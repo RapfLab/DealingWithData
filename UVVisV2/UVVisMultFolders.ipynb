{
 "cells": [
  {
   "cell_type": "code",
   "execution_count": 1,
   "id": "0c5a82db",
   "metadata": {},
   "outputs": [],
   "source": [
    "import pandas as pd\n",
    "import numpy as np\n",
    "import matplotlib as mpl\n",
    "import matplotlib.pyplot as plt \n",
    "import os\n",
    "import glob\n",
    "#import everything\n"
   ]
  },
  {
   "cell_type": "code",
   "execution_count": 20,
   "id": "8f1e6795",
   "metadata": {},
   "outputs": [],
   "source": [
    "os. chdir(\"/Users/timmo/Documents/RAPFLAB/code/UVVisV2\") #sets working directory\n",
    "\n",
    "header_length=19\n",
    "FooterLength=44 #sets how many rows to skip at the bottom. For Trough data can probably just use 0 or 1 and it should work.\n",
    "TotalTime= \"16hr\" #How many hours did the photolysis run for. This is used for generating an automatic legend\n",
    "XLabel=\"Wavelength (nm)\" #sets x axis label for graph later on\n",
    "YLabel=\"Absorbance\" #sets y axis label for graph later on\n",
    "FileType = \"csv\" #pick from \"xlsx\" or \"csv\"\n",
    "OutputName = \"name\" #name of the file (will save in directory specified above)\n",
    "FolderList=[]\n",
    "#This is everything that needs to be changed in this file\n",
    "\n",
    "\n",
    "\n",
    "\n",
    "files = sorted(glob.glob(\"*\"+FileType))\n",
    "os.walk(\"/Users/timmo/Documents/RAPFLAB/code/ALL\")\n",
    "FolderList.append([x[0] for x in os.walk(\"/Users/timmo/Documents/RAPFLAB/code/UVVisV2\")])\n",
    "\n",
    "files.sort(key=os.path.getmtime)\n",
    "XAxis=[]\n",
    "YAxis=[] #creates to empty sets where the x and y values of all documents will be appended for later graphing\n",
    "legendNames=[]\n",
    "NamePic=[]\n",
    "\n",
    "for entry in range(len(files)):\n",
    "    name = files[entry]\n",
    "    if FileType == \"csv\":\n",
    "        CurrFile = pd.read_csv(files[entry],skiprows = header_length, skipfooter=FooterLength, engine='python')#sets amount of lines to skip at beginning and end of a document\n",
    "        CurrFile.columns=[\"Wavelength\",\"Absorbance\"]\n",
    "        XAxis.append(CurrFile[\"Wavelength\"])\n",
    "        YAxis.append(CurrFile[\"Absorbance\"])\n",
    "      \n",
    "        FullSplit = name.split(\"_\") #gets all parts of the file name\n",
    "        legendNames.append(FullSplit[1])# gets the hour/time labelling (0 is date, 1 is name of compound/molarity, 2 is time)\n",
    "        NamePic.append(FullSplit[0]+FullSplit[1])\n",
    "        if legendNames[entry] == 'pre': #this script replaces \"pre\" with 0hr\n",
    "            legendNames.pop(0) #removes first (may be pre if early otherwise will be 0hr)\n",
    "            legendNames.append(\"0hr\") #appends the value of \"0 hr\", replacing \"pre\"\n",
    "            \n",
    "        elif legendNames[entry] == 'post': #this script replaces post with a user inputted time of the total photolysis\n",
    "            legendNames.pop() #removes last entry (will be post in this case)\n",
    "            legendNames.append(TotalTime) #appends the value of total time, replacing post\n",
    "            \n",
    "        else:\n",
    "            continue #if everything is normal, continues\n",
    "        \n",
    "    #reads all files in given folder if they are csv and appends wavelength and Absorbance to XAxis and YAxis dataframes\n",
    "    \n",
    "  \n",
    "    elif FileType == \"xlsx\":   #if file is not csv but is xlsx it goes through this function instead\n",
    "        #CompFile = files[entry]\n",
    "        #print(CompFile)\n",
    "        CurrFile = pd.read_excel(files[entry],skiprows = header_length, skipfooter=FooterLength, engine='python')#sets amount of lines to skip at beginning and end of a document\n",
    "        CurrFile.columns=[\"Wavelength\",\"Absorbance\"]\n",
    "        XAxis.append(CurrFile[\"Wavelength\"])\n",
    "        YAxis.append(CurrFile[\"Absorbance\"])\n",
    "        \n",
    "        FullSplit = name.split(\"_\") #gets all parts of the file name\n",
    "        legendNames.append(FullSplit[1])# gets the hour/time labelling (0 is date, 1 is name of compound/molarity, 2 is time)\n",
    "        NamePic.append(FullSplit[0]+FullSplit[1])\n",
    "        if legendNames[entry] == 'pre': #this script replaces \"pre\" with 0hr\n",
    "            legendNames.pop(0) #removes first (may be pre if early otherwise will be 0hr)\n",
    "            legendNames.append(\"0hr\") #appends the value of \"0 hr\", replacing \"pre\"\n",
    "            \n",
    "        elif legendNames[entry] == 'post': #this script replaces post with a user inputted time of the total photolysis\n",
    "            legendNames.pop() #removes last entry (will be post in this case)\n",
    "            legendNames.append(TotalTime) #appends the value of total time, replacing post\n",
    "            \n",
    "        else:\n",
    "            continue #if everything is normal, continues\n",
    "    #reads all files in given folder if they are xlsx and appends wavelength and Absorbance to XAxis and YAxis dataframes\n",
    "\n",
    "\n"
   ]
  },
  {
   "cell_type": "code",
   "execution_count": 13,
   "id": "9dc847f6",
   "metadata": {
    "scrolled": false
   },
   "outputs": [],
   "source": [
    "def FigStyle(): #axis will be shared\n",
    "    mpl.rcParams['font.family'] = 'Arial'\n",
    "    plt.rcParams['font.size'] = 12\n",
    "    \n",
    "    plt.rcParams['axes.linewidth'] = 1\n",
    "    mpl.rcParams['axes.spines.right'] = True\n",
    "    mpl.rcParams['axes.spines.top'] = True\n",
    "    plt.axis(xmin=200,xmax=600)\n",
    "    \n",
    "    mpl.rcParams['xtick.top']=False\n",
    "    mpl.rcParams['ytick.right']=False\n",
    "    ax.tick_params(direction='inout')\n",
    "    ax.tick_params('both', length=6, width=2, which='major')\n",
    "    ax.legend(legendNames, framealpha=1, frameon=False, bbox_to_anchor=(1.01, 1)) #creates legend and specifies location + formatting\n",
    "   \n",
    "    plt.xlabel(XLabel, size=15) #x axis label\n",
    "    plt.ylabel(YLabel, size=17) #y axis label\n",
    "    \n",
    "    #ax.legend(legendNames, framealpha=1, frameon=False, bbox_to_anchor=(1.02, 1)) #creates legend and specifies location + formatting\n",
    "    \n",
    "    \n",
    "    plt.savefig(\"../\"+\"PNG/\"+PicNames[0]+\".png\", dpi=300, transparent=False) \n",
    "    plt.show() #shows the final plot\n",
    "    \n",
    "\n",
    "    #sets basic formatting for our plot\n"
   ]
  },
  {
   "cell_type": "code",
   "execution_count": 14,
   "id": "a3687550",
   "metadata": {
    "scrolled": true
   },
   "outputs": [
    {
     "ename": "IndexError",
     "evalue": "list index out of range",
     "output_type": "error",
     "traceback": [
      "\u001b[1;31m---------------------------------------------------------------------------\u001b[0m",
      "\u001b[1;31mIndexError\u001b[0m                                Traceback (most recent call last)",
      "\u001b[1;32m<ipython-input-14-e0dd968a323b>\u001b[0m in \u001b[0;36m<module>\u001b[1;34m\u001b[0m\n\u001b[0;32m      6\u001b[0m \u001b[1;33m\u001b[0m\u001b[0m\n\u001b[0;32m      7\u001b[0m \u001b[1;33m\u001b[0m\u001b[0m\n\u001b[1;32m----> 8\u001b[1;33m \u001b[0mFigStyle\u001b[0m\u001b[1;33m(\u001b[0m\u001b[1;33m)\u001b[0m\u001b[1;33m;\u001b[0m\u001b[1;33m\u001b[0m\u001b[1;33m\u001b[0m\u001b[0m\n\u001b[0m\u001b[0;32m      9\u001b[0m \u001b[0mplt\u001b[0m\u001b[1;33m.\u001b[0m\u001b[0mshow\u001b[0m\u001b[1;33m(\u001b[0m\u001b[1;33m)\u001b[0m \u001b[1;31m#shows the final plot\u001b[0m\u001b[1;33m\u001b[0m\u001b[1;33m\u001b[0m\u001b[0m\n\u001b[0;32m     10\u001b[0m \u001b[1;33m\u001b[0m\u001b[0m\n",
      "\u001b[1;32m<ipython-input-13-0d4f1a71b022>\u001b[0m in \u001b[0;36mFigStyle\u001b[1;34m()\u001b[0m\n\u001b[0;32m     20\u001b[0m \u001b[1;33m\u001b[0m\u001b[0m\n\u001b[0;32m     21\u001b[0m \u001b[1;33m\u001b[0m\u001b[0m\n\u001b[1;32m---> 22\u001b[1;33m     \u001b[0mplt\u001b[0m\u001b[1;33m.\u001b[0m\u001b[0msavefig\u001b[0m\u001b[1;33m(\u001b[0m\u001b[0mPicNames\u001b[0m\u001b[1;33m[\u001b[0m\u001b[1;36m0\u001b[0m\u001b[1;33m]\u001b[0m\u001b[1;33m+\u001b[0m\u001b[1;34m\".png\"\u001b[0m\u001b[1;33m,\u001b[0m \u001b[0mdpi\u001b[0m\u001b[1;33m=\u001b[0m\u001b[1;36m300\u001b[0m\u001b[1;33m,\u001b[0m \u001b[0mtransparent\u001b[0m\u001b[1;33m=\u001b[0m\u001b[1;32mFalse\u001b[0m\u001b[1;33m)\u001b[0m\u001b[1;33m\u001b[0m\u001b[1;33m\u001b[0m\u001b[0m\n\u001b[0m\u001b[0;32m     23\u001b[0m     \u001b[0mplt\u001b[0m\u001b[1;33m.\u001b[0m\u001b[0mshow\u001b[0m\u001b[1;33m(\u001b[0m\u001b[1;33m)\u001b[0m \u001b[1;31m#shows the final plot\u001b[0m\u001b[1;33m\u001b[0m\u001b[1;33m\u001b[0m\u001b[0m\n\u001b[0;32m     24\u001b[0m \u001b[1;33m\u001b[0m\u001b[0m\n",
      "\u001b[1;31mIndexError\u001b[0m: list index out of range"
     ]
    },
    {
     "data": {
      "image/png": "[encoded data removed]",
      "text/plain": [
       "<Figure size 432x288 with 1 Axes>"
      ]
     },
     "metadata": {
      "needs_background": "light"
     },
     "output_type": "display_data"
    }
   ],
   "source": [
    "\n",
    "fig, ax = plt.subplots(sharex =True , sharey= True, figsize=(6,4))\n",
    "for i in range(len(XAxis)):\n",
    "    x= XAxis[i]\n",
    "    y= YAxis[i] #plots the x and y values of each dataframe individually on a shared axis\n",
    "    plt.plot(x, y) #actually plots our graph\n",
    "    \n",
    "\n",
    "FigStyle();  \n",
    "plt.show() #shows the final plot\n",
    "\n"
   ]
  },
  {
   "cell_type": "code",
   "execution_count": null,
   "id": "88cab5fb",
   "metadata": {},
   "outputs": [],
   "source": []
  }
 ],
 "metadata": {
  "kernelspec": {
   "display_name": "Python 3",
   "language": "python",
   "name": "python3"
  },
  "language_info": {
   "codemirror_mode": {
    "name": "ipython",
    "version": 3
   },
   "file_extension": ".py",
   "mimetype": "text/x-python",
   "name": "python",
   "nbconvert_exporter": "python",
   "pygments_lexer": "ipython3",
   "version": "3.8.8"
  }
 },
 "nbformat": 4,
 "nbformat_minor": 5
}
