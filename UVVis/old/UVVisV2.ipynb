{
 "cells": [
  {
   "cell_type": "code",
   "execution_count": 1,
   "id": "adac2204",
   "metadata": {},
   "outputs": [],
   "source": [
    "import pandas as pd\n",
    "import numpy as np\n",
    "import matplotlib as mpl\n",
    "import matplotlib.pyplot as plt \n",
    "import os\n",
    "import glob\n",
    "#import everything"
   ]
  },
  {
   "cell_type": "code",
   "execution_count": 2,
   "id": "5583d65d",
   "metadata": {},
   "outputs": [],
   "source": [
    "def VariablesAndMath(Directory, FileType, TotalTime):\n",
    "    os. chdir(Directory) #sets working directory\n",
    "    global header_length\n",
    "    header_length=19\n",
    "    global footer_length\n",
    "    footer_length=94 #sets how many rows to skip at the bottom. For Trough data can probably just use 0 or 1 and it should work.\n",
    "    global XLabel\n",
    "    XLabel=\"Wavelength (nm)\" #sets x axis label for graph later on\n",
    "    global YLabel\n",
    "    YLabel=\"Absorbance\" #sets y axis label for graph later on\n",
    "    #This is everything that needs to be changed from file to file\n",
    "    \n",
    "    files = sorted(glob.glob(\"*\"+FileType))\n",
    "    files.sort(key=os.path.getmtime)\n",
    "    global XAxis\n",
    "    XAxis=[]\n",
    "    global YAxis\n",
    "    YAxis=[] #creates to empty sets where the x and y values of all documents will be appended for later graphing\n",
    "    global legendNames\n",
    "    legendNames=[]\n",
    "    ##################\n",
    "\n",
    "    for entry in range(len(files)):\n",
    "        name = files[entry]\n",
    "        if FileType == \"csv\":\n",
    "            CurrFile = pd.read_csv(files[entry],skiprows = header_length, skipfooter=footer_length, engine='python')#sets amount of lines to skip at beginning and end of a document\n",
    "            CurrFile.columns=[\"Wavelength\",\"Absorbance\"]\n",
    "            XAxis.append(CurrFile[\"Wavelength\"])\n",
    "            YAxis.append(CurrFile[\"Absorbance\"])\n",
    "    \n",
    "            FullSplit = name.split(\"_\") #gets all parts of the file name\n",
    "            legendNames.append(FullSplit[2])# gets the hour/time labelling (0 is date, 1 is name of compound/molarity, 2 is time)\n",
    "\n",
    "            if legendNames[entry] == 'pre': #this script replaces \"pre\" with 0hr\n",
    "                legendNames.pop(0) #removes first (may be pre if early otherwise will be 0hr)\n",
    "                legendNames.append(\"0hr\") #appends the value of \"0 hr\", replacing \"pre\"\n",
    "\n",
    "            elif legendNames[entry] == 'post': #this script replaces post with a user inputted time of the total photolysis\n",
    "                legendNames.pop() #removes last entry (will be post in this case)\n",
    "                legendNames.append(TotalTime) #appends the value of total time, replacing post\n",
    "\n",
    "            else:\n",
    "                continue #if everything is normal, continues\n",
    "        #reads all files in given folder if they are csv and appends wavelength and Absorbance to XAxis and YAxis dataframes\n",
    "        #######################################\n",
    "\n",
    "        elif FileType == \"xlsx\":   #if file is not csv but is xlsx it goes through this function instead\n",
    "            #CompFile = files[entry]\n",
    "            #print(CompFile)\n",
    "            CurrFile = pd.read_excel(files[entry],skiprows = header_length, skipfooter=footer_length, engine='python')#sets amount of lines to skip at beginning and end of a document\n",
    "            CurrFile.columns=[\"Wavelength\",\"Absorbance\"]\n",
    "            XAxis.append(CurrFile[\"Wavelength\"])\n",
    "            YAxis.append(CurrFile[\"Absorbance\"])\n",
    "\n",
    "            FullSplit = name.split(\"_\") #gets all parts of the file name\n",
    "\n",
    "            legendNames.append(FullSplit[3])# gets the hour/time labelling (0 is date, 1 is name of compound/molarity, 2 is time)\n",
    "            if legendNames[entry] == 'pre': #this script replaces \"pre\" with 0hr\n",
    "                legendNames.pop(0) #removes first (may be pre if early otherwise will be 0hr)\n",
    "                legendNames.append(\"0hr\") #appends the value of \"0 hr\", replacing \"pre\"\n",
    "\n",
    "            elif legendNames[entry] == 'post': #this script replaces post with a user inputted time of the total photolysis\n",
    "                legendNames.pop() #removes last entry (will be post in this case)\n",
    "                legendNames.append(TotalTime) #appends the value of total time, replacing post\n",
    "\n",
    "            else:\n",
    "                continue #if everything is normal, continues\n",
    "        #reads all files in given folder if they are xlsx and appends wavelength and Absorbance to XAxis and YAxis dataframes\n",
    "        ######################################\n",
    "        \n",
    "    return(legendNames)\n",
    "   \n",
    "    "
   ]
  },
  {
   "cell_type": "code",
   "execution_count": 3,
   "id": "e9255fa8",
   "metadata": {},
   "outputs": [],
   "source": [
    "def FigStyle(OutputName): #axis will be shared\n",
    "    mpl.rcParams['font.family'] = 'Arial'\n",
    "    plt.rcParams['font.size'] = 12\n",
    "    ###########################\n",
    "    \n",
    "    plt.rcParams['axes.linewidth'] = 1\n",
    "    mpl.rcParams['axes.spines.right'] = True\n",
    "    mpl.rcParams['axes.spines.top'] = True\n",
    "    plt.axis(xmin=250,xmax=600)\n",
    "    ###########################\n",
    "    \n",
    "    mpl.rcParams['xtick.top']=False\n",
    "    mpl.rcParams['ytick.right']=False\n",
    "    plt.tick_params(direction='inout')\n",
    "    plt.tick_params('both', length=5, width=2, which='major')\n",
    "    ###########################\n",
    "   \n",
    "    plt.xlabel(XLabel, size=15) #x axis label\n",
    "    plt.ylabel(YLabel, size=17) #y axis label\n",
    "    ###########################\n",
    "    \n",
    "    plt.legend(legendNames, framealpha=1, frameon=False, bbox_to_anchor=(1.02, 1)) #creates legend and specifies location + formatting\n",
    "    ###########################\n",
    "    \n",
    "    plt.savefig(OutputName+\".png\", dpi=300, transparent=False) \n",
    "    plt.show() #shows the final plot\n",
    "    ###########################\n",
    "\n",
    "    #sets basic formatting for our plot\n",
    "    return()\n",
    "    ###########################"
   ]
  },
  {
   "cell_type": "code",
   "execution_count": 4,
   "id": "a889f973",
   "metadata": {},
   "outputs": [],
   "source": [
    "def main():\n",
    "    VariablesAndMath(\"/Users/timmo/Documents/RAPFLAB/TM/210525/pyruvic/1\",\"csv\",\"16hr\")\n",
    "    ###############\n",
    "    \n",
    "    fig, ax = plt.subplots(sharex =True , sharey= True, figsize=(6,4))\n",
    "    for i in range(len(XAxis)):\n",
    "        x= XAxis[i]\n",
    "        y= YAxis[i] #plots the x and y values of each dataframe individually on a shared axis\n",
    "        ax.plot(x, y) #plots the graph in a loop on the same axes \n",
    "    ###############\n",
    "    \n",
    "    FigStyle(\"Hello\")\n",
    "    \n"
   ]
  },
  {
   "cell_type": "code",
   "execution_count": 5,
   "id": "d5bbfd27",
   "metadata": {},
   "outputs": [
    {
     "data": {
      "image/png": "[encoded data removed]",
      "text/plain": [
       "<Figure size 432x288 with 1 Axes>"
      ]
     },
     "metadata": {
      "needs_background": "light"
     },
     "output_type": "display_data"
    }
   ],
   "source": [
    "if __name__== \"__main__\":\n",
    "    main()"
   ]
  },
  {
   "cell_type": "code",
   "execution_count": null,
   "id": "443d0559",
   "metadata": {},
   "outputs": [],
   "source": []
  }
 ],
 "metadata": {
  "kernelspec": {
   "display_name": "Python 3",
   "language": "python",
   "name": "python3"
  },
  "language_info": {
   "codemirror_mode": {
    "name": "ipython",
    "version": 3
   },
   "file_extension": ".py",
   "mimetype": "text/x-python",
   "name": "python",
   "nbconvert_exporter": "python",
   "pygments_lexer": "ipython3",
   "version": "3.8.8"
  }
 },
 "nbformat": 4,
 "nbformat_minor": 5
}
