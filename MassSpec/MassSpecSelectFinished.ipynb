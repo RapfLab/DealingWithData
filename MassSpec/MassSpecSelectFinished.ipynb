{
 "cells": [
  {
   "cell_type": "code",
   "execution_count": 17,
   "id": "d344bfb5",
   "metadata": {},
   "outputs": [],
   "source": [
    "import pandas as pd\n",
    "import numpy as np\n",
    "import glob\n",
    "import matplotlib as mpl\n",
    "import matplotlib.pyplot as plt \n",
    "import os\n",
    "#import more_itertools as mit"
   ]
  },
  {
   "cell_type": "code",
   "execution_count": 18,
   "id": "0d0176df",
   "metadata": {},
   "outputs": [
    {
     "name": "stdout",
     "output_type": "stream",
     "text": [
      "[87.1, 129.1, 157.1, 173.1, 175.1, 177.1, 245.1, 247.1, 285.1, 287.1, 315.1, 317.1, 385.1]\n"
     ]
    }
   ],
   "source": [
    "\n",
    "FilePathList = \"/Users/timmo/Documents/RAPFLAB/code/MStest\" \n",
    "\n",
    "FileType=\"csv\"\n",
    "MassNumbersList=[]\n",
    "os. chdir(FilePathList)\n",
    "CurrFile = pd.read_csv(\"masslist.csv\")\n",
    "for i in (range(len(CurrFile))):\n",
    "    MassNumbersList.append(CurrFile['mz_list'][i])\n",
    "print(MassNumbersList)\n",
    "#MSL=MassNumbersList\n",
    "#print(MSL)\n",
    "        \n",
    "# for i in range(len(MassNumbersList)):\n",
    "#     print(MassNumbersList[i])\n",
    "# for entry in range(len(MassNumbersList)):\n",
    "#     #print(mass)\n",
    "#     print(MassNumbersList[entry])"
   ]
  },
  {
   "cell_type": "code",
   "execution_count": 67,
   "id": "9fcf5ae3",
   "metadata": {
    "scrolled": false
   },
   "outputs": [
    {
     "name": "stdout",
     "output_type": "stream",
     "text": [
      "['OOApre_50C_50uM_s2_MS.csv', 'OOApst_50C_15uL_MS.csv']\n"
     ]
    }
   ],
   "source": [
    "####Different way of coding it\n",
    "FilePath = \"/Users/timmo/Documents/RAPFLAB/code/MStest/List\" ##currently local only, will change to read from google drive\n",
    "#OutFolder = \"Processed\"\n",
    "\n",
    "FileType=\"csv\"\n",
    "files = sorted(glob.glob(\"*\"+FileType))\n",
    "#files.sort(key=os.path.getmtime)\n",
    "num_files = len(files)\n",
    "OutFolder = \"Processed\"\n",
    "outname = \"OOA\"\n",
    "AllFiles = pd.DataFrame()\n",
    "\n",
    "Selected=[]\n",
    "ErrorRange = 0.005        \n",
    "Processed=[]\n",
    "ProcessedX=[]\n",
    "ProcessedY=[]\n",
    "NameList=[]\n",
    "\n",
    "FileType=\"csv\"\n",
    "files = sorted(glob.glob(\"*\"+FileType))\n",
    "#print(MSL)\n",
    "print(files)\n",
    "os. chdir(FilePath)\n",
    "for entry in range(num_files): #file x:\n",
    "    name = files[entry]\n",
    "    CurrFile = pd.read_csv(files[entry],skiprows=1)\n",
    "    #print(CurrFile)\n",
    "    FullSplit = name.split(\"_\") #gets all parts of the file name\n",
    "    NameList.append(outname+str(FullSplit[2]))\n",
    "    for mass in range(len(MassNumbersList)): #goes through each mast in the MassesList\n",
    "        MassHigh=((MassNumbersList[mass])+ErrorRange)\n",
    "        MassLow=((MassNumbersList[mass])-ErrorRange)\n",
    "        fixed=CurrFile.drop(columns=\"#Point\")\n",
    "        fit=fixed[\"X(Thompsons)\"].between(MassLow, MassHigh, inclusive = True)\n",
    "\n",
    "        for i in range(len(fit)):\n",
    "             if fit[i]== True:\n",
    "                    ProcessedX.append(fixed[\"X(Thompsons)\"][i])\n",
    "                    ProcessedY.append(fixed[\"Y(Counts)\"][i])\n",
    "\n",
    "             \n",
    "        if sum(fit) == False:\n",
    "                  ProcessedX.append(0)\n",
    "                  ProcessedY.append(0)\n",
    "        \n",
    "        \n",
    "        \n",
    "#length=((len(MassNumbersList))\n",
    "length=(int(len(MassNumbersList)))\n",
    "\n",
    "for i in range((num_files)):   \n",
    "    IndFile = pd.DataFrame(columns = [\"mz_list\",NameList[i]+\"_mass\",NameList[i]+\"_count\"])\n",
    "    IndFile[\"mz_list\"]=MassNumbersList\n",
    "    IndFile[NameList[i]+\"_mass\"]=ProcessedX[(i*length):((i+1)*length)]\n",
    "    IndFile[NameList[i]+\"_count\"]=ProcessedY[(i*length):((i+1)*length)]\n",
    "    IndFile.to_csv(OutFolder+\"/\"+NameList[i]+\"_Processed.csv\")\n",
    "           \n",
    "\n",
    "AllFiles[outname+\"mz_list\"]=MassNumbersList     \n",
    "for i in range(num_files):\n",
    "    AllFiles[outname+\"_mass\"+NameList[i]]=ProcessedX[(i*length):((i+1)*length)]\n",
    "    AllFiles[outname+\"_count\"+NameList[i]]=ProcessedY[(i*length):((i+1)*length)]\n",
    "    \n",
    "        \n",
    "AllFiles.to_csv(OutFolder+\"/\"+outname+\"_AllProcessed.csv\")\n",
    "\n",
    "    "
   ]
  },
  {
   "cell_type": "code",
   "execution_count": null,
   "id": "b29f751d",
   "metadata": {},
   "outputs": [],
   "source": []
  }
 ],
 "metadata": {
  "kernelspec": {
   "display_name": "Python 3",
   "language": "python",
   "name": "python3"
  },
  "language_info": {
   "codemirror_mode": {
    "name": "ipython",
    "version": 3
   },
   "file_extension": ".py",
   "mimetype": "text/x-python",
   "name": "python",
   "nbconvert_exporter": "python",
   "pygments_lexer": "ipython3",
   "version": "3.8.8"
  }
 },
 "nbformat": 4,
 "nbformat_minor": 5
}
