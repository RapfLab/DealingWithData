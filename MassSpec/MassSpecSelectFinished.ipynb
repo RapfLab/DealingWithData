{
 "cells": [
  {
   "cell_type": "code",
   "execution_count": 1,
   "id": "d344bfb5",
   "metadata": {},
   "outputs": [],
   "source": [
    "import pandas as pd\n",
    "import numpy as np\n",
    "import glob\n",
    "import matplotlib as mpl\n",
    "import matplotlib.pyplot as plt \n",
    "import os\n",
    "#import more_itertools as mit"
   ]
  },
  {
   "cell_type": "code",
   "execution_count": 63,
   "id": "0d0176df",
   "metadata": {},
   "outputs": [
    {
     "name": "stdout",
     "output_type": "stream",
     "text": [
      "['acetoin', 'PA ', 'lactic acid', 'OBA', '2,2-DHPA', 'OVA', 'OICA/OHexA', 'acetolactic acid', 'OOA', 'PA+LA-H2O', 'parapyruvic acid', 'DMOHA', 'M-DHO', 'DMTA', 'E-DHO', 'E,M-TA', 'E,E-DHO;P-DHO', 'E,E-TA;P,M-TA', 'E,E,E-DHO;B-DHO', 'CDMOHA', 'B,M-TA', 'Pe-DHO;P,P-DHO', 'P,P-TA;Pe,M-TA', 'Hex-DHO', 'Hex,M-TA', 'P,P,P-DHO;B,B-DHO;Hep-DHO', 'B,B-TA;Hep,M-TA', 'B,B,B-DHO;D-DHO', 'Hex,Hex-DHO', 'Hex,Hex-TA', 'Hex,Hex,Hex-DHO']\n"
     ]
    }
   ],
   "source": [
    "\n",
    "FilePathList = \"/Users/homefolder/Documents/RapfLab/code/MStest\" #sets filepath for initial file/mass list. May not be necessary to keep this way\n",
    "                                                            #but sets path for list \n",
    "FileType=\"csv\" #sets filetype\n",
    "MassNumbersList=[] #creates an empty list which will be filled by the numbers in the mass list file\n",
    "os. chdir(FilePathList) #sets working directory to FilePathList\n",
    "CurrFile = pd.read_csv(\"IncompCombinedmasslist.csv\") #reads the file masslist.csv from the filepath --> since we only want to read one file was easier to just specify file\n",
    "#print(CurrFile)\n",
    "MassNumberNames=[]\n",
    "#######################################\n",
    "\n",
    "\n",
    "for i in (range(len(CurrFile))):\n",
    "    MassNumbersList.append(CurrFile['mz_list'][i]) #appends value number i from masslist.csv in the colum mz_list\n",
    "    MassNumberNames.append(CurrFile['Species'][i])#appends name associated with mass number\n",
    "#print(MassNumberNames)"
   ]
  },
  {
   "cell_type": "code",
   "execution_count": 64,
   "id": "9fcf5ae3",
   "metadata": {
    "scrolled": false
   },
   "outputs": [
    {
     "name": "stdout",
     "output_type": "stream",
     "text": [
      "['210526_PApost_3_MS.csv', '210526_PApre_3_MS.csv']\n",
      "['210526_PApost_3_MS']\n",
      "['210526_PApost_3_MS', '210526_PApre_3_MS']\n"
     ]
    }
   ],
   "source": [
    "##WEIRD ERROR. SOMETIMES NEED TO RUN TWICE BECAUSE FILEPATH DOES NOT UPDATE??????\n",
    "####Different way of coding it\n",
    "FilePath = \"/Users/homefolder/Documents/RapfLab/code/MassSpecData/210617MSCHR/MS/PA\" #Second file path for where the actual files are located\n",
    "os. chdir(FilePath) #updates file path to the folder with actual files for processing\n",
    "AllFiles=pd.DataFrame()\n",
    "FileType=\"csv\" #what filetype are the files. Will probably be csv\n",
    "files = sorted(glob.glob(\"*\"+FileType)) #gets all files of chosen filetype\n",
    "num_files = len(files) #how many files are you reading in\n",
    "OutFolder = \"Processed\" #folder where processed files will be saved\n",
    "outname = \"PA\" #part of file name. Will be used later\n",
    "##############################\n",
    "print(files)\n",
    "ErrorRange = 0.00005 #error range. Will be +- to get range and see if values fit in range. 25 ppm error range     \n",
    "ProcessedX=[] #values for X(Thompsons) will be saved here\n",
    "ProcessedY=[] #values for Y(Counts) will be saved here\n",
    "PPM=[] #PPM values will be saved here\n",
    "NameList=[] #Saves names that will be used for file naming later on\n",
    "\n",
    "for entry in range(num_files): #goes through all files\n",
    "    name = files[entry] \n",
    "    CurrFile = pd.read_csv(files[entry],skiprows=1) #reads files\n",
    "    FullSplit = name.split(\".\") #gets all parts of the file name\n",
    "    NameList.append(str(FullSplit[0]))\n",
    "    print(NameList)#gets the third part of the name (0,1,[2]). Adds it to the name list\n",
    "    for mass in range(len(MassNumbersList)): #goes through each mast in the MassesList\n",
    "        MassHigh=((MassNumbersList[mass])+(MassNumbersList[mass]*ErrorRange)) #upper range of Mass\n",
    "        MassLow=((MassNumbersList[mass])-(MassNumbersList[mass]*ErrorRange)) #lower range of Mass\n",
    "        fixed=CurrFile.drop(columns=\"#Point\") #drops point column\n",
    "        fit=fixed[\"X(Thompsons)\"].between(MassLow, MassHigh, inclusive = True) #checks if value for X(Thompson) fits between mass low and mass high\n",
    "\n",
    "        ####Part two of function\n",
    "        for i in range(len(fit)): #checks if values in fit are true or false\n",
    "             if fit[i]== True: #if True then appends values\n",
    "                    ProcessedX.append(fixed[\"X(Thompsons)\"][i])\n",
    "                    ProcessedY.append(fixed[\"Y(Counts)\"][i])\n",
    "                    PPM.append(((abs((fixed[\"X(Thompsons)\"][i])-MassNumbersList[mass]))/MassNumbersList[mass])*1000000)\n",
    "\n",
    "             \n",
    "        if sum(fit) == False: #if all values are false and nothing fits then will append a 0. This makes sure you get the correct\n",
    "                              # number of values no matter what\n",
    "                  ProcessedX.append(0)  \n",
    "                  ProcessedY.append(0) #appends 0 for both \n",
    "                  PPM.append(0)\n",
    "        \n",
    "        \n",
    "        \n",
    "\n",
    "length=(int(len(MassNumbersList))) #length is the lenght of the MassNumbersList\n",
    "for i in range((num_files)):   \n",
    "    IndFile = pd.DataFrame(columns = [\"Compound Names\",\"mz_list\",NameList[i]+\"_mass\",NameList[i]+\"_count\"]) #columns mz_list, mass, and count +NameList[i]\n",
    "    IndFile[\"Compound Names\"]=MassNumberNames\n",
    "    IndFile[\"mz_list\"]=MassNumbersList\n",
    "    IndFile[NameList[i]+\"_mass\"]=ProcessedX[(i*length):((i+1)*length)] \n",
    "    IndFile[NameList[i]+\"_count\"]=ProcessedY[(i*length):((i+1)*length)] #for this and the line before, it reads the values of processed from i*length\n",
    "                                                                        # to (i+1)*length. For example this will be 0:12 for first then 13:16 for second\n",
    "    IndFile[NameList[i]+\"_PPM\"]=PPM[(i*length):((i+1)*length)]\n",
    "    IndFile.to_csv(\"/Users/homefolder/Documents/RapfLab/code/MStest/Processed\"+\"/\"+NameList[i]+\"_Processed.csv\")          #chooses folder\n",
    "####################\n",
    "\n",
    "\n",
    "AllFiles[outname+\"mz_list\"]=MassNumbersList   #Does same as for IndFile but for an All file with all values. Whole function works in similar way\n",
    "AllFiles[outname+\"Compound Names\"]=MassNumberNames\n",
    "for i in range(num_files):\n",
    "    AllFiles[outname+\"_mass\"+NameList[i]]=ProcessedX[(i*length):((i+1)*length)]\n",
    "    AllFiles[outname+\"_count\"+NameList[i]]=ProcessedY[(i*length):((i+1)*length)]\n",
    "    AllFiles[outname+\"_PPM\"+NameList[i]]=PPM[(i*length):((i+1)*length)]\n",
    "        \n",
    "AllFiles.to_csv(\"/Users/homefolder/Documents/RapfLab/code/MStest/Processed\"+\"/\"+outname+\"_AllProcessed.csv\")\n",
    "\n",
    "    "
   ]
  },
  {
   "cell_type": "code",
   "execution_count": null,
   "id": "146290ce",
   "metadata": {},
   "outputs": [],
   "source": []
  }
 ],
 "metadata": {
  "kernelspec": {
   "display_name": "Python 3",
   "language": "python",
   "name": "python3"
  },
  "language_info": {
   "codemirror_mode": {
    "name": "ipython",
    "version": 3
   },
   "file_extension": ".py",
   "mimetype": "text/x-python",
   "name": "python",
   "nbconvert_exporter": "python",
   "pygments_lexer": "ipython3",
   "version": "3.8.8"
  }
 },
 "nbformat": 4,
 "nbformat_minor": 5
}
