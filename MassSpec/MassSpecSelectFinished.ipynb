{
 "cells": [
  {
   "cell_type": "code",
   "execution_count": 2,
   "id": "d344bfb5",
   "metadata": {},
   "outputs": [],
   "source": [
    "import pandas as pd\n",
    "import numpy as np\n",
    "import glob\n",
    "import matplotlib as mpl\n",
    "import matplotlib.pyplot as plt \n",
    "import os\n",
    "#import more_itertools as mit"
   ]
  },
  {
   "cell_type": "code",
   "execution_count": 3,
   "id": "0d0176df",
   "metadata": {},
   "outputs": [],
   "source": [
    "\n",
    "FilePathList = \"/Users/homefolder/Documents/RapfLab/code/MStest\" #sets filepath for initial file/mass list. May not be necessary to keep this way\n",
    "                                                            #but sets path for list \n",
    "FileType=\"csv\" #sets filetype\n",
    "MassNumbersList=[] #creates an empty list which will be filled by the numbers in the mass list file\n",
    "os. chdir(FilePathList) #sets working directory to FilePathList\n",
    "CurrFile = pd.read_csv(\"IncompCombinedmasslist.csv\") #reads the file masslist.csv from the filepath --> since we only want to read one file was easier to just specify file\n",
    "#print(CurrFile)\n",
    "MassNumberNames=[]\n",
    "#######################################\n",
    "\n",
    "\n",
    "for i in (range(len(CurrFile))):\n",
    "    MassNumbersList.append(CurrFile['mz_list'][i]) #appends value number i from masslist.csv in the colum mz_list\n",
    "    MassNumberNames.append(CurrFile['Species'][i])#appends name associated with mass number\n",
    "#print(MassNumberNames)"
   ]
  },
  {
   "cell_type": "code",
   "execution_count": 22,
   "id": "9fcf5ae3",
   "metadata": {
    "scrolled": false
   },
   "outputs": [
    {
     "name": "stdout",
     "output_type": "stream",
     "text": [
      "['210622_25C_365_OOAPost_MS.csv', '210622_25C_365_PAVacPost_MS.csv', '210622_25C_trPABlkrPost_MS.csv', '210622_25C_trPASurPost_MS.csv', '210622_25C_trPAVacrPost_MS.csv', '210622_25C_trPApre_MS.csv', '210622_365_OOAPost_MS.csv', '210622_365_PAPost_2_MS.csv', '210622_365_PAPost_MS.csv', '210622_trPABlkPost_MS.csv', '210622_trPABlkrPost_2_MS.csv', '210622_trPAPre_2_MS.csv', '210622_trPASurPost_2_MS.csv', '210622_trPASurPost_MS.csv', '210622_trPAVacPost_2_MS.csv', '210622_trPAVacPost_MS.csv', '210622_trPApre_MS.csv', 'MeOHblank1_MS.csv', 'MeOHblank2_MS.csv', 'MeOHblank3_MS.csv', 'MeOHblank4_MS.csv', 'MeOHblank5_MS.csv']\n"
     ]
    }
   ],
   "source": [
    "##WEIRD ERROR. SOMETIMES NEED TO RUN TWICE BECAUSE FILEPATH DOES NOT UPDATE??????\n",
    "####Different way of coding it\n",
    "FilePath = \"/Users/homefolder/Documents/RapfLab/code/MassSpecData/210623MSCHR/MS\" #Second file path for where the actual files are located\n",
    "os. chdir(FilePath) #updates file path to the folder with actual files for processing\n",
    "AllFiles=pd.DataFrame()\n",
    "FileType=\"csv\" #what filetype are the files. Will probably be csv\n",
    "files = sorted(glob.glob(\"*\"+FileType)) #gets all files of chosen filetype\n",
    "num_files = len(files) #how many files are you reading in\n",
    "OutFolder = \"Processed\" #folder where processed files will be saved\n",
    "outname = \"\" #part of file name. Will be used later\n",
    "##############################\n",
    "print(files)\n",
    "ErrorRange = 0.00005 #error range. Will be +- to get range and see if values fit in range. 25 ppm error range     \n",
    "ProcessedX=[] #values for X(Thompsons) will be saved here\n",
    "ProcessedY=[] #values for Y(Counts) will be saved here\n",
    "PPM=[] #PPM values will be saved here\n",
    "NameList=[] #Saves names that will be used for file naming later on\n",
    "CompNames=[]\n",
    "\n",
    "for entry in range(num_files): #goes through all files\n",
    "    name = files[entry] \n",
    "    CurrFile = pd.read_csv(files[entry],skiprows=1) #reads files\n",
    "    FullSplit = name.split(\".\") #gets all parts of the file name\n",
    "#     CompSplit=name.split(\"_\")\n",
    "#     for i in range(len(CompSplit)):\n",
    "#         for f in range(10):\n",
    "#             if (CompSplit[i][0]) == \"0\" or (CompSplit[i]) == \"MS.csv\" or (CompSplit[i][0]) == \"1\" or (CompSplit[i][0]) == \"2\" or (CompSplit[i][0]) == \"3\" or (CompSplit[i][0]) == \"4\" or (CompSplit[i][0]) == \"5\" or (CompSplit[i][0]) == \"6\" or (CompSplit[i][0]) == \"7\" or (CompSplit[i][0]) == \"8\" or (CompSplit[i][0]) == \"9\":\n",
    "#                 continue\n",
    "#             else:\n",
    "#                 CompNames.append(CompSplit[i])\n",
    "#     print(CompNames)\n",
    "    NameList.append(str(FullSplit[0]))\n",
    "    \n",
    "    \n",
    "    #gets the third part of the name (0,1,[2]). Adds it to the name list\n",
    "    for mass in range(len(MassNumbersList)): #goes through each mast in the MassesList\n",
    "        MassHigh=((MassNumbersList[mass])+(MassNumbersList[mass]*ErrorRange)) #upper range of Mass\n",
    "        MassLow=((MassNumbersList[mass])-(MassNumbersList[mass]*ErrorRange)) #lower range of Mass\n",
    "        fixed=CurrFile.drop(columns=\"#Point\") #drops point column\n",
    "        fit=fixed[\"X(Thompsons)\"].between(MassLow, MassHigh, inclusive = True) #checks if value for X(Thompson) fits between mass low and mass high\n",
    "\n",
    "        ####Part two of function\n",
    "        for i in range(len(fit)): #checks if values in fit are true or false\n",
    "             if fit[i]== True: #if True then appends values\n",
    "                    ProcessedX.append(fixed[\"X(Thompsons)\"][i])\n",
    "                    ProcessedY.append(fixed[\"Y(Counts)\"][i])\n",
    "                    PPM.append(((abs((fixed[\"X(Thompsons)\"][i])-MassNumbersList[mass]))/MassNumbersList[mass])*1000000)\n",
    "\n",
    "             \n",
    "        if sum(fit) == False: #if all values are false and nothing fits then will append a 0. This makes sure you get the correct\n",
    "                              # number of values no matter what\n",
    "                  ProcessedX.append(0)  \n",
    "                  ProcessedY.append(0) #appends 0 for both \n",
    "                  PPM.append(0)\n",
    "        \n",
    "        \n",
    "        \n",
    "\n",
    "length=(int(len(MassNumbersList))) #length is the lenght of the MassNumbersList\n",
    "for i in range((num_files)):   \n",
    "    IndFile = pd.DataFrame(columns = [\"Compound Names\",\"mz_list\",NameList[i]+\"_mass\",NameList[i]+\"_count\"]) #columns mz_list, mass, and count +NameList[i]\n",
    "    IndFile[\"Compound Names\"]=MassNumberNames\n",
    "    IndFile[\"mz_list\"]=MassNumbersList\n",
    "    IndFile[NameList[i]+\"_mass\"]=ProcessedX[(i*length):((i+1)*length)] \n",
    "    IndFile[NameList[i]+\"_count\"]=ProcessedY[(i*length):((i+1)*length)] #for this and the line before, it reads the values of processed from i*length\n",
    "                                                                        # to (i+1)*length. For example this will be 0:12 for first then 13:16 for second\n",
    "    IndFile[NameList[i]+\"_PPM\"]=PPM[(i*length):((i+1)*length)]\n",
    "    IndFile.to_csv(\"/Users/homefolder/Documents/RapfLab/code/MStest/Processed\"+\"/\"+NameList[i]+\"_Processed.csv\")          #chooses folder\n",
    "####################\n",
    "\n",
    "\n",
    "AllFiles[outname+\"mz_list\"]=MassNumbersList   #Does same as for IndFile but for an All file with all values. Whole function works in similar way\n",
    "AllFiles[outname+\"Compound Names\"]=MassNumberNames\n",
    "for i in range(num_files):\n",
    "    AllFiles[outname+\"_mass\"+NameList[i]]=ProcessedX[(i*length):((i+1)*length)]\n",
    "    AllFiles[outname+\"_count\"+NameList[i]]=ProcessedY[(i*length):((i+1)*length)]\n",
    "    AllFiles[outname+\"_PPM\"+NameList[i]]=PPM[(i*length):((i+1)*length)]\n",
    "        \n",
    "AllFiles.to_csv(\"/Users/homefolder/Documents/RapfLab/code/MStest/Processed\"+\"/\"+outname+\"_AllProcessed.csv\")\n",
    "\n",
    "    "
   ]
  },
  {
   "cell_type": "code",
   "execution_count": null,
   "id": "146290ce",
   "metadata": {},
   "outputs": [],
   "source": []
  },
  {
   "cell_type": "code",
   "execution_count": null,
   "id": "8d65146a",
   "metadata": {},
   "outputs": [],
   "source": []
  }
 ],
 "metadata": {
  "kernelspec": {
   "display_name": "Python 3",
   "language": "python",
   "name": "python3"
  },
  "language_info": {
   "codemirror_mode": {
    "name": "ipython",
    "version": 3
   },
   "file_extension": ".py",
   "mimetype": "text/x-python",
   "name": "python",
   "nbconvert_exporter": "python",
   "pygments_lexer": "ipython3",
   "version": "3.8.8"
  }
 },
 "nbformat": 4,
 "nbformat_minor": 5
}
