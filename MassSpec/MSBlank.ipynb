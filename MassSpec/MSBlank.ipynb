{
 "cells": [
  {
   "cell_type": "code",
   "execution_count": 2,
   "id": "8cc9b147",
   "metadata": {},
   "outputs": [],
   "source": [
    "import pandas as pd\n",
    "import numpy as np\n",
    "import glob\n",
    "import matplotlib as mpl\n",
    "import matplotlib.pyplot as plt \n",
    "import os\n",
    "import more_itertools as locate\n",
    "import re"
   ]
  },
  {
   "cell_type": "code",
   "execution_count": 7,
   "id": "6edef45d",
   "metadata": {},
   "outputs": [
    {
     "name": "stdout",
     "output_type": "stream",
     "text": [
      "47\n",
      "47\n"
     ]
    }
   ],
   "source": [
    "FilePathList = \"/Users/homefolder/Documents/RapfLab/code/MStest\" #sets filepath for initial file/mass list. May not be necessary to keep this way\n",
    "                                                            #but sets path for list \n",
    "FileType=\"csv\" #sets filetype\n",
    "MassNumbersList=[] #creates an empty list which will be filled by the numbers in the mass list file\n",
    "os. chdir(FilePathList) #sets working directory to FilePathList\n",
    "CurrFile = pd.read_csv(\"NewIncompMassList.csv\") #reads the file masslist.csv from the filepath --> since we only want to read one file was easier to just specify file\n",
    "#print(CurrFile)\n",
    "MassNumberNames=[]\n",
    "#######################################\n",
    "\n",
    "\n",
    "for i in (range(len(CurrFile))):\n",
    "    MassNumbersList.append(CurrFile['mz_list'][i]) #appends value number i from masslist.csv in the colum mz_list\n",
    "    MassNumberNames.append(CurrFile['Species'][i])\n",
    "print(len(MassNumberNames))\n",
    "print(len(MassNumbersList))"
   ]
  },
  {
   "cell_type": "code",
   "execution_count": 8,
   "id": "fcff6472",
   "metadata": {},
   "outputs": [
    {
     "name": "stdout",
     "output_type": "stream",
     "text": [
      "[3730.008249282837, 155.15592312812817, 12555.397378921509, 21.85053563100197, 22.6053829193115, 25422.590173721313, 15969.017013549805, 559.1912288665796, 36321.625, 6.8375611305237, 0.0, 506.929748535155, 2.5499018596878917, 2.5499018596878917, 3.3564220853503275, 253.048614501953, 481.9343881607058, 1.212236762046815, 1.00137257575989, 2739.2759053961618, 1492.5073191373497, 118.20225834846478, 6.0101275444031, 222.83030307292944, 238.17221927642817, 31.7951374053955, 45.06894290447233, 8.67534255981445, 0.998690485954285, 1.333120822906495, 2.11351728439331, 5.305780783060061, 652.2170922756183, 1887.71423339844, 548.9640157084882, 21.39295387268065, 0.546944439411165, 2.765783071517945, 2.3329564636515365, 1.53907573223114, 47.979097843170344, 228.26376378536236, 4.996249198913575, 0.0, 0.0, 0.0, 0.0]\n"
     ]
    }
   ],
   "source": [
    "FilePath = \"/Users/homefolder/Documents/RapfLab/code/MassSpecData/210711MSCHR/MS\" #Second file path for where the actual files are located\n",
    "os. chdir(FilePath) #updates file path to the folder with actual files for processing\n",
    "AllFiles=pd.DataFrame()\n",
    "FileType=\"csv\" #what filetype are the files. Will probably be csv\n",
    "files = sorted(glob.glob(\"*\"+\"Blank\"+\"*\"+FileType)) #gets all files of chosen filetype\n",
    "num_files = len(files) #how many files are you reading in\n",
    "OutFolder = \"Processed\" #folder where processed files will be saved\n",
    "outname = \"\" #part of file name. Will be used later\n",
    "##############################\n",
    "ErrorRange = 0.00005 #error range. Will be +- to get range and see if values fit in range. 25 ppm error range     \n",
    "mzlistRep=[]\n",
    "TotalList=[]\n",
    "TotalList2=[]\n",
    "mzlistRepTot=[]\n",
    "FinalList=[]\n",
    "\n",
    " \n",
    "for entry in range(num_files): #goes through all files\n",
    "    name = files[entry] \n",
    "    CurrFile = pd.read_csv(files[entry],skiprows=1) #reads files\n",
    "    FullSplit = name.split(\".\") #gets all parts of the file name\n",
    "    NameList=(str(FullSplit[0]))\n",
    "    mzlistRep=[]\n",
    "    ProcessedX=[] #values for X(Thompsons) will be saved here\n",
    "    ProcessedY=[] #values for Y(Counts) will be saved here\n",
    "    PPM=[] #PPM values will be saved here\n",
    "    names=[]\n",
    "    #gets the third part of the name (0,1,[2]). Adds it to the name list\n",
    "    for mass in range(len(MassNumbersList)): #goes through each mast in the MassesList\n",
    "        MassHigh=((MassNumbersList[mass])+(MassNumbersList[mass]*ErrorRange)) #upper range of Mass\n",
    "        MassLow=((MassNumbersList[mass])-(MassNumbersList[mass]*ErrorRange)) #lower range of Mass\n",
    "        fixed=CurrFile.drop(columns=\"#Point\")\n",
    "        fit=fixed[\"X(Thompsons)\"].between(MassLow, MassHigh, inclusive = True) #checks if value for X(Thompson) fits between mass low and mass high\n",
    "        ####Part two of function\n",
    "        for i in range(len(fit)): #checks if values in fit are true or false\n",
    "             if fit[i]== True: #if True then appends values\n",
    "                    ProcessedX.append(fixed[\"X(Thompsons)\"][i])\n",
    "                    ProcessedY.append(fixed[\"Y(Counts)\"][i])\n",
    "                    PPM.append(((abs((fixed[\"X(Thompsons)\"][i])-MassNumbersList[mass]))/MassNumbersList[mass])*1000000)\n",
    "                    mzlistRep.append(MassNumbersList[mass])\n",
    "                    names.append(MassNumberNames[mass])\n",
    "             \n",
    "        if sum(fit) == False: #if all values are false and nothing fits then will append a 0. This makes sure you get the correct\n",
    "                                  # number of values no matter what\n",
    "                ProcessedX.append(0)  \n",
    "                ProcessedY.append(0) #appends 0 for both \n",
    "                PPM.append(0)\n",
    "                mzlistRep.append(MassNumbersList[mass])\n",
    "                names.append(MassNumberNames[mass])      \n",
    "                \n",
    "    \n",
    "    for i in range(len(ProcessedX)): \n",
    "        TotalList.append(ProcessedX[i])\n",
    "        TotalList2.append(ProcessedY[i])\n",
    "        mzlistRepTot.append(mzlistRep[i])\n",
    "        \n",
    "            \n",
    "for mass in range(len(MassNumbersList)):\n",
    "    Matchlist=[]\n",
    "    List=[]\n",
    "    searchval = (MassNumbersList[mass])\n",
    "    ii = np.where(mzlistRepTot == searchval)[0]\n",
    "    List=str(ii).split(\" \")\n",
    "    str(List).strip()\n",
    "    res = []\n",
    "    for i in List:\n",
    "        m = re.search(r\"\\b(\\d{1,2})\\b\", i)\n",
    "        if m:\n",
    "            res.append(m.group())\n",
    "    Final=[]\n",
    "    for i in range(len(res)):\n",
    "        Final.append((TotalList2[int(res[i])]))\n",
    "    stdList=[]\n",
    "    for i in range(len(Final)):\n",
    "        mean = sum(Final) / len(Final)\n",
    "        variance = sum([((x - mean) ** 2) for x in Final]) / len(Final)\n",
    "        std = variance ** 0.5\n",
    "    stdList.append(std)\n",
    "    for i in range(len(stdList)):    \n",
    "        FinalList.append((stdList[i]))\n",
    "\n",
    "print(FinalList)\n",
    "\n",
    "        \n",
    "IndFile = pd.DataFrame(columns = [\"mz_list\",\"standard deviation\"])\n",
    "IndFile[\"mz_list\"]=MassNumbersList\n",
    "IndFile[\"standard deviation\"]=FinalList\n",
    "IndFile.to_csv(\"/Users/homefolder/Documents/RapfLab/code/MStest/Processed\"+\"stdev\"+\"_blank.csv\")"
   ]
  },
  {
   "cell_type": "code",
   "execution_count": null,
   "id": "95fb3cdc",
   "metadata": {},
   "outputs": [],
   "source": []
  },
  {
   "cell_type": "code",
   "execution_count": null,
   "id": "af2630ad",
   "metadata": {},
   "outputs": [],
   "source": []
  }
 ],
 "metadata": {
  "kernelspec": {
   "display_name": "Python 3",
   "language": "python",
   "name": "python3"
  },
  "language_info": {
   "codemirror_mode": {
    "name": "ipython",
    "version": 3
   },
   "file_extension": ".py",
   "mimetype": "text/x-python",
   "name": "python",
   "nbconvert_exporter": "python",
   "pygments_lexer": "ipython3",
   "version": "3.8.8"
  }
 },
 "nbformat": 4,
 "nbformat_minor": 5
}
