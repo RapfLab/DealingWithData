{
 "cells": [
  {
   "cell_type": "code",
   "execution_count": 3,
   "id": "2c481a99",
   "metadata": {},
   "outputs": [],
   "source": [
    "import pandas as pd\n",
    "import numpy as np\n",
    "import glob\n",
    "\n",
    "import matplotlib as mpl\n",
    "import matplotlib.pyplot as plt \n",
    "import os"
   ]
  },
  {
   "cell_type": "code",
   "execution_count": 15,
   "id": "eb68975e",
   "metadata": {},
   "outputs": [
    {
     "name": "stdout",
     "output_type": "stream",
     "text": [
      "[87.1, 129.1, 157.1, 173.1, 175.1, 177.1, 245.1, 247.1, 285.1, 287.1, 315.1, 317.1, 385.1]\n"
     ]
    }
   ],
   "source": [
    "FilePathList = \"/Users/timmo/Documents/RapfLab/code/MStest\" #sets filepath for initial file/mass list. May not be necessary to keep this way\n",
    "\n",
    "FileType=\"csv\" #sets filetype\n",
    "\n",
    "MassNumbersList=[] #creates an empty list which will be filled by the numbers in the mass list file\n",
    "\n",
    "os. chdir(FilePathList) #sets working directory to FilePathList\n",
    "\n",
    "CurrFile = pd.read_csv(\"masslist.csv\") #reads the file masslist.csv from the filepath --> since we only want to read one file was easier to just specify file\n",
    "\n",
    "#print(CurrFile)\n",
    "\n",
    "MassNumberNames=[]\n",
    "\n",
    "#######################################\n",
    "\n",
    "\n",
    "for i in (range(len(CurrFile))):\n",
    "\n",
    "    MassNumbersList.append(CurrFile['mz_list'][i]) #appends value number i from masslist.csv in the colum mz_list\n",
    "print(MassNumbersList)\n",
    "#     MassNumberNames.append(CurrFile['Species'][i])#appends name associated with mass number\n",
    "\n",
    "#print(MassNumberNames)\n",
    "\n"
   ]
  },
  {
   "cell_type": "code",
   "execution_count": 24,
   "id": "789ef5b0",
   "metadata": {},
   "outputs": [
    {
     "name": "stdout",
     "output_type": "stream",
     "text": [
      "OOApre_50C_50uM_s2_MS\n"
     ]
    },
    {
     "ename": "ValueError",
     "evalue": "Length of values (18705) does not match length of index (13)",
     "output_type": "error",
     "traceback": [
      "\u001b[1;31m---------------------------------------------------------------------------\u001b[0m",
      "\u001b[1;31mValueError\u001b[0m                                Traceback (most recent call last)",
      "\u001b[1;32m<ipython-input-24-d8701ebcd5fe>\u001b[0m in \u001b[0;36m<module>\u001b[1;34m\u001b[0m\n\u001b[0;32m     51\u001b[0m     \u001b[0mIndFile\u001b[0m\u001b[1;33m[\u001b[0m\u001b[1;34m\"Compound Names\"\u001b[0m\u001b[1;33m]\u001b[0m\u001b[1;33m=\u001b[0m\u001b[0mMassNumberNames\u001b[0m\u001b[1;33m\u001b[0m\u001b[1;33m\u001b[0m\u001b[0m\n\u001b[0;32m     52\u001b[0m     \u001b[0mIndFile\u001b[0m\u001b[1;33m[\u001b[0m\u001b[1;34m\"mz_list\"\u001b[0m\u001b[1;33m]\u001b[0m\u001b[1;33m=\u001b[0m\u001b[0mMassNumbersList\u001b[0m\u001b[1;33m\u001b[0m\u001b[1;33m\u001b[0m\u001b[0m\n\u001b[1;32m---> 53\u001b[1;33m     \u001b[0mIndFile\u001b[0m\u001b[1;33m[\u001b[0m\u001b[0mNameList\u001b[0m\u001b[1;33m+\u001b[0m\u001b[1;34m\"_mass\"\u001b[0m\u001b[1;33m]\u001b[0m\u001b[1;33m=\u001b[0m\u001b[0mProcessedX\u001b[0m\u001b[1;33m\u001b[0m\u001b[1;33m\u001b[0m\u001b[0m\n\u001b[0m\u001b[0;32m     54\u001b[0m     \u001b[0mIndFile\u001b[0m\u001b[1;33m[\u001b[0m\u001b[0mNameList\u001b[0m\u001b[1;33m+\u001b[0m\u001b[1;34m\"_count\"\u001b[0m\u001b[1;33m]\u001b[0m\u001b[1;33m=\u001b[0m\u001b[0mProcessedY\u001b[0m \u001b[1;31m#for this and the line before, it reads the values of processed from i*length\u001b[0m\u001b[1;33m\u001b[0m\u001b[1;33m\u001b[0m\u001b[0m\n\u001b[0;32m     55\u001b[0m     \u001b[0mIndFile\u001b[0m\u001b[1;33m[\u001b[0m\u001b[0mNameList\u001b[0m\u001b[1;33m+\u001b[0m\u001b[1;34m\"_PPM\"\u001b[0m\u001b[1;33m]\u001b[0m\u001b[1;33m=\u001b[0m\u001b[0mPPM\u001b[0m\u001b[1;33m\u001b[0m\u001b[1;33m\u001b[0m\u001b[0m\n",
      "\u001b[1;32m~\\anaconda3\\lib\\site-packages\\pandas\\core\\frame.py\u001b[0m in \u001b[0;36m__setitem__\u001b[1;34m(self, key, value)\u001b[0m\n\u001b[0;32m   3161\u001b[0m         \u001b[1;32melse\u001b[0m\u001b[1;33m:\u001b[0m\u001b[1;33m\u001b[0m\u001b[1;33m\u001b[0m\u001b[0m\n\u001b[0;32m   3162\u001b[0m             \u001b[1;31m# set column\u001b[0m\u001b[1;33m\u001b[0m\u001b[1;33m\u001b[0m\u001b[1;33m\u001b[0m\u001b[0m\n\u001b[1;32m-> 3163\u001b[1;33m             \u001b[0mself\u001b[0m\u001b[1;33m.\u001b[0m\u001b[0m_set_item\u001b[0m\u001b[1;33m(\u001b[0m\u001b[0mkey\u001b[0m\u001b[1;33m,\u001b[0m \u001b[0mvalue\u001b[0m\u001b[1;33m)\u001b[0m\u001b[1;33m\u001b[0m\u001b[1;33m\u001b[0m\u001b[0m\n\u001b[0m\u001b[0;32m   3164\u001b[0m \u001b[1;33m\u001b[0m\u001b[0m\n\u001b[0;32m   3165\u001b[0m     \u001b[1;32mdef\u001b[0m \u001b[0m_setitem_slice\u001b[0m\u001b[1;33m(\u001b[0m\u001b[0mself\u001b[0m\u001b[1;33m,\u001b[0m \u001b[0mkey\u001b[0m\u001b[1;33m:\u001b[0m \u001b[0mslice\u001b[0m\u001b[1;33m,\u001b[0m \u001b[0mvalue\u001b[0m\u001b[1;33m)\u001b[0m\u001b[1;33m:\u001b[0m\u001b[1;33m\u001b[0m\u001b[1;33m\u001b[0m\u001b[0m\n",
      "\u001b[1;32m~\\anaconda3\\lib\\site-packages\\pandas\\core\\frame.py\u001b[0m in \u001b[0;36m_set_item\u001b[1;34m(self, key, value)\u001b[0m\n\u001b[0;32m   3240\u001b[0m         \"\"\"\n\u001b[0;32m   3241\u001b[0m         \u001b[0mself\u001b[0m\u001b[1;33m.\u001b[0m\u001b[0m_ensure_valid_index\u001b[0m\u001b[1;33m(\u001b[0m\u001b[0mvalue\u001b[0m\u001b[1;33m)\u001b[0m\u001b[1;33m\u001b[0m\u001b[1;33m\u001b[0m\u001b[0m\n\u001b[1;32m-> 3242\u001b[1;33m         \u001b[0mvalue\u001b[0m \u001b[1;33m=\u001b[0m \u001b[0mself\u001b[0m\u001b[1;33m.\u001b[0m\u001b[0m_sanitize_column\u001b[0m\u001b[1;33m(\u001b[0m\u001b[0mkey\u001b[0m\u001b[1;33m,\u001b[0m \u001b[0mvalue\u001b[0m\u001b[1;33m)\u001b[0m\u001b[1;33m\u001b[0m\u001b[1;33m\u001b[0m\u001b[0m\n\u001b[0m\u001b[0;32m   3243\u001b[0m         \u001b[0mNDFrame\u001b[0m\u001b[1;33m.\u001b[0m\u001b[0m_set_item\u001b[0m\u001b[1;33m(\u001b[0m\u001b[0mself\u001b[0m\u001b[1;33m,\u001b[0m \u001b[0mkey\u001b[0m\u001b[1;33m,\u001b[0m \u001b[0mvalue\u001b[0m\u001b[1;33m)\u001b[0m\u001b[1;33m\u001b[0m\u001b[1;33m\u001b[0m\u001b[0m\n\u001b[0;32m   3244\u001b[0m \u001b[1;33m\u001b[0m\u001b[0m\n",
      "\u001b[1;32m~\\anaconda3\\lib\\site-packages\\pandas\\core\\frame.py\u001b[0m in \u001b[0;36m_sanitize_column\u001b[1;34m(self, key, value, broadcast)\u001b[0m\n\u001b[0;32m   3897\u001b[0m \u001b[1;33m\u001b[0m\u001b[0m\n\u001b[0;32m   3898\u001b[0m             \u001b[1;31m# turn me into an ndarray\u001b[0m\u001b[1;33m\u001b[0m\u001b[1;33m\u001b[0m\u001b[1;33m\u001b[0m\u001b[0m\n\u001b[1;32m-> 3899\u001b[1;33m             \u001b[0mvalue\u001b[0m \u001b[1;33m=\u001b[0m \u001b[0msanitize_index\u001b[0m\u001b[1;33m(\u001b[0m\u001b[0mvalue\u001b[0m\u001b[1;33m,\u001b[0m \u001b[0mself\u001b[0m\u001b[1;33m.\u001b[0m\u001b[0mindex\u001b[0m\u001b[1;33m)\u001b[0m\u001b[1;33m\u001b[0m\u001b[1;33m\u001b[0m\u001b[0m\n\u001b[0m\u001b[0;32m   3900\u001b[0m             \u001b[1;32mif\u001b[0m \u001b[1;32mnot\u001b[0m \u001b[0misinstance\u001b[0m\u001b[1;33m(\u001b[0m\u001b[0mvalue\u001b[0m\u001b[1;33m,\u001b[0m \u001b[1;33m(\u001b[0m\u001b[0mnp\u001b[0m\u001b[1;33m.\u001b[0m\u001b[0mndarray\u001b[0m\u001b[1;33m,\u001b[0m \u001b[0mIndex\u001b[0m\u001b[1;33m)\u001b[0m\u001b[1;33m)\u001b[0m\u001b[1;33m:\u001b[0m\u001b[1;33m\u001b[0m\u001b[1;33m\u001b[0m\u001b[0m\n\u001b[0;32m   3901\u001b[0m                 \u001b[1;32mif\u001b[0m \u001b[0misinstance\u001b[0m\u001b[1;33m(\u001b[0m\u001b[0mvalue\u001b[0m\u001b[1;33m,\u001b[0m \u001b[0mlist\u001b[0m\u001b[1;33m)\u001b[0m \u001b[1;32mand\u001b[0m \u001b[0mlen\u001b[0m\u001b[1;33m(\u001b[0m\u001b[0mvalue\u001b[0m\u001b[1;33m)\u001b[0m \u001b[1;33m>\u001b[0m \u001b[1;36m0\u001b[0m\u001b[1;33m:\u001b[0m\u001b[1;33m\u001b[0m\u001b[1;33m\u001b[0m\u001b[0m\n",
      "\u001b[1;32m~\\anaconda3\\lib\\site-packages\\pandas\\core\\internals\\construction.py\u001b[0m in \u001b[0;36msanitize_index\u001b[1;34m(data, index)\u001b[0m\n\u001b[0;32m    749\u001b[0m     \"\"\"\n\u001b[0;32m    750\u001b[0m     \u001b[1;32mif\u001b[0m \u001b[0mlen\u001b[0m\u001b[1;33m(\u001b[0m\u001b[0mdata\u001b[0m\u001b[1;33m)\u001b[0m \u001b[1;33m!=\u001b[0m \u001b[0mlen\u001b[0m\u001b[1;33m(\u001b[0m\u001b[0mindex\u001b[0m\u001b[1;33m)\u001b[0m\u001b[1;33m:\u001b[0m\u001b[1;33m\u001b[0m\u001b[1;33m\u001b[0m\u001b[0m\n\u001b[1;32m--> 751\u001b[1;33m         raise ValueError(\n\u001b[0m\u001b[0;32m    752\u001b[0m             \u001b[1;34m\"Length of values \"\u001b[0m\u001b[1;33m\u001b[0m\u001b[1;33m\u001b[0m\u001b[0m\n\u001b[0;32m    753\u001b[0m             \u001b[1;34mf\"({len(data)}) \"\u001b[0m\u001b[1;33m\u001b[0m\u001b[1;33m\u001b[0m\u001b[0m\n",
      "\u001b[1;31mValueError\u001b[0m: Length of values (18705) does not match length of index (13)"
     ]
    }
   ],
   "source": [
    "##WEIRD ERROR. SOMETIMES NEED TO RUN TWICE BECAUSE FILEPATH DOES NOT UPDATE??????\n",
    "\n",
    "####Different way of coding it\n",
    "\n",
    "FilePath = \"/Users/timmo/Documents/RapfLab/code/MStest/List\" #Second file path for where the actual files are located\n",
    "os. chdir(FilePath) #updates file path to the folder with actual files for processing\n",
    "AllFiles=pd.DataFrame()\n",
    "FileType=\"csv\" #what filetype are the files. Will probably be csv\n",
    "files = sorted(glob.glob(\"*\"+FileType)) #gets all files of chosen filetype\n",
    "num_files = len(files) #how many files are you reading in\n",
    "OutFolder = \"Processed\" #folder where processed files will be saved\n",
    "outname = \"\" #part of file name. Will be used later\n",
    "##############################\n",
    "\n",
    "\n",
    "ErrorRange = 0.00005 #error range. Will be +- to get range and see if values fit in range. 25 ppm error range     \n",
    "ProcessedX=[] #values for X(Thompsons) will be saved here\n",
    "ProcessedY=[] #values for Y(Counts) will be saved here\n",
    "PPM=[] #PPM values will be saved here\n",
    "NameList=[] #Saves names that will be used for file naming later on\n",
    "for entry in range(num_files): #goes through all files\n",
    "    name = files[entry] \n",
    "    CurrFile = pd.read_csv(files[entry],skiprows=1) #reads files\n",
    "    FullSplit = name.split(\".\") #gets all parts of the file name\n",
    "    NameList = (str(FullSplit[0]))\n",
    "    print(NameList)#gets the third part of the name (0,1,[2]). Adds it to the name list\n",
    "    for mass in range(len(MassNumbersList)): #goes through each mass in the MassesList\n",
    "        MassHigh=((MassNumbersList[mass])+(MassNumbersList[mass]*ErrorRange)) #upper range of Mass\n",
    "        MassLow=((MassNumbersList[mass])-(MassNumbersList[mass]*ErrorRange)) #lower range of Mass\n",
    "        fixed=CurrFile.drop(columns=\"#Point\") #drops point column\n",
    "        fit=fixed[\"X(Thompsons)\"].between(MassLow, MassHigh, inclusive = True) #checks if value for X(Thompson) fits between mass low and mass hig\n",
    "        ####Part two of function\n",
    "\n",
    "        for i in range(len(fit)): #checks if values in fit are true or false\n",
    "             if fit[i]== True: #if True then appends values\n",
    "                    ProcessedX.append(fixed[\"X(Thompsons)\"][i])\n",
    "                    ProcessedY.append(fixed[\"Y(Counts)\"][i])\n",
    "                    PPM.append(((abs((fixed[\"X(Thompsons)\"][i])-MassNumbersList[mass]))/MassNumbersList[mass])*1000000)\n",
    "\n",
    "             \n",
    "             elif any(fit) == True: #if all values are false and nothing fits then will append a 0. This makes sure you get the correct\n",
    "                              # number of values no matter what\n",
    "                  \n",
    "                  ProcessedX.append(0)  \n",
    "                  \n",
    "                  ProcessedY.append(0) #appends 0 for both \n",
    "                  \n",
    "                  PPM.append(0)\n",
    "\n",
    "    IndFile = pd.DataFrame(columns = [\"Compound Names\",\"mz_list\",NameList+\"_mass\",NameList+\"_count\"]) #columns mz_list, mass, and count +NameList[i]\n",
    "    IndFile[\"Compound Names\"]=MassNumberNames\n",
    "    IndFile[\"mz_list\"]=MassNumbersList\n",
    "    IndFile[NameList+\"_mass\"]=ProcessedX\n",
    "    IndFile[NameList+\"_count\"]=ProcessedY #for this and the line before, it reads the values of processed from i*length                                                              \n",
    "    IndFile[NameList+\"_PPM\"]=PPM\n",
    "    IndFile.to_csv(\"/Users/timmo/Documents/RapfLab/code/MStest/List/Processed\"+\"/\"+NameList+\"_Processed.csv\")          #chooses folder\n",
    "\n",
    "\n",
    "# length=(int(len(MassNumbersList))) #length is the lenght of the MassNumbersList\n",
    "\n",
    "\n",
    "\n",
    "# AllFiles[outname+\"mz_list\"]=MassNumbersList   #Does same as for IndFile but for an All file with all values. Whole function works in similar way\n",
    "\n",
    "# AllFiles[outname+\"Compound Names\"]=MassNumberNames\n",
    "\n",
    "# for i in range(num_files):\n",
    "\n",
    "#     AllFiles[outname+\"_mass\"+NameList[i]]=ProcessedX[(i*length):((i+1)*length)]\n",
    "\n",
    "#     AllFiles[outname+\"_count\"+NameList[i]]=ProcessedY[(i*length):((i+1)*length)]\n",
    "\n",
    "#     AllFiles[outname+\"_PPM\"+NameList[i]]=PPM[(i*length):((i+1)*length)]\n",
    "\n",
    "        \n",
    "\n",
    "AllFiles.to_csv(\"/Users/timmo/Documents/RapfLab/code/MStest/Processed\"+\"/\"+outname+\"_AllProcessed.csv\")"
   ]
  },
  {
   "cell_type": "code",
   "execution_count": null,
   "id": "427201f2",
   "metadata": {},
   "outputs": [],
   "source": []
  }
 ],
 "metadata": {
  "kernelspec": {
   "display_name": "Python 3",
   "language": "python",
   "name": "python3"
  },
  "language_info": {
   "codemirror_mode": {
    "name": "ipython",
    "version": 3
   },
   "file_extension": ".py",
   "mimetype": "text/x-python",
   "name": "python",
   "nbconvert_exporter": "python",
   "pygments_lexer": "ipython3",
   "version": "3.8.8"
  }
 },
 "nbformat": 4,
 "nbformat_minor": 5
}
