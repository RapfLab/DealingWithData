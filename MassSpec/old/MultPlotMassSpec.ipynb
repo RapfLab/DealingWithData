{
 "cells": [
  {
   "cell_type": "code",
   "execution_count": 34,
   "id": "85316c1d",
   "metadata": {},
   "outputs": [
    {
     "name": "stdout",
     "output_type": "stream",
     "text": [
      "C:\\Users\\timmo\\Documents\\RAPFLAB\\code\\MS\n"
     ]
    }
   ],
   "source": [
    "##ScrapeMSData\n",
    "##Written by Rebecca Rapf\n",
    "##June 15, 2021\n",
    "\n",
    "###Read in csv's of MS files and export the useful bits for loading into Igor\n",
    "\n",
    "##import relevant libraries\n",
    "import pandas as pd\n",
    "import numpy as np\n",
    "import glob\n",
    "\n",
    "import matplotlib as mpl\n",
    "import matplotlib.pyplot as plt \n",
    "import os\n",
    "#import csv\n",
    "\n",
    "\n",
    "##Parameters to be changed for each analysis##\n",
    "FilePath = \"/Users/timmo/Documents/RAPFLAB/code/MS\" ##currently local only, will change to read from google drive\n",
    "OutFolder = \"Processed\"\n",
    "FileType = \"csv\" #pick from \"xlsx\" or \"csv\"\n",
    "XLabel=\"x\"\n",
    "YLabel=\"y\"\n",
    "#Surfactant = \"myristic_300mMKCl\" #name of surfactant and/or conditions\n",
    "#StockConcSame = \"yes\" #\"yes\" or \"no\" if same concentration was used for each run\n",
    "\n",
    "\n",
    "##Set file path to where data is being held locally\n",
    "os.chdir(FilePath)\n",
    "print(os.getcwd())\n"
   ]
  },
  {
   "cell_type": "code",
   "execution_count": 46,
   "id": "4267cc58",
   "metadata": {},
   "outputs": [
    {
     "name": "stdout",
     "output_type": "stream",
     "text": [
      "['OOA_25C_50uM_s2_MS.csv', 'OOA_50C_3uM_2_MS.csv', 'OOA_50C_10uM_2_MS.csv', 'OOApst_50C_15uL_MS.csv', 'OOApst_25C_15uL_MS.csv', 'OOApst_50C_50uL_MS.csv', 'OOApst_50C_30uL_MS.csv', 'OOApst_50C_10uL_MS.csv', 'OOA_25C_200uM_2_MS.csv', 'OOApst_50C_5uL_MS.csv', 'OOA_25C_75uM_2_MS.csv', 'OOA_25C_25uM_2_MS.csv', 'OOA_25C_10uM_2_MS.csv', 'OOA_25C_3uM_2_MS.csv', 'OOA_50C_200uM_2_MS.csv', 'OOA_50C_75uM_2_MS.csv', 'OOA_50C_54uM_2_empty_MS.csv', 'OOA_50C_25uM_2_MS.csv', 'blank1_25C_MS.csv', 'blank3_50C_MS.csv', 'OOApst_50C_20uL_MS.csv', 'blank2_50C_MS.csv']\n"
     ]
    }
   ],
   "source": [
    "files = sorted(glob.glob(\"*\"+FileType))\n",
    "files.sort(key=os.path.getmtime)\n",
    "print(files)\n",
    "\n",
    "num_files = len(files)\n",
    "\n",
    "#AllFiles = pd.DataFrame()\n",
    "\n",
    "YAxis=[] #empty list containing all values of the Y-Axis for each file read\n",
    "XAxis=[] #empty list containing all values of the X-Axis for each file read\n",
    "LegendNames=[]\n",
    "OutputName= \"Mass Spec Graph\"\n",
    "\n",
    "for entry in range(len(files)):\n",
    "    name = files[entry]\n",
    "    outname = name[:-(len(FileType)+4)]\n",
    "    if len(outname)>28:\n",
    "        print(\"skipping \"+outname)\n",
    "        entry+=1\n",
    "    #print(len(outname))\n",
    "    #print(outname)\n",
    "    if FileType == \"csv\":\n",
    "        CurrFile = pd.read_csv(files[entry],skiprows=1)\n",
    "        \n",
    "        #########################\n",
    "        #print(CurrFile.columns)\n",
    "        import re\n",
    "        FullSplit = re.split(\"[_|.]\", name)\n",
    "        if FullSplit[2] == \"MS\":\n",
    "            LegendNames.append((FullSplit[1])+\"_50uM\")\n",
    "        elif FullSplit[2] != \"MS\":\n",
    "            LegendNames.append((FullSplit[1])+\"_\"+(FullSplit[2]))\n",
    "        IndFile = pd.DataFrame(columns = [\"mz_\"+outname,\"c_\"+outname])\n",
    "        IndFile[\"mz_\"+outname] = CurrFile['X(Thompsons)']\n",
    "        IndFile[\"c_\"+outname] = CurrFile['Y(Counts)']\n",
    "        XAxis.append(CurrFile[\"X(Thompsons)\"]) #appends the \"A_cm2\" column to the XAxis dataframe\n",
    "        YAxis.append(CurrFile[\"Y(Counts)\"]) #appends the \"P1[mN/m]\" column to the YAxis dataframe. Will be plotted later\n",
    "        IndFile.to_csv(OutFolder+\"/\"+outname+\"_Processed.csv\")\n",
    "        #CurrFile = CurrFile.rename(columns={CurrFile.columns[3]: \"A_cm2\"})\n",
    "        #print(CurrFile.columns)\n",
    "\n",
    "    elif FileType == \"xlsx\":\n",
    "        print(\"change to csv\")\n"
   ]
  },
  {
   "cell_type": "code",
   "execution_count": 47,
   "id": "57702e1b",
   "metadata": {},
   "outputs": [],
   "source": [
    "####################Figure style --> will be used for plotting\n",
    "def FigStyle(): #axis will be shared\n",
    "    mpl.rcParams['font.family'] = 'Arial'\n",
    "    plt.rcParams['font.size'] = 12\n",
    "    \n",
    "    plt.rcParams['axes.linewidth'] = 1\n",
    "    mpl.rcParams['axes.spines.right'] = True\n",
    "    mpl.rcParams['axes.spines.top'] = True\n",
    "    #plt.axis(xmin=25,xmax=250)\n",
    "    \n",
    "    mpl.rcParams['xtick.top']=False\n",
    "    mpl.rcParams['ytick.right']=False\n",
    "    ax.tick_params(direction='inout')\n",
    "    ax.tick_params('both', length=6, width=2, which='major')\n",
    "    ax.legend(LegendNames, framealpha=1, frameon=False, bbox_to_anchor=(1.01, 1)) #creates legend and specifies location + formatting\n",
    "   \n",
    "    plt.xlabel(XLabel, size=15) #x axis label\n",
    "    plt.ylabel(YLabel, size=17) #y axis label\n",
    "    \n",
    "    #ax.legend(legendNames, framealpha=1, frameon=False, bbox_to_anchor=(1.02, 1)) #creates legend and specifies location + formatting\n",
    "    \n",
    "    \n",
    "    plt.savefig(OutFolder+\"/\"+OutputName+\".png\", dpi=300, transparent=False)\n",
    "    plt.show() #shows the final plot\n",
    "    \n",
    "\n",
    "    #sets basic formatting for our plot\n"
   ]
  },
  {
   "cell_type": "code",
   "execution_count": 48,
   "id": "1458654d",
   "metadata": {},
   "outputs": [
    {
     "data": {
      "image/png": "[encoded data removed]",
      "text/plain": [
       "<Figure size 432x288 with 1 Axes>"
      ]
     },
     "metadata": {
      "needs_background": "light"
     },
     "output_type": "display_data"
    }
   ],
   "source": [
    "\n",
    "fig, ax = plt.subplots(sharex =True , sharey= True, figsize=(6,4))\n",
    "for i in range(len(XAxis)):\n",
    "    x= XAxis[i]\n",
    "    y= YAxis[i] #plots the x and y values of each dataframe individually on a shared axis\n",
    "    plt.plot(x, y) #actually plots our graph\n",
    "    \n",
    "\n",
    "FigStyle();  \n",
    "plt.show() #shows the final plot\n",
    "\n"
   ]
  },
  {
   "cell_type": "code",
   "execution_count": null,
   "id": "87a5c1f1",
   "metadata": {},
   "outputs": [],
   "source": []
  }
 ],
 "metadata": {
  "kernelspec": {
   "display_name": "Python 3",
   "language": "python",
   "name": "python3"
  },
  "language_info": {
   "codemirror_mode": {
    "name": "ipython",
    "version": 3
   },
   "file_extension": ".py",
   "mimetype": "text/x-python",
   "name": "python",
   "nbconvert_exporter": "python",
   "pygments_lexer": "ipython3",
   "version": "3.8.8"
  }
 },
 "nbformat": 4,
 "nbformat_minor": 5
}
