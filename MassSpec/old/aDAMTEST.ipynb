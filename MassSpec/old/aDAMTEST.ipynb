{
 "cells": [
  {
   "cell_type": "code",
   "execution_count": null,
   "id": "c7bf9251",
   "metadata": {},
   "outputs": [],
   "source": [
    "import pandas as pd\n",
    "import numpy as np\n",
    "import glob\n",
    "import matplotlib as mpl\n",
    "import matplotlib.pyplot as plt \n",
    "import os\n",
    "#import more_itertools as mit"
   ]
  },
  {
   "cell_type": "code",
   "execution_count": null,
   "id": "f8022bba",
   "metadata": {},
   "outputs": [],
   "source": [
    "FilePathList = \"/Users/homefolder/Documents/RapfLab/code/MStest\" #sets filepath for initial file/mass list. May not be necessary to keep this way\n",
    "                                                            #but sets path for list \n",
    "FileType=\"csv\" #sets filetype\n",
    "MassNumbersList=[] #creates an empty list which will be filled by the numbers in the mass list file\n",
    "os. chdir(FilePathList) #sets working directory to FilePathList\n",
    "CurrFile = pd.read_csv(\"IncompCombinedmasslist.csv\") #reads the file masslist.csv from the filepath --> since we only want to read one file was easier to just specify file\n",
    "#######################################\n",
    "\n",
    "\n",
    "for i in (range(len(CurrFile))):\n",
    "    MassNumbersList.append(CurrFile['mz_list'][i]) #appends value number i from masslist.csv in the colum mz_li\n",
    "print(MassNumbersList)"
   ]
  },
  {
   "cell_type": "code",
   "execution_count": 10,
   "id": "0f217ced",
   "metadata": {},
   "outputs": [
    {
     "ename": "NameError",
     "evalue": "name 'AllFiles' is not defined",
     "output_type": "error",
     "traceback": [
      "\u001b[0;31m---------------------------------------------------------------------------\u001b[0m",
      "\u001b[0;31mNameError\u001b[0m                                 Traceback (most recent call last)",
      "\u001b[0;32m<ipython-input-10-415c5867cd62>\u001b[0m in \u001b[0;36m<module>\u001b[0;34m\u001b[0m\n\u001b[1;32m     53\u001b[0m \u001b[0;34m\u001b[0m\u001b[0m\n\u001b[1;32m     54\u001b[0m \u001b[0;34m\u001b[0m\u001b[0m\n\u001b[0;32m---> 55\u001b[0;31m \u001b[0mAllFiles\u001b[0m\u001b[0;34m[\u001b[0m\u001b[0moutname\u001b[0m\u001b[0;34m+\u001b[0m\u001b[0;34m\"mz_list\"\u001b[0m\u001b[0;34m]\u001b[0m\u001b[0;34m=\u001b[0m\u001b[0mMassNumbersList\u001b[0m   \u001b[0;31m#Does same as for IndFile but for an All file with all values. Whole function works in similar way\u001b[0m\u001b[0;34m\u001b[0m\u001b[0;34m\u001b[0m\u001b[0m\n\u001b[0m\u001b[1;32m     56\u001b[0m \u001b[0;32mfor\u001b[0m \u001b[0mi\u001b[0m \u001b[0;32min\u001b[0m \u001b[0mrange\u001b[0m\u001b[0;34m(\u001b[0m\u001b[0mnum_files\u001b[0m\u001b[0;34m)\u001b[0m\u001b[0;34m:\u001b[0m\u001b[0;34m\u001b[0m\u001b[0;34m\u001b[0m\u001b[0m\n\u001b[1;32m     57\u001b[0m     \u001b[0mAllFiles\u001b[0m\u001b[0;34m[\u001b[0m\u001b[0moutname\u001b[0m\u001b[0;34m+\u001b[0m\u001b[0;34m\"_mass\"\u001b[0m\u001b[0;34m+\u001b[0m\u001b[0moutname\u001b[0m\u001b[0;34m[\u001b[0m\u001b[0mi\u001b[0m\u001b[0;34m]\u001b[0m\u001b[0;34m]\u001b[0m\u001b[0;34m=\u001b[0m\u001b[0mProcessedX\u001b[0m\u001b[0;34m[\u001b[0m\u001b[0;34m(\u001b[0m\u001b[0mi\u001b[0m\u001b[0;34m*\u001b[0m\u001b[0mlength\u001b[0m\u001b[0;34m)\u001b[0m\u001b[0;34m:\u001b[0m\u001b[0;34m(\u001b[0m\u001b[0;34m(\u001b[0m\u001b[0mi\u001b[0m\u001b[0;34m+\u001b[0m\u001b[0;36m1\u001b[0m\u001b[0;34m)\u001b[0m\u001b[0;34m*\u001b[0m\u001b[0mlength\u001b[0m\u001b[0;34m)\u001b[0m\u001b[0;34m]\u001b[0m\u001b[0;34m\u001b[0m\u001b[0;34m\u001b[0m\u001b[0m\n",
      "\u001b[0;31mNameError\u001b[0m: name 'AllFiles' is not defined"
     ]
    }
   ],
   "source": [
    "##WEIRD ERROR. SOMETIMES NEED TO RUN TWICE BECAUSE FILEPATH DOES NOT UPDATE??????\n",
    "####Different way of coding it\n",
    "FilePath = \"/Users/homefolder/Documents/RapfLab/code/MassSpecData/210623MSCHR/MS\"  #Second file path for where the actual files are located\n",
    "os. chdir(FilePath) #updates file path to the folder with actual files for processing\n",
    "\n",
    "FileType=\"csv\" #what filetype are the files. Will probably be csv\n",
    "files = sorted(glob.glob(\"*\"+FileType)) #gets all files of chosen filetype\n",
    "num_files = len(files) #how many files are you reading in\n",
    "OutFolder = \"Processed\" #folder where processed files will be saved\n",
    "outname = \"OOA\" #part of file name. Will be used later\n",
    "##############################\n",
    "\n",
    "ErrorRange = 0.005 #error range. Will be +- to get range and see if values fit in range. 25 ppm error range     \n",
    "ProcessedX=[] #values for X(Thompsons) will be saved here\n",
    "ProcessedY=[] #values for Y(Counts) will be saved here\n",
    "#Saves names that will be used for file naming later on\n",
    "\n",
    "for entry in range(num_files): #goes through all files\n",
    "    name = files[entry] \n",
    "    CurrFile = pd.read_csv(files[entry],skiprows=1) #reads files\n",
    "    FullSplit = name.split(\"_\") #gets all parts of the file name\n",
    "     #gets the third part of the name (0,1,[2]). Adds it to the name list\n",
    "    for mass in range(len(MassNumbersList)): #goes through each mast in the MassesList\n",
    "        MassHigh=((MassNumbersList[mass])+ErrorRange) #upper range of Mass\n",
    "        MassLow=((MassNumbersList[mass])-ErrorRange) #lower range of Mass\n",
    "        fixed=CurrFile.drop(columns=\"#Point\") #drops point column\n",
    "        fit=fixed[\"X(Thompsons)\"].between(MassLow, MassHigh, inclusive = True) #checks if value for X(Thompson) fits between mass low and mass high\n",
    "       ####Part two of function\n",
    "        for i in range(len(fit)): #checks if values in fit are true or false\n",
    "             if fit[i]== True: #if True then appends values\n",
    "                    ProcessedX.append(fixed[\"X(Thompsons)\"][i])\n",
    "                    ProcessedY.append(fixed[\"Y(Counts)\"][i])\n",
    "\n",
    "             \n",
    "        if sum(fit) == False: #if all values are false and nothing fits then will append a 0. This makes sure you get the correct\n",
    "                              # number of values no matter what\n",
    "                  ProcessedX.append(0)  \n",
    "                  ProcessedY.append(0) #appends 0 for both \n",
    "        \n",
    "        \n",
    "        \n",
    "\n",
    "length=(int(len(MassNumbersList))) #length is the lenght of the MassNumbersList\n",
    "\n",
    "for i in range((num_files)):   \n",
    "    IndFile = pd.DataFrame(columns = [\"mz_list\",outname+\"_mass\",outname+\"_count\"]) #columns mz_list, mass, and count +NameList[i]\n",
    "    IndFile[\"mz_list\"]=MassNumbersList\n",
    "    IndFile[\"_mass\"]=ProcessedX[(i*length):((i+1)*length)] \n",
    "    IndFile[\"_count\"]=ProcessedY[(i*length):((i+1)*length)] #for this and the line before, it reads the values of processed from i*length\n",
    "                                                                        # to (i+1)*length. For example this will be 0:12 for first then 13:16 for second\n",
    "    IndFile.to_csv(OutFolder+\"/\"+outname+\"_Processed.csv\")          #chooses folder\n",
    "####################\n",
    "\n",
    "\n",
    "AllFiles[outname+\"mz_list\"]=MassNumbersList   #Does same as for IndFile but for an All file with all values. Whole function works in similar way\n",
    "for i in range(num_files):\n",
    "    AllFiles[outname+\"_mass\"+outname[i]]=ProcessedX[(i*length):((i+1)*length)]\n",
    "    AllFiles[outname+\"_count\"+outname[i]]=ProcessedY[(i*length):((i+1)*length)]\n",
    "    \n",
    "        \n",
    "AllFiles.to_csv(OutFolder+\"/\"+outname+\"_AllProcessed.csv\")\n",
    "print(\"done\")"
   ]
  },
  {
   "cell_type": "code",
   "execution_count": null,
   "id": "98f2ac9b",
   "metadata": {},
   "outputs": [],
   "source": []
  },
  {
   "cell_type": "code",
   "execution_count": null,
   "id": "ff1208b3",
   "metadata": {},
   "outputs": [],
   "source": []
  }
 ],
 "metadata": {
  "kernelspec": {
   "display_name": "Python 3",
   "language": "python",
   "name": "python3"
  },
  "language_info": {
   "codemirror_mode": {
    "name": "ipython",
    "version": 3
   },
   "file_extension": ".py",
   "mimetype": "text/x-python",
   "name": "python",
   "nbconvert_exporter": "python",
   "pygments_lexer": "ipython3",
   "version": "3.8.8"
  }
 },
 "nbformat": 4,
 "nbformat_minor": 5
}
