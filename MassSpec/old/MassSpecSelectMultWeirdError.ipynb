{
 "cells": [
  {
   "cell_type": "code",
   "execution_count": 10,
   "id": "d344bfb5",
   "metadata": {},
   "outputs": [],
   "source": [
    "import pandas as pd\n",
    "import numpy as np\n",
    "import glob\n",
    "import matplotlib as mpl\n",
    "import matplotlib.pyplot as plt \n",
    "import os\n",
    "#import more_itertools as mit"
   ]
  },
  {
   "cell_type": "code",
   "execution_count": 11,
   "id": "0d0176df",
   "metadata": {},
   "outputs": [
    {
     "name": "stdout",
     "output_type": "stream",
     "text": [
      "39\n",
      "39\n"
     ]
    }
   ],
   "source": [
    "\n",
    "FilePathList = \"/Users/homefolder/Documents/RapfLab/code/MStest\" #sets filepath for initial file/mass list. May not be necessary to keep this way\n",
    "                                                            #but sets path for list \n",
    "FileType=\"csv\" #sets filetype\n",
    "MassNumbersList=[] #creates an empty list which will be filled by the numbers in the mass list file\n",
    "os. chdir(FilePathList) #sets working directory to FilePathList\n",
    "CurrFile = pd.read_csv(\"NewIncompMassList.csv\") #reads the file masslist.csv from the filepath --> since we only want to read one file was easier to just specify file\n",
    "#print(CurrFile)\n",
    "MassNumberNames=[]\n",
    "#######################################\n",
    "\n",
    "\n",
    "for i in (range(len(CurrFile))):\n",
    "    MassNumbersList.append(CurrFile['mz_list'][i]) #appends value number i from masslist.csv in the colum mz_list\n",
    "    MassNumberNames.append(CurrFile['Species'][i])\n",
    "print(len(MassNumberNames))\n",
    "print(len(MassNumbersList))"
   ]
  },
  {
   "cell_type": "code",
   "execution_count": 12,
   "id": "d7a0f05c",
   "metadata": {},
   "outputs": [
    {
     "name": "stdout",
     "output_type": "stream",
     "text": [
      "[197.17328238937085, 636.6911765748953, 715.894022649642, 1590.3473001745022, 6.977268679941483, 16834.354356440483, 32970.79355009917, 68.25301013103741, 692.4915308970133, 5.233895395449892, 0.8702889089560607, 8.061556873824413, 70.16283857307546, 70.16283857307546, 966.9888788261418, 3208.765461670305, 37.89142501938961, 1240.088002907507, 16399.242760863042, 2325.35400390625, 31.47558784484865, 19677.02084350586, 6230.4307861328125, 50169.11395263672, 1158.816833496095, 118.949768066405, 2.474278211593605, 274.2600293159485, 4581.94384765625, 52040.462158203125, 12.797760128974923, 1134.686767578125, 3.07194972038269, 367.096130371094, 0.0, 0.1681166291236879, 2.1105384059151, 0.0, 1.4764682228005]\n"
     ]
    }
   ],
   "source": [
    "FilePathList = \"/Users/homefolder/Documents/RapfLab/code/MStest/Processed\"\n",
    "FileType=\"csv\" #sets filetype\n",
    "os. chdir(FilePathList)\n",
    "Blanks=[]\n",
    "CurrFile = pd.read_csv(\"stdev_blank.csv\")\n",
    "for i in (range(len(CurrFile))):\n",
    "    Blanks.append(CurrFile['standard deviation'][i])\n",
    "\n",
    "print(Blanks)"
   ]
  },
  {
   "cell_type": "code",
   "execution_count": 17,
   "id": "9fcf5ae3",
   "metadata": {
    "scrolled": false
   },
   "outputs": [
    {
     "name": "stdout",
     "output_type": "stream",
     "text": [
      "['210611_OICApost_3_MS.csv', '210611_OVApost_3_MS.csv', '210614_OBApost_4_MS.csv', '210701_365_PApost_MS.csv', '210706_270_PPApost_MS.csv', '210706_365_PA_1hr_MS.csv', '210706_365_PApost_MS.csv', '210706_lamp_PPApost_MS.csv', '210707_270_PApost_MS.csv', '210708_270_PPApost_MS.csv', '210708_365_PPApost_MS.csv', '210708_lamp_PPApost_MS.csv', '210711_MeOHBlank_01Pos_MS.csv', '210711_MeOHBlank_01_MS.csv', '210711_MeOHBlank_02_MS.csv', '210711_MeOHBlank_02pos_MS.csv', '210711_MeOHBlank_03_MS.csv', '210711_MeOHBlank_03pos_MS.csv', '210711_MeOHBlank_04_MS.csv', '210711_MeOHBlank_04pos_MS.csv', '210711_MeOHBlank_05_MS.csv', '210711_MeOHBlank_05pos_MS.csv', '210711_MeOHBlank_06_MS.csv', '210711_MeOHBlank_06pos_MS.csv', '210711_MeOHBlank_07_MS.csv', '210711_MeOHBlank_07pos_MS.csv', '210711_MeOHBlank_08_MS.csv', '210711_MeOHBlank_09_MS.csv', '210711_MeOHBlank_10_MS.csv', '210711_MeOHBlank_11_MS.csv', '210711_MeOHBlank_12_MS.csv', '210711_MeOHBlank_13_MS.csv', '210711_MeOHBlank_14_MS.csv', '210711_MeOHBlank_15_MS.csv', '210711_MeOHBlank_End2_MS.csv', '210711_MeOHBlank_End2pos_MS.csv', '210711_MeOHBlank_End_MS.csv', '210711_MeOHBlank_Endpso_MS.csv', 'Flush2_MS.csv', 'Flush_MS.csv']\n"
     ]
    },
    {
     "ename": "IndexError",
     "evalue": "list index out of range",
     "output_type": "error",
     "traceback": [
      "\u001b[0;31m---------------------------------------------------------------------------\u001b[0m",
      "\u001b[0;31mIndexError\u001b[0m                                Traceback (most recent call last)",
      "\u001b[0;32m<ipython-input-17-4f1183cd276b>\u001b[0m in \u001b[0;36m<module>\u001b[0;34m\u001b[0m\n\u001b[1;32m     41\u001b[0m                     \u001b[0mnames\u001b[0m\u001b[0;34m.\u001b[0m\u001b[0mappend\u001b[0m\u001b[0;34m(\u001b[0m\u001b[0mMassNumberNames\u001b[0m\u001b[0;34m[\u001b[0m\u001b[0mmass\u001b[0m\u001b[0;34m]\u001b[0m\u001b[0;34m)\u001b[0m\u001b[0;34m\u001b[0m\u001b[0;34m\u001b[0m\u001b[0m\n\u001b[1;32m     42\u001b[0m                     \u001b[0mBlankRep\u001b[0m\u001b[0;34m.\u001b[0m\u001b[0mappend\u001b[0m\u001b[0;34m(\u001b[0m\u001b[0mBlanks\u001b[0m\u001b[0;34m[\u001b[0m\u001b[0mmass\u001b[0m\u001b[0;34m]\u001b[0m\u001b[0;34m)\u001b[0m\u001b[0;34m\u001b[0m\u001b[0;34m\u001b[0m\u001b[0m\n\u001b[0;32m---> 43\u001b[0;31m                     \u001b[0;32mif\u001b[0m \u001b[0mfixed\u001b[0m\u001b[0;34m(\u001b[0m\u001b[0;34m[\u001b[0m\u001b[0;34m\"Y(Counts)\"\u001b[0m\u001b[0;34m]\u001b[0m\u001b[0;34m[\u001b[0m\u001b[0mi\u001b[0m\u001b[0;34m]\u001b[0m\u001b[0;34m)\u001b[0m\u001b[0;34m<=\u001b[0m\u001b[0;36m3\u001b[0m\u001b[0;34m*\u001b[0m\u001b[0mBlanks\u001b[0m\u001b[0;34m[\u001b[0m\u001b[0mmass\u001b[0m\u001b[0;34m]\u001b[0m \u001b[0;32mand\u001b[0m \u001b[0mfixed\u001b[0m\u001b[0;34m(\u001b[0m\u001b[0;34m[\u001b[0m\u001b[0;34m\"Y(Counts)\"\u001b[0m\u001b[0;34m]\u001b[0m\u001b[0;34m[\u001b[0m\u001b[0mi\u001b[0m\u001b[0;34m]\u001b[0m\u001b[0;34m)\u001b[0m\u001b[0;34m>=\u001b[0m\u001b[0;36m0\u001b[0m\u001b[0;34m:\u001b[0m\u001b[0;34m\u001b[0m\u001b[0;34m\u001b[0m\u001b[0m\n\u001b[0m\u001b[1;32m     44\u001b[0m                         \u001b[0mDetected\u001b[0m\u001b[0;34m.\u001b[0m\u001b[0mappend\u001b[0m\u001b[0;34m(\u001b[0m\u001b[0;34m\"Not Detected\"\u001b[0m\u001b[0;34m)\u001b[0m\u001b[0;34m\u001b[0m\u001b[0;34m\u001b[0m\u001b[0m\n\u001b[1;32m     45\u001b[0m                     \u001b[0;32melse\u001b[0m\u001b[0;34m:\u001b[0m\u001b[0;34m\u001b[0m\u001b[0;34m\u001b[0m\u001b[0m\n",
      "\u001b[0;31mIndexError\u001b[0m: list index out of range"
     ]
    }
   ],
   "source": [
    "\n",
    "FilePath = \"/Users/homefolder/Documents/RapfLab/code/MassSpecData/210711MSCHR/MS\" #Second file path for where the actual files are located\n",
    "os. chdir(FilePath) #updates file path to the folder with actual files for processing\n",
    "AllFiles=pd.DataFrame()\n",
    "FileType=\"csv\" #what filetype are the files. Will probably be csv\n",
    "files = sorted(glob.glob(\"*\"+FileType)) #gets all files of chosen filetype\n",
    "num_files = len(files) #how many files are you reading in\n",
    "OutFolder = \"Processed\" #folder where processed files will be saved\n",
    "outname = \"\" #part of file name. Will be used later\n",
    "##############################\n",
    "print(files)\n",
    "ErrorRange = 0.00005 #error range. Will be +- to get range and see if values fit in range. 25 ppm error range     \n",
    "mzlistRep=[]\n",
    "\n",
    "\n",
    "\n",
    "for entry in range(num_files): #goes through all files\n",
    "    name = files[entry] \n",
    "    CurrFile = pd.read_csv(files[entry],skiprows=1) #reads files\n",
    "    FullSplit = name.split(\".\") #gets all parts of the file name\n",
    "    NameList=(str(FullSplit[0]))\n",
    "    mzlistRep=[]\n",
    "    ProcessedX=[] #values for X(Thompsons) will be saved here\n",
    "    ProcessedY=[] #values for Y(Counts) will be saved here\n",
    "    PPM=[] #PPM values will be saved here\n",
    "    names=[]\n",
    "    BlankRep=[]\n",
    "    Detected=[]\n",
    "    #gets the third part of the name (0,1,[2]). Adds it to the name list\n",
    "    for mass in range(len(MassNumbersList)): #goes through each mast in the MassesList\n",
    "        MassHigh=((MassNumbersList[mass])+(MassNumbersList[mass]*ErrorRange)) #upper range of Mass\n",
    "        MassLow=((MassNumbersList[mass])-(MassNumbersList[mass]*ErrorRange)) #lower range of Mass\n",
    "        fixed=CurrFile.drop(columns=\"#Point\") #drops point column\n",
    "        fit=fixed[\"X(Thompsons)\"].between(MassLow, MassHigh, inclusive = True) #checks if value for X(Thompson) fits between mass low and mass high\n",
    "        ####Part two of function\n",
    "        for i in range(len(fit)): #checks if values in fit are true or false\n",
    "             if fit[i]== True: #if True then appends values\n",
    "                    ProcessedX.append(fixed[\"X(Thompsons)\"][i])\n",
    "                    ProcessedY.append(fixed[\"Y(Counts)\"][i])\n",
    "                    PPM.append(((abs((fixed[\"X(Thompsons)\"][i])-MassNumbersList[mass]))/MassNumbersList[mass])*1000000)\n",
    "                    mzlistRep.append(MassNumbersList[mass])\n",
    "                    names.append(MassNumberNames[mass])\n",
    "                    BlankRep.append(Blanks[mass])\n",
    "                    if fixed([\"Y(Counts)\"][i])<=3*Blanks[mass] and fixed([\"Y(Counts)\"][i])>=0: \n",
    "                        Detected.append(\"Not Detected\")\n",
    "                    else:\n",
    "                        Detected.append(\"Detected\")\n",
    "             \n",
    "        if sum(fit) == False: #if all values are false and nothing fits then will append a 0. This makes sure you get the correct\n",
    "                                  # number of values no matter what\n",
    "                ProcessedX.append(0)  \n",
    "                ProcessedY.append(0) #appends 0 for both \n",
    "                PPM.append(0)\n",
    "                mzlistRep.append(MassNumbersList[mass])\n",
    "                names.append(MassNumberNames[mass])  \n",
    "                BlankRep.append(Blanks[mass])\n",
    "                Detected.append(\"Not Detected\")\n",
    "        \n",
    " \n",
    "        IndFile = pd.DataFrame(columns = [\"Compound Names\",\"mz_list\",NameList+\"_mass\",NameList+\"_count\",NameList+\"_PPM\", \"Blank STDev\", \"Detected\"]) #columns mz_list, mass, and count +NameList[i]\n",
    "        IndFile[\"Compound Names\"]=names\n",
    "        IndFile[\"mz_list\"]=mzlistRep\n",
    "        IndFile[NameList+\"_mass\"]=ProcessedX\n",
    "        IndFile[NameList+\"_count\"]=ProcessedY #for this and the line before, it reads the values of processed from i*length\n",
    "        IndFile[NameList+\"_PPM\"]=PPM\n",
    "        IndFile[\"BlankSTDev\"]=BlankRep\n",
    "        IndFile[\"Detected\"]=Detected\n",
    "        IndFile.to_csv(\"/Users/homefolder/Documents/RapfLab/code/MStest/Processed/\"+NameList+\"_Processed.csv\")          #chooses folder\n",
    "    ####################\n",
    "\n",
    "\n",
    "# AllFiles[outname+\"mz_list\"]=MassNumbersList   #Does same as for IndFile but for an All file with all values. Whole function works in similar way\n",
    "# AllFiles[outname+\"Compound Names\"]=MassNumberNames\n",
    "# for i in range(num_files):\n",
    "#     AllFiles[outname+\"_mass\"+NameList[i]]=ProcessedX[(i*length):((i+1)*length)]\n",
    "#     AllFiles[outname+\"_count\"+NameList[i]]=ProcessedY[(i*length):((i+1)*length)]\n",
    "#     AllFiles[outname+\"_PPM\"+NameList[i]]=PPM[(i*length):((i+1)*length)]\n",
    "        \n",
    "# AllFiles.to_csv(\"/Users/timmo/Documents/RapfLab/code/MStest/List/Processed\"+\"/\"+outname+\"_AllProcessed.csv\")\n",
    "\n",
    "    "
   ]
  },
  {
   "cell_type": "code",
   "execution_count": null,
   "id": "146290ce",
   "metadata": {},
   "outputs": [],
   "source": []
  },
  {
   "cell_type": "code",
   "execution_count": null,
   "id": "8d65146a",
   "metadata": {},
   "outputs": [],
   "source": []
  }
 ],
 "metadata": {
  "kernelspec": {
   "display_name": "Python 3",
   "language": "python",
   "name": "python3"
  },
  "language_info": {
   "codemirror_mode": {
    "name": "ipython",
    "version": 3
   },
   "file_extension": ".py",
   "mimetype": "text/x-python",
   "name": "python",
   "nbconvert_exporter": "python",
   "pygments_lexer": "ipython3",
   "version": "3.8.8"
  }
 },
 "nbformat": 4,
 "nbformat_minor": 5
}
