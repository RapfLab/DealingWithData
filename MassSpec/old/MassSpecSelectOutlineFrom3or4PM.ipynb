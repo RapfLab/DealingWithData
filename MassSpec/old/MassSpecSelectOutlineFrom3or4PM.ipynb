{
 "cells": [
  {
   "cell_type": "code",
   "execution_count": 2,
   "id": "d344bfb5",
   "metadata": {},
   "outputs": [],
   "source": [
    "import pandas as pd\n",
    "import numpy as np\n",
    "import glob\n",
    "import matplotlib as mpl\n",
    "import matplotlib.pyplot as plt \n",
    "import os\n",
    "#import more_itertools as mit"
   ]
  },
  {
   "cell_type": "code",
   "execution_count": 4,
   "id": "0d0176df",
   "metadata": {},
   "outputs": [
    {
     "name": "stdout",
     "output_type": "stream",
     "text": [
      "[0      87.1\n",
      "1     129.1\n",
      "2     157.1\n",
      "3     173.1\n",
      "4     175.1\n",
      "5     177.1\n",
      "6     245.1\n",
      "7     247.1\n",
      "8     285.1\n",
      "9     287.1\n",
      "10    315.1\n",
      "11    317.1\n",
      "12    385.1\n",
      "Name: mz_list, dtype: float64]\n"
     ]
    },
    {
     "ename": "TypeError",
     "evalue": "list indices must be integers or slices, not str",
     "output_type": "error",
     "traceback": [
      "\u001b[1;31m---------------------------------------------------------------------------\u001b[0m",
      "\u001b[1;31mTypeError\u001b[0m                                 Traceback (most recent call last)",
      "\u001b[1;32m<ipython-input-4-92a925a61bf0>\u001b[0m in \u001b[0;36m<module>\u001b[1;34m\u001b[0m\n\u001b[0;32m     15\u001b[0m \u001b[1;31m#     print(MassNumbersList[i])\u001b[0m\u001b[1;33m\u001b[0m\u001b[1;33m\u001b[0m\u001b[1;33m\u001b[0m\u001b[0m\n\u001b[0;32m     16\u001b[0m \u001b[1;32mfor\u001b[0m \u001b[0mmass\u001b[0m \u001b[1;32min\u001b[0m \u001b[0mrange\u001b[0m\u001b[1;33m(\u001b[0m\u001b[0mlen\u001b[0m\u001b[1;33m(\u001b[0m\u001b[0mMassNumbersList\u001b[0m\u001b[1;33m)\u001b[0m\u001b[1;33m)\u001b[0m\u001b[1;33m:\u001b[0m\u001b[1;33m\u001b[0m\u001b[1;33m\u001b[0m\u001b[0m\n\u001b[1;32m---> 17\u001b[1;33m     \u001b[0mprint\u001b[0m\u001b[1;33m(\u001b[0m\u001b[0mMassNumbersList\u001b[0m\u001b[1;33m[\u001b[0m\u001b[1;34m\"mz_list\"\u001b[0m\u001b[1;33m]\u001b[0m\u001b[1;33m[\u001b[0m\u001b[0mmass\u001b[0m\u001b[1;33m]\u001b[0m\u001b[1;33m)\u001b[0m\u001b[1;33m\u001b[0m\u001b[1;33m\u001b[0m\u001b[0m\n\u001b[0m",
      "\u001b[1;31mTypeError\u001b[0m: list indices must be integers or slices, not str"
     ]
    }
   ],
   "source": [
    "\n",
    "FilePathList = \"/Users/timmo/Documents/RAPFLAB/code/MStest\" \n",
    "\n",
    "FileType=\"csv\"\n",
    "MassNumbersList=[]\n",
    "\n",
    "\n",
    "os. chdir(FilePathList)\n",
    "CurrFile = pd.read_csv(\"masslist.csv\")\n",
    "MassNumbersList.append(CurrFile['mz_list'])\n",
    "print(MassNumbersList)\n",
    "#MSL=MassNumbersList\n",
    "#print(MSL)\n",
    "        \n",
    "# for i in range(len(MassNumbersList)):\n",
    "#     print(MassNumbersList[i])\n",
    "for mass in range(len(MassNumbersList)):\n",
    "    print(MassNumbersList[\"mz_list\"][mass])"
   ]
  },
  {
   "cell_type": "code",
   "execution_count": 7,
   "id": "9fcf5ae3",
   "metadata": {
    "scrolled": true
   },
   "outputs": [
    {
     "name": "stdout",
     "output_type": "stream",
     "text": [
      "['OOApre_50C_50uM_s2_MS.csv', 'OOApst_50C_15uL_MS.csv']\n",
      "OOApre_50C_50uM_s2_MS.csv\n"
     ]
    },
    {
     "ename": "TypeError",
     "evalue": "list indices must be integers or slices, not str",
     "output_type": "error",
     "traceback": [
      "\u001b[1;31m---------------------------------------------------------------------------\u001b[0m",
      "\u001b[1;31mTypeError\u001b[0m                                 Traceback (most recent call last)",
      "\u001b[1;32m<ipython-input-7-f95eff3471a4>\u001b[0m in \u001b[0;36m<module>\u001b[1;34m\u001b[0m\n\u001b[0;32m     26\u001b[0m     \u001b[0mprint\u001b[0m\u001b[1;33m(\u001b[0m\u001b[0mfiles\u001b[0m\u001b[1;33m[\u001b[0m\u001b[0mentry\u001b[0m\u001b[1;33m]\u001b[0m\u001b[1;33m)\u001b[0m\u001b[1;33m\u001b[0m\u001b[1;33m\u001b[0m\u001b[0m\n\u001b[0;32m     27\u001b[0m     \u001b[1;32mfor\u001b[0m \u001b[0mmass\u001b[0m \u001b[1;32min\u001b[0m \u001b[0mrange\u001b[0m\u001b[1;33m(\u001b[0m\u001b[0mlen\u001b[0m\u001b[1;33m(\u001b[0m\u001b[0mMassNumbersList\u001b[0m\u001b[1;33m)\u001b[0m\u001b[1;33m)\u001b[0m\u001b[1;33m:\u001b[0m \u001b[1;31m#goes through each mast in the MassesList\u001b[0m\u001b[1;33m\u001b[0m\u001b[1;33m\u001b[0m\u001b[0m\n\u001b[1;32m---> 28\u001b[1;33m         \u001b[0mMassHigh\u001b[0m\u001b[1;33m=\u001b[0m\u001b[1;33m(\u001b[0m\u001b[1;33m(\u001b[0m\u001b[0mMassNumbersList\u001b[0m\u001b[1;33m[\u001b[0m\u001b[1;34m\"mz_list\"\u001b[0m\u001b[1;33m]\u001b[0m\u001b[1;33m[\u001b[0m\u001b[0mmass\u001b[0m\u001b[1;33m]\u001b[0m\u001b[1;33m)\u001b[0m\u001b[1;33m+\u001b[0m\u001b[0mErrorRange\u001b[0m\u001b[1;33m)\u001b[0m\u001b[1;33m\u001b[0m\u001b[1;33m\u001b[0m\u001b[0m\n\u001b[0m\u001b[0;32m     29\u001b[0m         \u001b[0mMassLow\u001b[0m\u001b[1;33m=\u001b[0m\u001b[1;33m(\u001b[0m\u001b[1;33m(\u001b[0m\u001b[0mMassNumbersList\u001b[0m\u001b[1;33m[\u001b[0m\u001b[1;34m\"mz_list\"\u001b[0m\u001b[1;33m]\u001b[0m\u001b[1;33m[\u001b[0m\u001b[0mmass\u001b[0m\u001b[1;33m]\u001b[0m\u001b[1;33m)\u001b[0m\u001b[1;33m-\u001b[0m\u001b[0mErrorRange\u001b[0m\u001b[1;33m)\u001b[0m\u001b[1;33m\u001b[0m\u001b[1;33m\u001b[0m\u001b[0m\n\u001b[0;32m     30\u001b[0m         \u001b[0mfit\u001b[0m\u001b[1;33m=\u001b[0m\u001b[0mCurrFile\u001b[0m\u001b[1;33m[\u001b[0m\u001b[1;34m\"X(Thompsons)\"\u001b[0m\u001b[1;33m]\u001b[0m\u001b[1;33m.\u001b[0m\u001b[0mbetween\u001b[0m\u001b[1;33m(\u001b[0m\u001b[0mMassLow\u001b[0m\u001b[1;33m,\u001b[0m \u001b[0mMassHigh\u001b[0m\u001b[1;33m,\u001b[0m \u001b[0minclusive\u001b[0m \u001b[1;33m=\u001b[0m \u001b[1;32mTrue\u001b[0m\u001b[1;33m)\u001b[0m\u001b[1;33m\u001b[0m\u001b[1;33m\u001b[0m\u001b[0m\n",
      "\u001b[1;31mTypeError\u001b[0m: list indices must be integers or slices, not str"
     ]
    }
   ],
   "source": [
    "####Different way of coding it\n",
    "FilePath = \"/Users/timmo/Documents/RAPFLAB/code/MStest/List\" ##currently local only, will change to read from google drive\n",
    "#OutFolder = \"Processed\"\n",
    "\n",
    "FileType=\"csv\"\n",
    "files = sorted(glob.glob(\"*\"+FileType))\n",
    "#files.sort(key=os.path.getmtime)\n",
    "num_files = len(files)\n",
    "OutFolder = \"Processed\"\n",
    "outname = \"OOA\"\n",
    "AllFiles = pd.DataFrame()\n",
    "\n",
    "Selected=[]\n",
    "ErrorRange = 0.005        \n",
    "Processed=[]\n",
    "ProcessedX=[]\n",
    "ProcessedY=[]\n",
    "\n",
    "FileType=\"csv\"\n",
    "files = sorted(glob.glob(\"*\"+FileType))\n",
    "#print(MSL)\n",
    "print(files)\n",
    "os. chdir(FilePath)\n",
    "for entry in range(num_files): #file x:\n",
    "    CurrFile = pd.read_csv(files[entry],skiprows=1)\n",
    "    print(files[entry])\n",
    "    for mass in range(len(MassNumbersList)): #goes through each mast in the MassesList\n",
    "        MassHigh=((MassNumbersList[\"mz_list\"][mass])+ErrorRange)\n",
    "        MassLow=((MassNumbersList[\"mz_list\"][mass])-ErrorRange)\n",
    "        fit=CurrFile[\"X(Thompsons)\"].between(MassLow, MassHigh, inclusive = True)\n",
    "        fixed=CurrFile.drop(columns=\"#Point\")\n",
    "        ProcessedX.append(fixed[\"X(Thompsons)\"][fit])\n",
    "        ProcessedY.append(fixed[\"Y(Counts)\"][fit])\n",
    "print(ProcessedX)\n",
    "        #Processed = filter(None, Processed)\n",
    "        #print(fixed[fit])\n",
    "IndFile = pd.DataFrame(columns = [\"mz_list\",\"_mass\",outname+\"_count\"])\n",
    "IndFile[outname+\"_mass\"]=ProcessedX\n",
    "IndFile[outname+\"_count\"]=ProcessedY\n",
    "IndFile[\"mz_list\"]=MassNumbersList\n",
    "        \n",
    "# AllFiles[outname+\"_mass\"]=ProcessedX\n",
    "# AllFiles[outname+\"_count\"]=ProcessedY\n",
    "        \n",
    "IndFile.to_csv(OutFolder+\"/\"+outname+\"_Processed.csv\")\n",
    "\n",
    "# AllFiles.to_csv(OutFolder+\"/_AllProcessed.csv\")\n",
    "\n",
    "    "
   ]
  },
  {
   "cell_type": "code",
   "execution_count": null,
   "id": "1666f85c",
   "metadata": {},
   "outputs": [],
   "source": []
  }
 ],
 "metadata": {
  "kernelspec": {
   "display_name": "Python 3",
   "language": "python",
   "name": "python3"
  },
  "language_info": {
   "codemirror_mode": {
    "name": "ipython",
    "version": 3
   },
   "file_extension": ".py",
   "mimetype": "text/x-python",
   "name": "python",
   "nbconvert_exporter": "python",
   "pygments_lexer": "ipython3",
   "version": "3.8.8"
  }
 },
 "nbformat": 4,
 "nbformat_minor": 5
}
