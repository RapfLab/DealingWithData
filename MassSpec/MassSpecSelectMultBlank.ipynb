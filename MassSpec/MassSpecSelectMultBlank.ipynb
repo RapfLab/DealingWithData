{
 "cells": [
  {
   "cell_type": "code",
   "execution_count": 35,
   "id": "d344bfb5",
   "metadata": {},
   "outputs": [
    {
     "name": "stdout",
     "output_type": "stream",
     "text": [
      "Requirement already satisfied: XlsxWriter in c:\\users\\timmo\\anaconda3\\lib\\site-packages (1.3.8)\n"
     ]
    }
   ],
   "source": [
    "import pandas as pd\n",
    "import numpy as np\n",
    "import glob\n",
    "import matplotlib as mpl\n",
    "import matplotlib.pyplot as plt \n",
    "import os\n",
    "! pip install --user XlsxWriter\n",
    "import xlsxwriter\n",
    "#import more_itertools as mit"
   ]
  },
  {
   "cell_type": "code",
   "execution_count": 36,
   "id": "0d0176df",
   "metadata": {},
   "outputs": [
    {
     "name": "stdout",
     "output_type": "stream",
     "text": [
      "31\n",
      "31\n"
     ]
    }
   ],
   "source": [
    "\n",
    "FilePathList = \"/Users/timmo/Documents/RapfLab/code/blanktest\" #sets filepath for initial file/mass list. May not be necessary to keep this way\n",
    "                                                            #but sets path for list \n",
    "FileType=\"csv\" #sets filetype\n",
    "MassNumbersList=[] #creates an empty list which will be filled by the numbers in the mass list file\n",
    "os. chdir(FilePathList) #sets working directory to FilePathList\n",
    "CurrFile = pd.read_csv(\"IncompCombinedmasslist.csv\") #reads the file masslist.csv from the filepath --> since we only want to read one file was easier to just specify file\n",
    "#print(CurrFile)\n",
    "MassNumberNames=[]\n",
    "#######################################\n",
    "\n",
    "\n",
    "for i in (range(len(CurrFile))):\n",
    "    MassNumbersList.append(CurrFile['mz_list'][i]) #appends value number i from masslist.csv in the colum mz_list\n",
    "    MassNumberNames.append(CurrFile['Species'][i])\n",
    "print(len(MassNumberNames))\n",
    "print(len(MassNumbersList))"
   ]
  },
  {
   "cell_type": "code",
   "execution_count": 37,
   "id": "d7a0f05c",
   "metadata": {},
   "outputs": [
    {
     "name": "stdout",
     "output_type": "stream",
     "text": [
      "31\n"
     ]
    }
   ],
   "source": [
    "FilePathList = \"/Users/timmo/Documents/RapfLab/code/blanktest/Processed\"\n",
    "FileType=\"csv\" #sets filetype\n",
    "os. chdir(FilePathList)\n",
    "Blanks=[]\n",
    "CurrFile = pd.read_csv(\"stdev_blank.csv\")\n",
    "for i in (range(len(CurrFile))):\n",
    "    Blanks.append(CurrFile['standard deviation'][i])\n",
    "\n",
    "# print(Blanks)\n",
    "print(len(Blanks))"
   ]
  },
  {
   "cell_type": "code",
   "execution_count": 41,
   "id": "9fcf5ae3",
   "metadata": {
    "scrolled": true
   },
   "outputs": [
    {
     "name": "stdout",
     "output_type": "stream",
     "text": [
      "H32\n",
      "H35\n",
      "H33\n"
     ]
    }
   ],
   "source": [
    "\n",
    "FilePath = \"/Users/timmo/Documents/RapfLab/code/blanktest/files\" #Second file path for where the actual files are located\n",
    "os. chdir(FilePath) #updates file path to the folder with actual files for processing\n",
    "AllFiles=pd.DataFrame()\n",
    "FileType=\"csv\" #what filetype are the files. Will probably be csv\n",
    "files = sorted(glob.glob(\"*\"+FileType)) #gets all files of chosen filetype\n",
    "num_files = len(files) #how many files are you reading in\n",
    "OutFolder = \"Processed\" #folder where processed files will be saved\n",
    "outname = \"\" #part of file name. Will be used later\n",
    "##############################\n",
    "\n",
    "ErrorRange = 0.00005 #error range. Will be +- to get range and see if values fit in range. 25 ppm error range     \n",
    "mzlistRep=[]\n",
    "\n",
    "\n",
    "\n",
    "for entry in range(num_files): #goes through all files\n",
    "    name = files[entry] \n",
    "    CurrFile = pd.read_csv(files[entry],skiprows=1) #reads files\n",
    "    FullSplit = name.split(\".\") #gets all parts of the file name\n",
    "    NameList=(str(FullSplit[0]))\n",
    "    mzlistRep=[]\n",
    "    ProcessedX=[] #values for X(Thompsons) will be saved here\n",
    "    ProcessedY=[] #values for Y(Counts) will be saved here\n",
    "    PPM=[] #PPM values will be saved here\n",
    "    names=[]\n",
    "    BlankRep=[]\n",
    "    Detected=[]\n",
    "    #gets the third part of the name (0,1,[2]). Adds it to the name list\n",
    "    for mass in range(len(MassNumbersList)): #goes through each mast in the MassesList\n",
    "        MassHigh=((MassNumbersList[mass])+(MassNumbersList[mass]*ErrorRange)) #upper range of Mass\n",
    "        MassLow=((MassNumbersList[mass])-(MassNumbersList[mass]*ErrorRange)) #lower range of Mass\n",
    "        fixed=CurrFile.drop(columns=\"#Point\") #drops point column\n",
    "        fit=fixed[\"X(Thompsons)\"].between(MassLow, MassHigh, inclusive = True) #checks if value for X(Thompson) fits between mass low and mass high\n",
    "        ####Part two of function\n",
    "        for i in range(len(fit)): #checks if values in fit are true or false\n",
    "             if fit[i]== True: #if True then appends values\n",
    "                    ProcessedX.append(fixed[\"X(Thompsons)\"][i])\n",
    "                    ProcessedY.append(fixed[\"Y(Counts)\"][i])\n",
    "                    PPM.append(((abs((fixed[\"X(Thompsons)\"][i])-MassNumbersList[mass]))/MassNumbersList[mass])*1000000)\n",
    "                    mzlistRep.append(MassNumbersList[mass])\n",
    "                    names.append(MassNumberNames[mass])\n",
    "                    BlankRep.append(Blanks[mass])\n",
    "#                     if fixed([\"Y(Counts)\"][i])>=(3*Blanks[mass]):\n",
    "#                     if (fixed[\"Y(Counts)\"][i])>=(3*Blanks[i]):\n",
    "#                         Detected.append(\"Not Detected\")\n",
    "#                     else:\n",
    "#                         Detected.append(\"Detected\")\n",
    "#                     if ProcessedY[i]>=BlankRep[i]:\n",
    "#                         print(\"hi\")\n",
    "                  \n",
    "            \n",
    "        if sum(fit) == False: #if all values are false and nothing fits then will append a 0. This makes sure you get the correct\n",
    "                                  # number of values no matter what\n",
    "                ProcessedX.append(0)  \n",
    "                ProcessedY.append(0) #appends 0 for both \n",
    "                PPM.append(0)\n",
    "                mzlistRep.append(MassNumbersList[mass])\n",
    "                names.append(MassNumberNames[mass])  \n",
    "                BlankRep.append(Blanks[mass])\n",
    "#         for i in range(len(ProcessedY)):\n",
    "#             if ProcessedY[i]>=BlankRep[i]:\n",
    "#                          print(\"hi\")\n",
    "#         print(len(ProcessedY))\n",
    "    for i in range(len(ProcessedY)):\n",
    "        if ProcessedY[i]>=(3*(BlankRep[i])):\n",
    "              Detected.append(\"Detected\")\n",
    "        elif ProcessedY[i]<(3*(BlankRep[i])):\n",
    "               Detected.append(\"Not Detected\")\n",
    "        else:\n",
    "            continue\n",
    "\n",
    " \n",
    "    IndFile = pd.DataFrame(columns = [\"Compound Names\",\"mz_list\",NameList+\"_mass\",NameList+\"_count\",NameList+\"_PPM\", \"Not Detected\"]) #columns mz_list, mass, and count +NameList[i]\n",
    "    IndFile[\"Compound Names\"]=names\n",
    "    IndFile[\"mz_list\"]=mzlistRep\n",
    "    IndFile[NameList+\"_mass\"]=ProcessedX\n",
    "    IndFile[NameList+\"_count\"]=ProcessedY #for this and the line before, it reads the values of processed from i*length\n",
    "    IndFile[NameList+\"_PPM\"]=PPM\n",
    "    IndFile[\"Blank STDev\"]=BlankRep\n",
    "    IndFile[\"Not Detected\"]=Detected\n",
    "    IndFile.to_csv(\"/Users/timmo/Documents/RAPFLAB/code/Processed/\"+NameList+\"_Processed.csv\")          #chooses folder\n",
    "        ####################\n",
    "\n",
    "    RowNum=(\"H\"+str(len(ProcessedY)+1)) \n",
    "    print(RowNum)   \n",
    "    filename=NameList+\"_Processed.csv\"\n",
    "    workbook  = xlsxwriter.Workbook(filename)\n",
    "    worksheet1 = workbook.add_worksheet()\n",
    "    format1 = workbook.add_format({'bg_color':   '#FFC7CE',\n",
    "                               'font_color': '#9C0006'})\n",
    "    worksheet1.conditional_format('A2:'+RowNum, {'type':     'text',\n",
    "                                        'criteria': 'begins with',\n",
    "                                        'value':    \"Detected\",\n",
    "                                        'format':   format1})\n",
    "    workbook.close()\n",
    "\n",
    "    "
   ]
  },
  {
   "cell_type": "code",
   "execution_count": null,
   "id": "6b88719d",
   "metadata": {},
   "outputs": [],
   "source": []
  }
 ],
 "metadata": {
  "kernelspec": {
   "display_name": "Python 3",
   "language": "python",
   "name": "python3"
  },
  "language_info": {
   "codemirror_mode": {
    "name": "ipython",
    "version": 3
   },
   "file_extension": ".py",
   "mimetype": "text/x-python",
   "name": "python",
   "nbconvert_exporter": "python",
   "pygments_lexer": "ipython3",
   "version": "3.8.8"
  }
 },
 "nbformat": 4,
 "nbformat_minor": 5
}
