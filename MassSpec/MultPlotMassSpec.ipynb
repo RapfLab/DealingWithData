{
 "cells": [
  {
   "cell_type": "code",
   "execution_count": 34,
   "id": "dfdaff67",
   "metadata": {},
   "outputs": [
    {
     "name": "stdout",
     "output_type": "stream",
     "text": [
      "C:\\Users\\timmo\\Documents\\RAPFLAB\\code\\MS\n"
     ]
    }
   ],
   "source": [
    "##ScrapeMSData\n",
    "##Written by Rebecca Rapf\n",
    "##June 15, 2021\n",
    "\n",
    "###Read in csv's of MS files and export the useful bits for loading into Igor\n",
    "\n",
    "##import relevant libraries\n",
    "import pandas as pd\n",
    "import numpy as np\n",
    "import glob\n",
    "\n",
    "import matplotlib as mpl\n",
    "import matplotlib.pyplot as plt \n",
    "import os\n",
    "#import csv\n",
    "\n",
    "\n",
    "##Parameters to be changed for each analysis##\n",
    "FilePath = \"/Users/timmo/Documents/RAPFLAB/code/MS\" ##currently local only, will change to read from google drive\n",
    "OutFolder = \"Processed\"\n",
    "FileType = \"csv\" #pick from \"xlsx\" or \"csv\"\n",
    "XLabel=\"x\"\n",
    "YLabel=\"y\"\n",
    "#Surfactant = \"myristic_300mMKCl\" #name of surfactant and/or conditions\n",
    "#StockConcSame = \"yes\" #\"yes\" or \"no\" if same concentration was used for each run\n",
    "\n",
    "\n",
    "##Set file path to where data is being held locally\n",
    "os.chdir(FilePath)\n",
    "print(os.getcwd())\n"
   ]
  },
  {
   "cell_type": "code",
   "execution_count": 39,
   "id": "240ead4a",
   "metadata": {},
   "outputs": [
    {
     "name": "stdout",
     "output_type": "stream",
     "text": [
      "['210525OO200uMag_50_spectra.csv', '210525OOA200uMagain_spectra.csv', '210525OO75uMag_50_spectra.csv', '210525OOA75uMagain_spectra.csv', 'blank3_50_spectra.csv', '210525OOApre_50uMagain_spectra.csv', '210525OO54uMag_50_spectra_empty.csv', '210525OO25uMag_50_spectra.csv', '210525OOApost_50uM_50_10uL_spectra.csv', '210525OOApost_50uM_50_50uL_spectra.csv', 'blank2_50_spec.csv', '210525OOA25uMagain_spectra.csv', '210525OOApost_50uM_50_5uL_spectra.csv', '210525OOApost_50uMnew_50_spectra.csv', '210525OOApost_50uM_50_30uL_spectra.csv', 'blank1_25_spectra.csv', '210525OO3uMag_50_spectra.csv', '210525OOApost_50uM_50_20uL_spectra.csv', '210525OOApost_50uMagain_spectra.csv', '210525OO10uMag_50_spectra.csv', '210525OOA10uMagain_spectra.csv', '210525OOA3uMagain_spectra.csv']\n",
      "skipping 210525OOApost_50uM_50_10uL_spec\n",
      "skipping 210525OOApost_50uM_50_50uL_spec\n",
      "skipping 210525OOApost_50uM_50_5uL_spec\n",
      "skipping 210525OOApost_50uMnew_50_spec\n",
      "skipping 210525OOApost_50uM_50_30uL_spec\n",
      "skipping 210525OOApost_50uM_50_20uL_spec\n"
     ]
    }
   ],
   "source": [
    "files = sorted(glob.glob(\"*\"+FileType))\n",
    "files.sort(key=os.path.getmtime)\n",
    "print(files)\n",
    "\n",
    "num_files = len(files)\n",
    "\n",
    "#AllFiles = pd.DataFrame()\n",
    "\n",
    "YAxis=[] #empty list containing all values of the Y-Axis for each file read\n",
    "XAxis=[] #empty list containing all values of the X-Axis for each file read\n",
    "LegendNames=[]\n",
    "OutputName= \"Mass Spec Graph\"\n",
    "\n",
    "for entry in range(len(files)):\n",
    "    name = files[entry]\n",
    "    outname = name[:-(len(FileType)+4)]\n",
    "    if len(outname)>28:\n",
    "        print(\"skipping \"+outname)\n",
    "        entry+=1\n",
    "    #print(len(outname))\n",
    "    #print(outname)\n",
    "    if FileType == \"csv\":\n",
    "        CurrFile = pd.read_csv(files[entry],skiprows=1)\n",
    "        \n",
    "        #########################\n",
    "        #print(CurrFile.columns)\n",
    "        import re\n",
    "        FullSplit = re.split(\"[_|.]\", name)\n",
    "        LegendNames.append((FullSplit[1]))\n",
    "        IndFile = pd.DataFrame(columns = [\"mz_\"+outname,\"c_\"+outname])\n",
    "        IndFile[\"mz_\"+outname] = CurrFile['X(Thompsons)']\n",
    "        IndFile[\"c_\"+outname] = CurrFile['Y(Counts)']\n",
    "        XAxis.append(CurrFile[\"X(Thompsons)\"]) #appends the \"A_cm2\" column to the XAxis dataframe\n",
    "        YAxis.append(CurrFile[\"Y(Counts)\"]) #appends the \"P1[mN/m]\" column to the YAxis dataframe. Will be plotted later\n",
    "        IndFile.to_csv(OutFolder+\"/\"+outname+\"_Processed.csv\")\n",
    "        #CurrFile = CurrFile.rename(columns={CurrFile.columns[3]: \"A_cm2\"})\n",
    "        #print(CurrFile.columns)\n",
    "\n",
    "    elif FileType == \"xlsx\":\n",
    "        print(\"change to csv\")\n"
   ]
  },
  {
   "cell_type": "code",
   "execution_count": 40,
   "id": "32bce1e8",
   "metadata": {},
   "outputs": [],
   "source": [
    "####################Figure style --> will be used for plotting\n",
    "def FigStyle(): #axis will be shared\n",
    "    mpl.rcParams['font.family'] = 'Arial'\n",
    "    plt.rcParams['font.size'] = 12\n",
    "    \n",
    "    plt.rcParams['axes.linewidth'] = 1\n",
    "    mpl.rcParams['axes.spines.right'] = True\n",
    "    mpl.rcParams['axes.spines.top'] = True\n",
    "    #plt.axis(xmin=25,xmax=250)\n",
    "    \n",
    "    mpl.rcParams['xtick.top']=False\n",
    "    mpl.rcParams['ytick.right']=False\n",
    "    ax.tick_params(direction='inout')\n",
    "    ax.tick_params('both', length=6, width=2, which='major')\n",
    "    ax.legend(LegendNames, framealpha=1, frameon=False, bbox_to_anchor=(1.01, 1)) #creates legend and specifies location + formatting\n",
    "   \n",
    "    plt.xlabel(XLabel, size=15) #x axis label\n",
    "    plt.ylabel(YLabel, size=17) #y axis label\n",
    "    \n",
    "    #ax.legend(legendNames, framealpha=1, frameon=False, bbox_to_anchor=(1.02, 1)) #creates legend and specifies location + formatting\n",
    "    \n",
    "    \n",
    "    plt.savefig(OutFolder+\"/\"+OutputName+\".png\", dpi=300, transparent=False)\n",
    "    plt.show() #shows the final plot\n",
    "    \n",
    "\n",
    "    #sets basic formatting for our plot\n"
   ]
  },
  {
   "cell_type": "code",
   "execution_count": 41,
   "id": "f03a490a",
   "metadata": {},
   "outputs": [
    {
     "data": {
      "image/png": "[encoded data removed]",
      "text/plain": [
       "<Figure size 432x288 with 1 Axes>"
      ]
     },
     "metadata": {
      "needs_background": "light"
     },
     "output_type": "display_data"
    }
   ],
   "source": [
    "\n",
    "fig, ax = plt.subplots(sharex =True , sharey= True, figsize=(6,4))\n",
    "for i in range(len(XAxis)):\n",
    "    x= XAxis[i]\n",
    "    y= YAxis[i] #plots the x and y values of each dataframe individually on a shared axis\n",
    "    plt.plot(x, y) #actually plots our graph\n",
    "    \n",
    "\n",
    "FigStyle();  \n",
    "plt.show() #shows the final plot\n",
    "\n"
   ]
  },
  {
   "cell_type": "code",
   "execution_count": null,
   "id": "022aad7f",
   "metadata": {},
   "outputs": [],
   "source": []
  }
 ],
 "metadata": {
  "kernelspec": {
   "display_name": "Python 3",
   "language": "python",
   "name": "python3"
  },
  "language_info": {
   "codemirror_mode": {
    "name": "ipython",
    "version": 3
   },
   "file_extension": ".py",
   "mimetype": "text/x-python",
   "name": "python",
   "nbconvert_exporter": "python",
   "pygments_lexer": "ipython3",
   "version": "3.8.8"
  }
 },
 "nbformat": 4,
 "nbformat_minor": 5
}
