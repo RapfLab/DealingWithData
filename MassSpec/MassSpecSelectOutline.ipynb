{
 "cells": [
  {
   "cell_type": "code",
   "execution_count": 11,
   "id": "ff7761cb",
   "metadata": {},
   "outputs": [],
   "source": [
    "import pandas as pd\n",
    "import numpy as np\n",
    "import glob\n",
    "import matplotlib as mpl\n",
    "import matplotlib.pyplot as plt \n",
    "import os"
   ]
  },
  {
   "cell_type": "code",
   "execution_count": 28,
   "id": "81c7b9ee",
   "metadata": {},
   "outputs": [
    {
     "name": "stdout",
     "output_type": "stream",
     "text": [
      "[]\n"
     ]
    }
   ],
   "source": [
    "FilePath = \"/Users/timmo/Documents/RAPFLAB/code/MStest\" ##currently local only, will change to read from google drive\n",
    "OutFolder = \"Processed\"\n",
    "FileType1 = \"xlsx\" #pick from \"xlsx\" or \"csv\"\n",
    "FileType=\"csv\"\n",
    "files1 = sorted(glob.glob(\"*\"+FileType1))\n",
    "files = sorted(glob.glob(\"*\"+FileType))\n",
    "files.sort(key=os.path.getmtime)\n",
    "num_files = len(files)\n",
    "MassList=[]\n",
    "Selected=[]\n",
    "ErrorRange = \"X\"\n",
    "import more_itertools as mit\n",
    "\n",
    "for entry in range(num_files):\n",
    "    name = files[entry]\n",
    "#     if FileType == \"csv\":\n",
    "    CurrFile = pd.read_csv(files[entry])\n",
    "    print(CurrFile)\n",
    "    MassList.append(CurrFile[\"mz_list\"])\n",
    "print(MassList)\n",
    "    #else:\n",
    "       # print(\"Change to csv format\")\n",
    "        \n",
    "\n",
    "for entry in range(num_files) #file x:\n",
    "    CurrFile = pd.read_csv(files[entry])\n",
    "    for i in range(len(MassList)): \n",
    "        get value for line i in range[1-end of document]\n",
    "        if (MassList[i]- ErrorRange)<= CurrFile[\"X(Thompsons)\" == i] <= (MassList[i]+ErrorRange):\n",
    "            Selected.append(CurrFile[\"X(Thompsons)\"] == i) \n",
    "            Selected.append(CurrFile[\"Y(Counts)\"] == i)\n",
    "# CurrFile = pd.read_csv(files[entry],skiprows=1)\n",
    "#     for x in range(len(MassList)):\n",
    "#         for x in range()\n",
    "\n",
    "\n",
    "\n",
    "# for entry in range(len(files)):\n",
    "#     name = files[entry]\n",
    "#     outname = name[:-(len(FileType)+4)]\n",
    "#     if len(outname)>28:\n",
    "#         print(\"skipping \"+outname)\n",
    "#         entry+=1\n",
    "#     #print(len(outname))\n",
    "#     #print(outname)\n",
    "#     if FileType == \"csv\":\n",
    "#         CurrFile = pd.read_csv(files[entry],skiprows=1)\n",
    "        "
   ]
  },
  {
   "cell_type": "code",
   "execution_count": null,
   "id": "06e31848",
   "metadata": {},
   "outputs": [],
   "source": []
  },
  {
   "cell_type": "code",
   "execution_count": null,
   "id": "c96f9796",
   "metadata": {},
   "outputs": [],
   "source": []
  }
 ],
 "metadata": {
  "kernelspec": {
   "display_name": "Python 3",
   "language": "python",
   "name": "python3"
  },
  "language_info": {
   "codemirror_mode": {
    "name": "ipython",
    "version": 3
   },
   "file_extension": ".py",
   "mimetype": "text/x-python",
   "name": "python",
   "nbconvert_exporter": "python",
   "pygments_lexer": "ipython3",
   "version": "3.8.8"
  }
 },
 "nbformat": 4,
 "nbformat_minor": 5
}
