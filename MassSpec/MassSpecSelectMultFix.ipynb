{
 "cells": [
  {
   "cell_type": "code",
   "execution_count": 6,
   "id": "d344bfb5",
   "metadata": {},
   "outputs": [],
   "source": [
    "import pandas as pd\n",
    "import numpy as np\n",
    "import glob\n",
    "import matplotlib as mpl\n",
    "import matplotlib.pyplot as plt \n",
    "import os\n",
    "#import more_itertools as mit"
   ]
  },
  {
   "cell_type": "code",
   "execution_count": 7,
   "id": "0d0176df",
   "metadata": {},
   "outputs": [
    {
     "name": "stdout",
     "output_type": "stream",
     "text": [
      "31\n",
      "31\n"
     ]
    }
   ],
   "source": [
    "\n",
    "FilePathList = \"/Users/timmo/Documents/RapfLab/code/MStest\" #sets filepath for initial file/mass list. May not be necessary to keep this way\n",
    "                                                            #but sets path for list \n",
    "FileType=\"csv\" #sets filetype\n",
    "MassNumbersList=[] #creates an empty list which will be filled by the numbers in the mass list file\n",
    "os. chdir(FilePathList) #sets working directory to FilePathList\n",
    "CurrFile = pd.read_csv(\"IncompCombinedmasslist.csv\") #reads the file masslist.csv from the filepath --> since we only want to read one file was easier to just specify file\n",
    "#print(CurrFile)\n",
    "MassNumberNames=[]\n",
    "#######################################\n",
    "\n",
    "\n",
    "for i in (range(len(CurrFile))):\n",
    "    MassNumbersList.append(CurrFile['mz_list'][i]) #appends value number i from masslist.csv in the colum mz_list\n",
    "    MassNumberNames.append(CurrFile['Species'][i])\n",
    "print(len(MassNumberNames))\n",
    "print(len(MassNumbersList))"
   ]
  },
  {
   "cell_type": "code",
   "execution_count": 10,
   "id": "9fcf5ae3",
   "metadata": {
    "scrolled": false
   },
   "outputs": [
    {
     "name": "stdout",
     "output_type": "stream",
     "text": [
      "['OOApre_50C_50uM_s2_MS.csv', 'OOApst_50C_15uL_MS.csv']\n",
      "[87.0446, 87.00875353, 89.0239, 101.0244035, 105.0188, 115.0400535, 129.0557035, 131.0345, 157.0870035, 159.0299]\n",
      "[87.0446, 87.00875353, 89.0239, 101.0244035, 105.0188, 115.0400535, 129.0557035, 131.0345, 157.0870035, 159.0299, 175.0243]\n",
      "[87.0446, 87.00875353, 89.0239, 101.0244035, 105.0188, 115.0400535, 129.0557035, 131.0345, 157.0870035, 159.0299, 175.0243, 175.0607]\n",
      "[87.0446, 87.00875353, 89.0239, 101.0244035, 105.0188, 115.0400535, 129.0557035, 131.0345, 157.0870035, 159.0299, 175.0243, 175.0607, 175.0611735]\n",
      "[87.0446, 87.00875353, 89.0239, 101.0244035, 105.0188, 115.0400535, 129.0557035, 131.0345, 157.0870035, 159.0299, 175.0243, 175.0607, 175.0611735, 177.0404335, 189.0768235, 191.0560835]\n",
      "[87.0446, 87.00875353, 89.0239, 101.0244035, 105.0188, 115.0400535, 129.0557035, 131.0345, 157.0870035, 159.0299, 175.0243, 175.0607, 175.0611735, 177.0404335, 189.0768235, 191.0560835, 203.0924735, 205.0717335]\n",
      "[87.0446, 87.00875353, 89.0239, 101.0244035, 105.0188, 115.0400535, 129.0557035, 131.0345, 157.0870035, 159.0299, 175.0243, 175.0607, 175.0611735, 177.0404335, 189.0768235, 191.0560835, 203.0924735, 205.0717335, 217.1081235, 219.0505, 219.0873835, 231.1237735, 233.1030335]\n",
      "[87.0446, 87.00875353, 89.0239, 101.0244035, 105.0188, 115.0400535, 129.0557035, 131.0345, 157.0870035, 159.0299, 175.0243, 175.0607, 175.0611735, 177.0404335, 189.0768235, 191.0560835, 203.0924735, 205.0717335, 217.1081235, 219.0505, 219.0873835, 231.1237735, 233.1030335, 245.1394235]\n",
      "[87.0446, 87.00875353, 89.0239, 101.0244035, 105.0188, 115.0400535, 129.0557035, 131.0345, 157.0870035, 159.0299, 175.0243, 175.0607, 175.0611735, 177.0404335, 189.0768235, 191.0560835, 203.0924735, 205.0717335, 217.1081235, 219.0505, 219.0873835, 231.1237735, 233.1030335, 245.1394235, 247.1186835, 259.1550735]\n",
      "[87.0446, 87.00875353, 89.0239, 101.0244035, 105.0188, 115.0400535, 129.0557035, 131.0345, 157.0870035, 159.0299, 175.0243, 175.0607, 175.0611735, 177.0404335, 189.0768235, 191.0560835, 203.0924735, 205.0717335, 217.1081235, 219.0505, 219.0873835, 231.1237735, 233.1030335, 245.1394235, 247.1186835, 259.1550735, 261.1343335, 301.2020235, 315.2176735]\n"
     ]
    }
   ],
   "source": [
    "\n",
    "FilePath = \"/Users/timmo/Documents/RapfLab/code/MStest/List\" #Second file path for where the actual files are located\n",
    "os. chdir(FilePath) #updates file path to the folder with actual files for processing\n",
    "AllFiles=pd.DataFrame()\n",
    "FileType=\"csv\" #what filetype are the files. Will probably be csv\n",
    "files = sorted(glob.glob(\"*\"+FileType)) #gets all files of chosen filetype\n",
    "num_files = len(files) #how many files are you reading in\n",
    "OutFolder = \"Processed\" #folder where processed files will be saved\n",
    "outname = \"\" #part of file name. Will be used later\n",
    "##############################\n",
    "print(files)\n",
    "ErrorRange = 0.00005 #error range. Will be +- to get range and see if values fit in range. 25 ppm error range     \n",
    "mzlistRep=[]\n",
    "\n",
    "\n",
    "\n",
    "for entry in range(num_files): #goes through all files\n",
    "    name = files[entry] \n",
    "    CurrFile = pd.read_csv(files[entry],skiprows=1) #reads files\n",
    "    FullSplit = name.split(\".\") #gets all parts of the file name\n",
    "    NameList=(str(FullSplit[0]))\n",
    "    mzlistRep=[]\n",
    "    ProcessedX=[] #values for X(Thompsons) will be saved here\n",
    "    ProcessedY=[] #values for Y(Counts) will be saved here\n",
    "    PPM=[] #PPM values will be saved here\n",
    "    names=[]\n",
    "    #gets the third part of the name (0,1,[2]). Adds it to the name list\n",
    "    for mass in range(len(MassNumbersList)): #goes through each mast in the MassesList\n",
    "        MassHigh=((MassNumbersList[mass])+(MassNumbersList[mass]*ErrorRange)) #upper range of Mass\n",
    "        MassLow=((MassNumbersList[mass])-(MassNumbersList[mass]*ErrorRange)) #lower range of Mass\n",
    "        fixed=CurrFile.drop(columns=\"#Point\") #drops point column\n",
    "        fit=fixed[\"X(Thompsons)\"].between(MassLow, MassHigh, inclusive = True) #checks if value for X(Thompson) fits between mass low and mass high\n",
    "        ####Part two of function\n",
    "        for i in range(len(fit)): #checks if values in fit are true or false\n",
    "             if fit[i]== True: #if True then appends values\n",
    "                    ProcessedX.append(fixed[\"X(Thompsons)\"][i])\n",
    "                    ProcessedY.append(fixed[\"Y(Counts)\"][i])\n",
    "                    PPM.append(((abs((fixed[\"X(Thompsons)\"][i])-MassNumbersList[mass]))/MassNumbersList[mass])*1000000)\n",
    "                    mzlistRep.append(MassNumbersList[mass])\n",
    "                    names.append(MassNumberNames[mass])\n",
    "             \n",
    "        if sum(fit) == False: #if all values are false and nothing fits then will append a 0. This makes sure you get the correct\n",
    "                                  # number of values no matter what\n",
    "                ProcessedX.append(0)  \n",
    "                ProcessedY.append(0) #appends 0 for both \n",
    "                PPM.append(0)\n",
    "                mzlistRep.append(MassNumbersList[mass])\n",
    "                names.append(MassNumberNames[mass])      \n",
    "                print(mzlistRep)\n",
    " \n",
    "#         IndFile = pd.DataFrame(columns = [\"Compound Names\",\"mz_list\",NameList+\"_mass\",NameList+\"_count\",NameList+\"_PPM\"]) #columns mz_list, mass, and count +NameList[i]\n",
    "#         IndFile[\"Compound Names\"]=names\n",
    "#         IndFile[\"mz_list\"]=mzlistRep\n",
    "#         IndFile[NameList+\"_mass\"]=ProcessedX\n",
    "#         IndFile[NameList+\"_count\"]=ProcessedY #for this and the line before, it reads the values of processed from i*length\n",
    "#         IndFile[NameList+\"_PPM\"]=PPM\n",
    "#         IndFile.to_csv(\"/Users/homefolder/Documents/RapfLab/code/MStest/Processed\"+\"/\"+NameList+\"_Processed.csv\")          #chooses folder\n",
    "#     ####################\n",
    "\n",
    "\n",
    "# AllFiles[outname+\"mz_list\"]=MassNumbersList   #Does same as for IndFile but for an All file with all values. Whole function works in similar way\n",
    "# AllFiles[outname+\"Compound Names\"]=MassNumberNames\n",
    "# for i in range(num_files):\n",
    "#     AllFiles[outname+\"_mass\"+NameList[i]]=ProcessedX[(i*length):((i+1)*length)]\n",
    "#     AllFiles[outname+\"_count\"+NameList[i]]=ProcessedY[(i*length):((i+1)*length)]\n",
    "#     AllFiles[outname+\"_PPM\"+NameList[i]]=PPM[(i*length):((i+1)*length)]\n",
    "        \n",
    "# AllFiles.to_csv(\"/Users/timmo/Documents/RapfLab/code/MStest/List/Processed\"+\"/\"+outname+\"_AllProcessed.csv\")\n",
    "\n",
    "    "
   ]
  },
  {
   "cell_type": "code",
   "execution_count": null,
   "id": "146290ce",
   "metadata": {},
   "outputs": [],
   "source": []
  },
  {
   "cell_type": "code",
   "execution_count": null,
   "id": "8d65146a",
   "metadata": {},
   "outputs": [],
   "source": []
  }
 ],
 "metadata": {
  "kernelspec": {
   "display_name": "Python 3",
   "language": "python",
   "name": "python3"
  },
  "language_info": {
   "codemirror_mode": {
    "name": "ipython",
    "version": 3
   },
   "file_extension": ".py",
   "mimetype": "text/x-python",
   "name": "python",
   "nbconvert_exporter": "python",
   "pygments_lexer": "ipython3",
   "version": "3.8.8"
  }
 },
 "nbformat": 4,
 "nbformat_minor": 5
}
