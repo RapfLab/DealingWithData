{
 "cells": [
  {
   "cell_type": "code",
<<<<<<< HEAD
   "execution_count": 52,
=======
<<<<<<< HEAD
   "execution_count": 1,
=======
   "execution_count": 47,
>>>>>>> 268d5bf327f38bc81be0d9c9c3d238777ca33c06
>>>>>>> 0d1a4b29cce33403cf63acc458d60e81ed24199f
   "id": "a0081440",
   "metadata": {},
   "outputs": [
    {
<<<<<<< HEAD
     "ename": "FileNotFoundError",
     "evalue": "[WinError 3] The system cannot find the path specified: '/Users/homefolder/Documents/RapfLab/code/MassSpecData/210607MSCHR'",
     "output_type": "error",
     "traceback": [
      "\u001b[1;31m---------------------------------------------------------------------------\u001b[0m",
      "\u001b[1;31mFileNotFoundError\u001b[0m                         Traceback (most recent call last)",
      "\u001b[1;32m<ipython-input-1-edcef4f5f0c2>\u001b[0m in \u001b[0;36m<module>\u001b[1;34m\u001b[0m\n\u001b[0;32m     27\u001b[0m \u001b[1;33m\u001b[0m\u001b[0m\n\u001b[0;32m     28\u001b[0m \u001b[1;31m##Set file path to where data is being held locally\u001b[0m\u001b[1;33m\u001b[0m\u001b[1;33m\u001b[0m\u001b[1;33m\u001b[0m\u001b[0m\n\u001b[1;32m---> 29\u001b[1;33m \u001b[0mos\u001b[0m\u001b[1;33m.\u001b[0m\u001b[0mchdir\u001b[0m\u001b[1;33m(\u001b[0m\u001b[0mFilePath\u001b[0m\u001b[1;33m)\u001b[0m\u001b[1;33m\u001b[0m\u001b[1;33m\u001b[0m\u001b[0m\n\u001b[0m\u001b[0;32m     30\u001b[0m \u001b[0mprint\u001b[0m\u001b[1;33m(\u001b[0m\u001b[0mos\u001b[0m\u001b[1;33m.\u001b[0m\u001b[0mgetcwd\u001b[0m\u001b[1;33m(\u001b[0m\u001b[1;33m)\u001b[0m\u001b[1;33m)\u001b[0m\u001b[1;33m\u001b[0m\u001b[1;33m\u001b[0m\u001b[0m\n",
      "\u001b[1;31mFileNotFoundError\u001b[0m: [WinError 3] The system cannot find the path specified: '/Users/homefolder/Documents/RapfLab/code/MassSpecData/210607MSCHR'"
=======
     "name": "stdout",
     "output_type": "stream",
     "text": [
<<<<<<< HEAD
      "/Users/homefolder/Documents/RapfLab/code/MassSpecData/210623MSCHR\n"
=======
      "/Users/homefolder/Documents/RapfLab/code/MassSpecData/210612MSCHR\n"
>>>>>>> 268d5bf327f38bc81be0d9c9c3d238777ca33c06
>>>>>>> 0d1a4b29cce33403cf63acc458d60e81ed24199f
     ]
    }
   ],
   "source": [
    "##ScrapeMSData\n",
    "##Written by Rebecca Rapf\n",
    "##June 15, 2021\n",
    "\n",
    "###Read in csv's of MS files and export the useful bits for loading into Igor\n",
    "\n",
    "##import relevant libraries\n",
    "import pandas as pd\n",
    "import numpy as np\n",
    "import glob\n",
    "#import matplotlib as mpl\n",
    "#import matplotlib.pyplot as plt \n",
    "import os\n",
    "#import csv\n",
    "\n",
    "\n",
    "##Parameters to be changed for each analysis##\n",
    "FilePath = \"/Users/homefolder/Documents/RapfLab/code/MassSpecData/210623MSCHR\" ##currently local only, will change to read from google drive\n",
    "OutFolder = \"Processed\"\n",
    "FileType = \"csv\"\n",
    "MSEnding = \"MS.csv\"\n",
    "CHREnding = \"CHR.csv\"\n",
    "#pick from \"xlsx\" or \"csv\"\n",
    "#Surfactant = \"myristic_300mMKCl\" #name of surfactant and/or conditions\n",
    "#StockConcSame = \"yes\" #\"yes\" or \"no\" if same concentration was used for each run\n",
    "\n",
    "\n",
    "##Set file path to where data is being held locally\n",
    "os.chdir(FilePath)\n",
    "print(os.getcwd())\n"
   ]
  },
  {
   "cell_type": "code",
   "execution_count": 53,
   "id": "669cc1de",
   "metadata": {},
   "outputs": [
    {
     "name": "stdout",
     "output_type": "stream",
     "text": [
      "['210622_trPAPre_2_MS.csv', '210622_trPAPre_2_CHR.csv', '210622_trPASurPost_2_CHR.csv', '210622_trPASurPost_2_MS.csv', 'MeOHblank1_MS.csv', 'MeOHblank1_CHR.csv', 'MeOHblank2_CHR.csv', 'MeOHblank2_MS.csv', '210622_trPABlkrPost_2_CHR.csv', '210622_trPABlkrPost_2_MS.csv', '210622_trPAVacPost_2_MS.csv', '210622_trPAVacPost_2_CHR.csv', '210622_365_PAPost_2_CHR.csv', '210622_365_PAPost_2_MS.csv', 'MeOHblank3_CHR.csv', 'MeOHblank3_MS.csv', 'MeOHblank4_MS.csv', 'MeOHblank4_CHR.csv', 'MeOHblank5_CHR.csv', 'MeOHblank5_MS.csv', '210622_25C_365_OOAPost_CHR.csv', '210622_25C_365_OOAPost_MS.csv', '210622_25C_365_PAVacPost_CHR.csv', '210622_25C_365_PAVacPost_MS.csv', '210622_25C_trPABlkrPost_CHR.csv', '210622_25C_trPABlkrPost_MS.csv', '210622_25C_trPASurPost_CHR.csv', '210622_25C_trPASurPost_MS.csv', '210622_25C_trPApre_CHR.csv', '210622_25C_trPApre_MS.csv', '210622_25C_trPAVacrPost_CHR.csv', '210622_25C_trPAVacrPost_MS.csv', '210622_365_OOAPost_CHR.csv', '210622_365_OOAPost_MS.csv', '210622_365_PAPost_CHR.csv', '210622_365_PAPost_MS.csv', '210622_trPABlkPost_CHR.csv', '210622_trPABlkPost_MS.csv', '210622_trPASurPost_CHR.csv', '210622_trPASurPost_MS.csv', '210622_trPAVacPost_CHR.csv', '210622_trPAVacPost_MS.csv', '210622_trPApre_CHR.csv', '210622_trPApre_MS.csv']\n"
     ]
    }
   ],
   "source": [
    "files = sorted(glob.glob(\"*\"+FileType))\n",
    "files.sort(key=os.path.getmtime)\n",
    "print(files)\n",
    "\n",
    "num_files = len(files)\n",
    "\n",
    "#AllFiles = pd.DataFrame()\n",
    "\n",
    "\n",
    "\n",
    "for entry in range(len(files)):\n",
    "    name = files[entry]\n",
    "    \n",
    "    if name[-len(CHREnding):] == CHREnding:\n",
    "        outname = name[:-(len(FileType)+5)]\n",
    "        #print(\"this is a chr file\")\n",
    "        if len(outname)>27:\n",
    "            print(\"skipping \"+outname)\n",
    "            #entry+=1\n",
    "        else:\n",
    "        #if FileType == \"csv\":\n",
    "            CurrFile = pd.read_csv(files[entry],skiprows=1)\n",
    "        #print(CurrFile.columns)\n",
    "            IndFile = pd.DataFrame(columns = [\"rt_\"+outname,\"tic_\"+outname])\n",
    "            IndFile[\"rt_\"+outname] = CurrFile['X(Minutes)']\n",
    "            IndFile[\"tic_\"+outname] = CurrFile['Y(Counts)']\n",
    "        \n",
    "            IndFile.to_csv(\"../\"+OutFolder+\"/\"+outname+\"CHR_Processed.csv\")\n",
    "        #CurrFile = CurrFile.rename(columns={CurrFile.columns[3]: \"A_cm2\"})\n",
    "        #print(CurrFile.columns)\n",
    "        \n",
    "\n",
    "    elif name[-len(MSEnding):] == MSEnding:\n",
    "        #print(\"MS!\")\n",
    "        outname = name[:-(len(FileType)+4)]\n",
    "        if len(outname)>28:\n",
    "            print(\"skipping \"+outname)\n",
    "            #entry+=1\n",
    "        else:\n",
    "        #if FileType == \"csv\":\n",
    "            CurrFile = pd.read_csv(files[entry],skiprows=1)\n",
    "        #print(CurrFile.columns)\n",
    "            IndFile = pd.DataFrame(columns = [\"mz_\"+outname,\"c_\"+outname]) #for chromatographs RT and TIC\n",
    "            IndFile[\"mz_\"+outname] = CurrFile['X(Thompsons)']\n",
    "            IndFile[\"c_\"+outname] = CurrFile['Y(Counts)']\n",
    "\n",
    "            IndFile.to_csv(\"../\"+OutFolder+\"/\"+outname+\"MS_Processed.csv\")\n",
    "        #CurrFile = CurrFile.rename(columns={CurrFile.columns[3]: \"A_cm2\"})\n",
    "        #print(CurrFile.columns)\n",
    "        \n",
    "    else:\n",
    "        print(\"wrong file label, look at this\")\n",
    "        print(name[entry])\n",
    "    #print(len(outname))\n",
    "    #print(outname)\n",
    "        \n",
    "\n",
    "        \n",
    "#         #elif FileType == \"xlsx\":\n",
    "#             #print(\"change to csv\")\n",
    "# #         #CompFile = files[entry]\n",
    "# #         #print(CompFile)\n",
    "# #         CurrFile = pd.read_excel(files[entry],skiprows = header_length)\n",
    "# #         #print(CurrFile)\n",
    "# #         #print(\"excel\")\n",
    "# #         CurrFile = CurrFile.rename(columns={CurrFile.columns[3]: \"A_cm2\"})\n",
    "# #         CurrFile = CurrFile.rename(columns={CurrFile.columns[4]: \"MMA\"})\n",
    "# #         MMA = CurrFile[\"MMA\"]\n",
    "# #         #print(CurrFile)\n",
    "        \n",
    "# #         #MMACheck = CurrFile[\"MMA\"]\n",
    "# #         #print(CurrFile.iloc[0,4])\n",
    "# #         if np.isnan(CurrFile.iloc[0,4]) == True:\n",
    "# #             A_Ang2 = (CurrFile[\"A_cm2\"]*cm2_to_Ang2)\n",
    "# #             CurrFile.insert(4, \"A_Ang2\", A_Ang2)\n",
    "# #             MMA=CurrFile[\"A_Ang2\"]/NumMolecules\n",
    "# #             print(\"fixing\")\n",
    "        \n",
    "        \n",
    "# #         IndFile = pd.DataFrame(columns = [outname+\"_Acm2\",outname+\"_P\",outname+\"_MMA\"])\n",
    "# #         IndFile[outname+\"_Acm2\"]=CurrFile[\"A_cm2\"]\n",
    "# #         IndFile[outname+\"_P\"]=CurrFile[\"P1[mN/m]\"]\n",
    "# #         IndFile[outname+\"_MMA\"]=MMA\n",
    "        \n",
    "# #         AllFiles[outname+\"_Acm2\"]=CurrFile[\"A_cm2\"]\n",
    "# #         AllFiles[outname+\"_P\"]=CurrFile[\"P1[mN/m]\"]\n",
    "# #         AllFiles[outname+\"_MMA\"]=MMA\n",
    "        \n",
    "# #         IndFile.to_csv(\"../\"+OutFolder+\"/\"+outname+\"_Processed.csv\")\n",
    " \n",
    "# # AllFiles.to_csv(\"../\"+OutFolder+\"/\"+Surfactant+\"_AllProcessed.csv\")\n"
   ]
  }
 ],
 "metadata": {
  "kernelspec": {
   "display_name": "Python 3",
   "language": "python",
   "name": "python3"
  },
  "language_info": {
   "codemirror_mode": {
    "name": "ipython",
    "version": 3
   },
   "file_extension": ".py",
   "mimetype": "text/x-python",
   "name": "python",
   "nbconvert_exporter": "python",
   "pygments_lexer": "ipython3",
   "version": "3.8.8"
  }
 },
 "nbformat": 4,
 "nbformat_minor": 5
}
