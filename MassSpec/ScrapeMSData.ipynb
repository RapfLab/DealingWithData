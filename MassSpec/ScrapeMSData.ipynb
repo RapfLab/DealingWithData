{
 "cells": [
  {
   "cell_type": "code",
<<<<<<< HEAD
   "execution_count": 30,
   "id": "a0081440",
=======
   "execution_count": 24,
>>>>>>> ac61088c0ec8863b7dd703fbef761aae4beda788
   "metadata": {},
   "outputs": [
    {
     "name": "stdout",
     "output_type": "stream",
     "text": [
<<<<<<< HEAD
      "/Users/homefolder/Documents/RapfLab/code/MassSpecData/210614MSCHR\n"
=======
      "/Users/rebeccarafp/Documents/RapfLabPython/MassSpecData/210612MS\n"
>>>>>>> ac61088c0ec8863b7dd703fbef761aae4beda788
     ]
    }
   ],
   "source": [
    "##ScrapeMSData\n",
    "##Written by Rebecca Rapf\n",
    "##June 15, 2021\n",
    "\n",
    "###Read in csv's of MS files and export the useful bits for loading into Igor\n",
    "\n",
    "##import relevant libraries\n",
    "import pandas as pd\n",
    "import numpy as np\n",
    "import glob\n",
    "#import matplotlib as mpl\n",
    "#import matplotlib.pyplot as plt \n",
    "import os\n",
    "#import csv\n",
    "\n",
    "\n",
    "##Parameters to be changed for each analysis##\n",
<<<<<<< HEAD
    "FilePath = \"/Users/homefolder/Documents/RapfLab/code/MassSpecData/210614MSCHR\" ##currently local only, will change to read from google drive\n",
    "OutFolder = \"Processed\"\n",
    "FileType = \"csv\" #pick from \"xlsx\" or \"csv\"\n",
    "MSEnding = \"MS.csv\"\n",
    "CHREnding = \"CHR.csv\"\n",
=======
    "FilePath = \"/Users/rebeccarafp/Documents/RapfLabPython/MassSpecData/210612MS/\" ##currently local only, will change to read from google drive\n",
    "OutFolder = \"Processed\"\n",
    "FileType = \"csv\" #pick from \"xlsx\" or \"csv\"\n",
    "MSorCHR = \"MS\" #CHR\n",
>>>>>>> ac61088c0ec8863b7dd703fbef761aae4beda788
    "#Surfactant = \"myristic_300mMKCl\" #name of surfactant and/or conditions\n",
    "#StockConcSame = \"yes\" #\"yes\" or \"no\" if same concentration was used for each run\n",
    "\n",
    "\n",
    "##Set file path to where data is being held locally\n",
    "os.chdir(FilePath)\n",
    "print(os.getcwd())\n"
   ]
  },
  {
   "cell_type": "code",
<<<<<<< HEAD
   "execution_count": 31,
   "id": "669cc1de",
=======
   "execution_count": 25,
>>>>>>> ac61088c0ec8863b7dd703fbef761aae4beda788
   "metadata": {},
   "outputs": [
    {
     "name": "stdout",
     "output_type": "stream",
     "text": [
<<<<<<< HEAD
      "[]\n"
=======
      "['blank2_50C_MS.csv', 'blank3_50C_MS.csv', 'blank1_25C_MS.csv', 'OOA_50C_25uM_2_MS.csv', 'OOA_50C_54uM_2_empty_MS.csv', 'OOA_50C_75uM_2_MS.csv', 'OOA_50C_200uM_2_MS.csv', 'OOA_25C_3uM_2_MS.csv', 'OOA_25C_10uM_2_MS.csv', 'OOA_25C_25uM_2_MS.csv', 'OOA_25C_75uM_2_MS.csv', 'OOA_25C_200uM_2_MS.csv', 'OOApst_50C_5uL_MS.csv', 'OOApst_50C_10uL_MS.csv', 'OOApst_50C_20uL_MS.csv', 'OOApst_50C_30uL_MS.csv', 'OOApst_50C_50uL_MS.csv', 'OOApst_25C_15uL_MS.csv', 'OOApst_50C_15uL_MS.csv', 'OOA_50C_10uM_2_MS.csv', 'OOA_50C_3uM_2_MS.csv', 'OOA_25C_50uM_s2_MS.csv']\n"
>>>>>>> ac61088c0ec8863b7dd703fbef761aae4beda788
     ]
    }
   ],
   "source": [
    "files = sorted(glob.glob(\"*\"+FileType))\n",
    "files.sort(key=os.path.getmtime)\n",
    "print(files)\n",
    "\n",
    "num_files = len(files)\n",
    "\n",
    "#AllFiles = pd.DataFrame()\n",
    "\n",
    "\n",
    "\n",
    "for entry in range(len(files)):\n",
    "    name = files[entry]\n",
<<<<<<< HEAD
    "    #print(name[(-7):])\n",
    "    \n",
    "    if name[-len(CHREnding):] == CHREnding:\n",
    "        outname = name[:-(len(FileType)+5)]\n",
    "        #print(\"this is a chr file\")\n",
    "        if len(outname)>27:\n",
    "            print(\"skipping \"+outname)\n",
    "            entry+=1\n",
    "   \n",
    "        #if FileType == \"csv\":\n",
    "        CurrFile = pd.read_csv(files[entry],skiprows=1)\n",
    "        #print(CurrFile.columns)\n",
    "        IndFile = pd.DataFrame(columns = [\"rt_\"+outname,\"tic_\"+outname])\n",
    "        IndFile[\"rt_\"+outname] = CurrFile['X(Minutes)']\n",
    "        IndFile[\"tic_\"+outname] = CurrFile['Y(Counts)']\n",
    "        \n",
    "        IndFile.to_csv(\"../\"+OutFolder+\"/\"+outname+\"CHR_Processed.csv\")\n",
    "        #CurrFile = CurrFile.rename(columns={CurrFile.columns[3]: \"A_cm2\"})\n",
    "        #print(CurrFile.columns)\n",
    "        \n",
    "\n",
    "    elif name[-len(MSEnding):] == MSEnding:\n",
    "        #print(\"MS!\")\n",
    "        outname = name[:-(len(FileType)+4)]\n",
    "        if len(outname)>28:\n",
    "            print(\"skipping \"+outname)\n",
    "            entry+=1\n",
    "            \n",
    "    else:\n",
    "        print(\"wrong file label, look at this\")\n",
    "        print(name[entry])\n",
=======
    "    outname = name[:-(len(FileType)+4)] #CHR\n",
    "    if len(outname)>28: #>27\n",
    "        print(\"skipping \"+outname)\n",
    "        entry+=1\n",
>>>>>>> ac61088c0ec8863b7dd703fbef761aae4beda788
    "    #print(len(outname))\n",
    "    #print(outname)\n",
    "        \n",
    "        CurrFile = pd.read_csv(files[entry],skiprows=1)\n",
    "        #print(CurrFile.columns)\n",
    "        IndFile = pd.DataFrame(columns = [\"mz_\"+outname,\"c_\"+outname]) #for chromatographs RT and TIC\n",
    "        IndFile[\"mz_\"+outname] = CurrFile['X(Thompsons)']\n",
    "        IndFile[\"c_\"+outname] = CurrFile['Y(Counts)']\n",
    "        \n",
    "        IndFile.to_csv(\"../\"+OutFolder+\"/\"+outname+\"MS_Processed.csv\")\n",
    "        #CurrFile = CurrFile.rename(columns={CurrFile.columns[3]: \"A_cm2\"})\n",
    "        #print(CurrFile.columns)\n",
    "        \n",
    "#         #elif FileType == \"xlsx\":\n",
    "#             #print(\"change to csv\")\n",
    "# #         #CompFile = files[entry]\n",
    "# #         #print(CompFile)\n",
    "# #         CurrFile = pd.read_excel(files[entry],skiprows = header_length)\n",
    "# #         #print(CurrFile)\n",
    "# #         #print(\"excel\")\n",
    "# #         CurrFile = CurrFile.rename(columns={CurrFile.columns[3]: \"A_cm2\"})\n",
    "# #         CurrFile = CurrFile.rename(columns={CurrFile.columns[4]: \"MMA\"})\n",
    "# #         MMA = CurrFile[\"MMA\"]\n",
    "# #         #print(CurrFile)\n",
    "        \n",
    "# #         #MMACheck = CurrFile[\"MMA\"]\n",
    "# #         #print(CurrFile.iloc[0,4])\n",
    "# #         if np.isnan(CurrFile.iloc[0,4]) == True:\n",
    "# #             A_Ang2 = (CurrFile[\"A_cm2\"]*cm2_to_Ang2)\n",
    "# #             CurrFile.insert(4, \"A_Ang2\", A_Ang2)\n",
    "# #             MMA=CurrFile[\"A_Ang2\"]/NumMolecules\n",
    "# #             print(\"fixing\")\n",
    "        \n",
    "        \n",
    "# #         IndFile = pd.DataFrame(columns = [outname+\"_Acm2\",outname+\"_P\",outname+\"_MMA\"])\n",
    "# #         IndFile[outname+\"_Acm2\"]=CurrFile[\"A_cm2\"]\n",
    "# #         IndFile[outname+\"_P\"]=CurrFile[\"P1[mN/m]\"]\n",
    "# #         IndFile[outname+\"_MMA\"]=MMA\n",
    "        \n",
    "# #         AllFiles[outname+\"_Acm2\"]=CurrFile[\"A_cm2\"]\n",
    "# #         AllFiles[outname+\"_P\"]=CurrFile[\"P1[mN/m]\"]\n",
    "# #         AllFiles[outname+\"_MMA\"]=MMA\n",
    "        \n",
    "# #         IndFile.to_csv(\"../\"+OutFolder+\"/\"+outname+\"_Processed.csv\")\n",
    " \n",
    "# # AllFiles.to_csv(\"../\"+OutFolder+\"/\"+Surfactant+\"_AllProcessed.csv\")\n"
   ]
  },
  {
   "cell_type": "code",
   "execution_count": null,
   "metadata": {},
   "outputs": [],
   "source": []
  },
  {
   "cell_type": "code",
   "execution_count": null,
   "metadata": {},
   "outputs": [],
   "source": []
  }
 ],
 "metadata": {
  "kernelspec": {
   "display_name": "Python 3",
   "language": "python",
   "name": "python3"
  },
  "language_info": {
   "codemirror_mode": {
    "name": "ipython",
    "version": 3
   },
   "file_extension": ".py",
   "mimetype": "text/x-python",
   "name": "python",
   "nbconvert_exporter": "python",
   "pygments_lexer": "ipython3",
   "version": "3.8.3"
  }
 },
 "nbformat": 4,
 "nbformat_minor": 5
}
