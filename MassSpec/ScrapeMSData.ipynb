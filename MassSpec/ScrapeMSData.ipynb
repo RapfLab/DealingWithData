{
 "cells": [
  {
   "cell_type": "code",
   "execution_count": 24,
   "metadata": {},
   "outputs": [
    {
     "name": "stdout",
     "output_type": "stream",
     "text": [
      "/Users/rebeccarafp/Documents/RapfLabPython/MassSpecData/210612MS\n"
     ]
    }
   ],
   "source": [
    "##ScrapeMSData\n",
    "##Written by Rebecca Rapf\n",
    "##June 15, 2021\n",
    "\n",
    "###Read in csv's of MS files and export the useful bits for loading into Igor\n",
    "\n",
    "##import relevant libraries\n",
    "import pandas as pd\n",
    "import numpy as np\n",
    "import glob\n",
    "#import matplotlib as mpl\n",
    "#import matplotlib.pyplot as plt \n",
    "import os\n",
    "#import csv\n",
    "\n",
    "\n",
    "##Parameters to be changed for each analysis##\n",
    "FilePath = \"/Users/rebeccarafp/Documents/RapfLabPython/MassSpecData/210612MS/\" ##currently local only, will change to read from google drive\n",
    "OutFolder = \"Processed\"\n",
    "FileType = \"csv\" #pick from \"xlsx\" or \"csv\"\n",
    "MSorCHR = \"MS\" #CHR\n",
    "#Surfactant = \"myristic_300mMKCl\" #name of surfactant and/or conditions\n",
    "#StockConcSame = \"yes\" #\"yes\" or \"no\" if same concentration was used for each run\n",
    "\n",
    "\n",
    "##Set file path to where data is being held locally\n",
    "os.chdir(FilePath)\n",
    "print(os.getcwd())\n"
   ]
  },
  {
   "cell_type": "code",
   "execution_count": 25,
   "metadata": {},
   "outputs": [
    {
     "name": "stdout",
     "output_type": "stream",
     "text": [
      "['blank2_50C_MS.csv', 'blank3_50C_MS.csv', 'blank1_25C_MS.csv', 'OOA_50C_25uM_2_MS.csv', 'OOA_50C_54uM_2_empty_MS.csv', 'OOA_50C_75uM_2_MS.csv', 'OOA_50C_200uM_2_MS.csv', 'OOA_25C_3uM_2_MS.csv', 'OOA_25C_10uM_2_MS.csv', 'OOA_25C_25uM_2_MS.csv', 'OOA_25C_75uM_2_MS.csv', 'OOA_25C_200uM_2_MS.csv', 'OOApst_50C_5uL_MS.csv', 'OOApst_50C_10uL_MS.csv', 'OOApst_50C_20uL_MS.csv', 'OOApst_50C_30uL_MS.csv', 'OOApst_50C_50uL_MS.csv', 'OOApst_25C_15uL_MS.csv', 'OOApst_50C_15uL_MS.csv', 'OOA_50C_10uM_2_MS.csv', 'OOA_50C_3uM_2_MS.csv', 'OOA_25C_50uM_s2_MS.csv']\n"
     ]
    }
   ],
   "source": [
    "files = sorted(glob.glob(\"*\"+FileType))\n",
    "files.sort(key=os.path.getmtime)\n",
    "print(files)\n",
    "\n",
    "num_files = len(files)\n",
    "\n",
    "#AllFiles = pd.DataFrame()\n",
    "\n",
    "for entry in range(len(files)):\n",
    "    name = files[entry]\n",
    "    outname = name[:-(len(FileType)+4)] #CHR\n",
    "    if len(outname)>28: #>27\n",
    "        print(\"skipping \"+outname)\n",
    "        entry+=1\n",
    "    #print(len(outname))\n",
    "    #print(outname)\n",
    "    if FileType == \"csv\":\n",
    "        CurrFile = pd.read_csv(files[entry],skiprows=1)\n",
    "        #print(CurrFile.columns)\n",
    "        IndFile = pd.DataFrame(columns = [\"mz_\"+outname,\"c_\"+outname]) #for chromatographs RT and TIC\n",
    "        IndFile[\"mz_\"+outname] = CurrFile['X(Thompsons)']\n",
    "        IndFile[\"c_\"+outname] = CurrFile['Y(Counts)']\n",
    "        \n",
    "        IndFile.to_csv(\"../\"+OutFolder+\"/\"+outname+\"_Processed.csv\")\n",
    "        #CurrFile = CurrFile.rename(columns={CurrFile.columns[3]: \"A_cm2\"})\n",
    "        #print(CurrFile.columns)\n",
    "        \n",
    "    elif FileType == \"xlsx\":\n",
    "        print(\"change to csv\")\n",
    "#         #CompFile = files[entry]\n",
    "#         #print(CompFile)\n",
    "#         CurrFile = pd.read_excel(files[entry],skiprows = header_length)\n",
    "#         #print(CurrFile)\n",
    "#         #print(\"excel\")\n",
    "#         CurrFile = CurrFile.rename(columns={CurrFile.columns[3]: \"A_cm2\"})\n",
    "#         CurrFile = CurrFile.rename(columns={CurrFile.columns[4]: \"MMA\"})\n",
    "#         MMA = CurrFile[\"MMA\"]\n",
    "#         #print(CurrFile)\n",
    "        \n",
    "#         #MMACheck = CurrFile[\"MMA\"]\n",
    "#         #print(CurrFile.iloc[0,4])\n",
    "#         if np.isnan(CurrFile.iloc[0,4]) == True:\n",
    "#             A_Ang2 = (CurrFile[\"A_cm2\"]*cm2_to_Ang2)\n",
    "#             CurrFile.insert(4, \"A_Ang2\", A_Ang2)\n",
    "#             MMA=CurrFile[\"A_Ang2\"]/NumMolecules\n",
    "#             print(\"fixing\")\n",
    "        \n",
    "        \n",
    "#         IndFile = pd.DataFrame(columns = [outname+\"_Acm2\",outname+\"_P\",outname+\"_MMA\"])\n",
    "#         IndFile[outname+\"_Acm2\"]=CurrFile[\"A_cm2\"]\n",
    "#         IndFile[outname+\"_P\"]=CurrFile[\"P1[mN/m]\"]\n",
    "#         IndFile[outname+\"_MMA\"]=MMA\n",
    "        \n",
    "#         AllFiles[outname+\"_Acm2\"]=CurrFile[\"A_cm2\"]\n",
    "#         AllFiles[outname+\"_P\"]=CurrFile[\"P1[mN/m]\"]\n",
    "#         AllFiles[outname+\"_MMA\"]=MMA\n",
    "        \n",
    "#         IndFile.to_csv(\"../\"+OutFolder+\"/\"+outname+\"_Processed.csv\")\n",
    " \n",
    "# AllFiles.to_csv(\"../\"+OutFolder+\"/\"+Surfactant+\"_AllProcessed.csv\")\n"
   ]
  },
  {
   "cell_type": "code",
   "execution_count": null,
   "metadata": {},
   "outputs": [],
   "source": []
  },
  {
   "cell_type": "code",
   "execution_count": null,
   "metadata": {},
   "outputs": [],
   "source": []
  }
 ],
 "metadata": {
  "kernelspec": {
   "display_name": "Python 3",
   "language": "python",
   "name": "python3"
  },
  "language_info": {
   "codemirror_mode": {
    "name": "ipython",
    "version": 3
   },
   "file_extension": ".py",
   "mimetype": "text/x-python",
   "name": "python",
   "nbconvert_exporter": "python",
   "pygments_lexer": "ipython3",
   "version": "3.8.3"
  }
 },
 "nbformat": 4,
 "nbformat_minor": 5
}
